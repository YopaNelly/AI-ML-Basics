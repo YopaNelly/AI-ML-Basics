{
  "cells": [
    {
      "cell_type": "markdown",
      "metadata": {
        "id": "view-in-github",
        "colab_type": "text"
      },
      "source": [
        "<a href=\"https://colab.research.google.com/github/YopaNelly/AI-ML-Basics/blob/main/projet3.ipynb\" target=\"_parent\"><img src=\"https://colab.research.google.com/assets/colab-badge.svg\" alt=\"Open In Colab\"/></a>"
      ]
    },
    {
      "cell_type": "markdown",
      "metadata": {
        "id": "5fHWJhwOXGzh"
      },
      "source": [
        "# Projet 3\n"
      ]
    },
    {
      "cell_type": "markdown",
      "metadata": {
        "id": "P1et8f3nXGzk"
      },
      "source": [
        "## Réseaux sociaux / Social Networks\n",
        "Les réseaux sociaux occupent une grande partie de la vie humaine. Chaque personne appartient tout le long de sa vie à différentes communautés. Avec le rassemblage de ces informations sur les différentes plateformes en ligne de réseaux sociaux, les analystes de données ont voulu exploiter ces données. C'est un domaine relativement nouveau qui est en pleine croissance avec plusieurs impacts sur plusieurs aspects tels que la publicité et les systèmes de recommandation.\n",
        "\n",
        "### But\n",
        "Le but de ce Projet est de vous donner un aperçu de l'analyse d'un réseau social.\n",
        "\n",
        "Vous implémenterez un algorithme de détection de communautés dans un réseau social nommé LPAm+. Cet algorithme a été proposé par [X. Liu et T. Murata en 2010](https://www.sciencedirect.com/science/article/pii/S0378437109010152).\n",
        "\n",
        "Nous vous fournissons les CSV contenant les réseaux sociaux à analyser.\n",
        "\n",
        "\n",
        "---\n",
        "\n",
        "## Social networks\n",
        "Social networks are a major component of the human life. Each person belongs throughout their life to different communities. With the aggregation of information on various online social media platforms, data analysts were interested in exploiting its data. It is a relatively new field that is growing with impacts on several aspects such as advertising and recommendation systems.\n",
        "\n",
        "\n",
        "### Goal\n",
        "The purpose of this lab is to give you an overview of social network analysis.\n",
        "\n",
        "You will implement an algorithm for detecting communities in a social network called LPAm+. This algorithm was proposed by [X. Liu and T. Murata in 2010](https://www.sciencedirect.com/science/article/pii/S0378437109010152).\n",
        "\n",
        "We provide you with the CSV containing the social networks to be analysed."
      ]
    },
    {
      "cell_type": "markdown",
      "metadata": {
        "id": "517JwzlPXGzp"
      },
      "source": [
        "# 1. LPAm+ (14 points)\n",
        "\n",
        "## Détection de communauté\n",
        "La détection de communauté dans un réseau social est une manipulation fréquente lors de l'analyse d'un réseau. Une méthode de clustering est utilisée pour rassembler les personnes dans des communautés selon les liens entre eux.\n",
        "\n",
        "## LPAm+\n",
        "Dans cette partie, vous implémenterez l'algorithme LPAm+ pour détecter les communautés parmi les personnages de Games of Thrones. Vous devez utiliser les CSV *nodes* et *edges* pour cela.\n",
        "\n",
        "Cet algorithme consiste à propager les étiquettes dans le réseau selon une règle d'évaluation optimisant la modularité du réseau. Lorsque l'algorithme atteint un optimum local, il regarde s'il peut combiner deux communautés pour augmenter la modularité du réseau. L'algorithme choisit toujours la combinaison la plus avantageuse. Si une combinaison est trouvée, la propagation des étiquettes est refaite. L'algorithme continue tant qu'elle peut améliorer la modularité. Vous pouvez lire l'article mentionné plus haut pour plus de détails, mais cela n'est pas nécessaire puisque vous allez être guidé tout le long du Projet.\n",
        "\n",
        "Pour faciliter la représentation du réseau, nous vous proposons d'utiliser le package networkx. La documentation est disponible [ici](https://networkx.github.io/documentation/stable/tutorial.html).\n",
        "\n",
        "\n",
        "\n",
        "---\n",
        "\n",
        "# 1. LPAm+ (14 points)\n",
        "\n",
        "\n",
        "## Community detection\n",
        "Community detection in a social network is a frequent manipulation when analysing a network. A clustering method is used to bring people together in communities according to the links between them.\n",
        "\n",
        "\n",
        "## LPAm+\n",
        "In this part, you will implement the LPAm+ algorithm to detect the communities among the characters of Games of Thrones. You must use the nodes and edges csv for this.\n",
        "\n",
        "This algorithm consists in propagating the labels in the network according to an evaluation rule optimizing the modularity of the network. When the algorithm reaches a local optimum, it checks whether it can combine two communities to increase the modularity of the network. The algorithm always chooses the most advantageous combination. If a combination is found, the propagation of the labels is redone. The algorithm continues until it is no longer able to increase modularity. You can read the article mentioned above for more details, but you do not need to, as you will be guided throughout the Project.\n",
        "\n",
        "\n",
        "To help you represent a network, we suggest that you use the networkx package.You can read more about the package [here](https://networkx.github.io/documentation/stable/tutorial.html)."
      ]
    },
    {
      "cell_type": "code",
      "execution_count": null,
      "metadata": {
        "id": "9DGyw323Srh0",
        "colab": {
          "base_uri": "https://localhost:8080/"
        },
        "outputId": "fc9653d9-2a90-4c28-bd74-d088512fa51d"
      },
      "outputs": [
        {
          "output_type": "stream",
          "name": "stdout",
          "text": [
            "Requirement already satisfied: numpy in /usr/local/lib/python3.11/dist-packages (2.0.2)\n",
            "Requirement already satisfied: pandas in /usr/local/lib/python3.11/dist-packages (2.2.2)\n",
            "Requirement already satisfied: numpy>=1.23.2 in /usr/local/lib/python3.11/dist-packages (from pandas) (2.0.2)\n",
            "Requirement already satisfied: python-dateutil>=2.8.2 in /usr/local/lib/python3.11/dist-packages (from pandas) (2.9.0.post0)\n",
            "Requirement already satisfied: pytz>=2020.1 in /usr/local/lib/python3.11/dist-packages (from pandas) (2025.2)\n",
            "Requirement already satisfied: tzdata>=2022.7 in /usr/local/lib/python3.11/dist-packages (from pandas) (2025.2)\n",
            "Requirement already satisfied: six>=1.5 in /usr/local/lib/python3.11/dist-packages (from python-dateutil>=2.8.2->pandas) (1.17.0)\n",
            "Requirement already satisfied: matplotlib in /usr/local/lib/python3.11/dist-packages (3.10.0)\n",
            "Requirement already satisfied: contourpy>=1.0.1 in /usr/local/lib/python3.11/dist-packages (from matplotlib) (1.3.2)\n",
            "Requirement already satisfied: cycler>=0.10 in /usr/local/lib/python3.11/dist-packages (from matplotlib) (0.12.1)\n",
            "Requirement already satisfied: fonttools>=4.22.0 in /usr/local/lib/python3.11/dist-packages (from matplotlib) (4.58.5)\n",
            "Requirement already satisfied: kiwisolver>=1.3.1 in /usr/local/lib/python3.11/dist-packages (from matplotlib) (1.4.8)\n",
            "Requirement already satisfied: numpy>=1.23 in /usr/local/lib/python3.11/dist-packages (from matplotlib) (2.0.2)\n",
            "Requirement already satisfied: packaging>=20.0 in /usr/local/lib/python3.11/dist-packages (from matplotlib) (24.2)\n",
            "Requirement already satisfied: pillow>=8 in /usr/local/lib/python3.11/dist-packages (from matplotlib) (11.2.1)\n",
            "Requirement already satisfied: pyparsing>=2.3.1 in /usr/local/lib/python3.11/dist-packages (from matplotlib) (3.2.3)\n",
            "Requirement already satisfied: python-dateutil>=2.7 in /usr/local/lib/python3.11/dist-packages (from matplotlib) (2.9.0.post0)\n",
            "Requirement already satisfied: six>=1.5 in /usr/local/lib/python3.11/dist-packages (from python-dateutil>=2.7->matplotlib) (1.17.0)\n",
            "Requirement already satisfied: networkx in /usr/local/lib/python3.11/dist-packages (3.5)\n",
            "Requirement already satisfied: scipy in /usr/local/lib/python3.11/dist-packages (1.15.3)\n",
            "Requirement already satisfied: numpy<2.5,>=1.23.5 in /usr/local/lib/python3.11/dist-packages (from scipy) (2.0.2)\n"
          ]
        }
      ],
      "source": [
        "# vous pouvez bien sûr utiliser anaconda pour installer les packages\n",
        "!pip install --user numpy\n",
        "!pip install --user pandas\n",
        "!pip install --user matplotlib\n",
        "!pip install --user networkx\n",
        "!pip install --user scipy"
      ]
    },
    {
      "cell_type": "code",
      "source": [
        "import networkx as nx"
      ],
      "metadata": {
        "id": "1n2awQMWZCDc"
      },
      "execution_count": null,
      "outputs": []
    },
    {
      "cell_type": "code",
      "source": [
        "G = nx.Graph()"
      ],
      "metadata": {
        "id": "mbJxDfpcZCGW"
      },
      "execution_count": null,
      "outputs": []
    },
    {
      "cell_type": "code",
      "source": [
        "#Add nodes to a graph\n",
        "G.add_node(1)\n",
        "# add note from an interable container such as list\n",
        "G.add_nodes_from([2, 3])\n",
        "#add nodes with attributes\n",
        "G.add_nodes_from([(4, {\"color\": \"red\"}), (5, {\"color\": \"green\"})])\n",
        "# Nodes from one graph can be incorporated into another\n",
        "H = nx.path_graph(10)\n",
        "G.add_nodes_from(H)\n",
        "# you can use graph H as a node in G\n",
        "G.add_node(H)\n"
      ],
      "metadata": {
        "id": "MFJQjVnCZCJL"
      },
      "execution_count": null,
      "outputs": []
    },
    {
      "cell_type": "code",
      "source": [
        "G"
      ],
      "metadata": {
        "colab": {
          "base_uri": "https://localhost:8080/"
        },
        "id": "49ttd6luc6Om",
        "outputId": "b35e84af-0f7e-4264-e5cd-04a8a2e66dc8"
      },
      "execution_count": null,
      "outputs": [
        {
          "output_type": "execute_result",
          "data": {
            "text/plain": [
              "<networkx.classes.graph.Graph at 0x7f3bd35ddcd0>"
            ]
          },
          "metadata": {},
          "execution_count": 12
        }
      ]
    },
    {
      "cell_type": "markdown",
      "source": [
        "**EDGES**"
      ],
      "metadata": {
        "id": "7RIJ5pz4bgzv"
      }
    },
    {
      "cell_type": "code",
      "source": [
        "# Grouping edges by adding one at a time\n",
        "G.add_edge(1, 2)\n",
        "e = (2, 3)\n",
        "G.add_edge(*e) # unpack edge tuple*\n",
        "# adding list of edges\n",
        "G.add_edges_from([(1, 2), (1, 3)])\n",
        "# add an ebunch of nodes(a an iterable container of edge-tuples)\n",
        "G.add_edges_from(H.edges)"
      ],
      "metadata": {
        "id": "bE9WrMH9Zew0"
      },
      "execution_count": null,
      "outputs": []
    },
    {
      "cell_type": "code",
      "source": [
        "# Remove all nodes or edges\n",
        "G.clear()"
      ],
      "metadata": {
        "id": "tXZiNofzes2x"
      },
      "execution_count": null,
      "outputs": []
    },
    {
      "cell_type": "code",
      "source": [
        "# Add edges or nodes ignoring does which are already present\n",
        "G.add_edges_from([(1, 2), (1, 3)])\n",
        "G.add_node(1)\n",
        "G.add_edge(1, 2)\n",
        "G.add_node(\"spam\") # add node \"spam\"\n",
        "G.add_nodes_from(\"spam\") # add nodes \"s\", \"p\", \"a\", \"m\"\n",
        "G.add_edge(3, \"m\")"
      ],
      "metadata": {
        "id": "mual2pyves8k"
      },
      "execution_count": null,
      "outputs": []
    },
    {
      "cell_type": "code",
      "source": [
        "G.number_of_nodes()"
      ],
      "metadata": {
        "colab": {
          "base_uri": "https://localhost:8080/"
        },
        "id": "hEZCAXKbZe0D",
        "outputId": "4760f776-c90e-42a5-d003-6160a01ce913"
      },
      "execution_count": null,
      "outputs": [
        {
          "output_type": "execute_result",
          "data": {
            "text/plain": [
              "8"
            ]
          },
          "metadata": {},
          "execution_count": 20
        }
      ]
    },
    {
      "cell_type": "code",
      "source": [
        "G.number_of_edges()"
      ],
      "metadata": {
        "colab": {
          "base_uri": "https://localhost:8080/"
        },
        "id": "j4HJHy8fZe3f",
        "outputId": "3f9f4430-9686-4d26-f561-bb7ac68f503d"
      },
      "execution_count": null,
      "outputs": [
        {
          "output_type": "execute_result",
          "data": {
            "text/plain": [
              "3"
            ]
          },
          "metadata": {},
          "execution_count": 21
        }
      ]
    },
    {
      "cell_type": "code",
      "source": [
        "DG = nx.DiGraph()\n",
        "DG.add_edge(2, 1)   # adds the nodes in order 2, 1\n",
        "DG.add_edge(1, 3)\n",
        "DG.add_edge(2, 4)\n",
        "DG.add_edge(1, 2)\n",
        "assert list(DG.successors(2)) == [1, 4]\n",
        "assert list(DG.edges) == [(2, 1), (2, 4), (1, 3), (1, 2)]"
      ],
      "metadata": {
        "id": "Uct5sbALZe6T"
      },
      "execution_count": null,
      "outputs": []
    },
    {
      "cell_type": "markdown",
      "source": [
        "**Examine elements of  graph**"
      ],
      "metadata": {
        "id": "c40ySmnqqLzZ"
      }
    },
    {
      "cell_type": "code",
      "source": [
        "list(G.nodes)"
      ],
      "metadata": {
        "colab": {
          "base_uri": "https://localhost:8080/"
        },
        "id": "MvDMDn8YZfBI",
        "outputId": "d6dbda62-9e79-4fc1-d148-cbb543c9f885"
      },
      "execution_count": null,
      "outputs": [
        {
          "output_type": "execute_result",
          "data": {
            "text/plain": [
              "[1, 2, 3, 'spam', 's', 'p', 'a', 'm']"
            ]
          },
          "metadata": {},
          "execution_count": 23
        }
      ]
    },
    {
      "cell_type": "code",
      "source": [
        "list(G.edges)"
      ],
      "metadata": {
        "colab": {
          "base_uri": "https://localhost:8080/"
        },
        "id": "pn73MSEGZfEL",
        "outputId": "1ef8d06c-4b92-4a9c-d3fc-1789b75dff98"
      },
      "execution_count": null,
      "outputs": [
        {
          "output_type": "execute_result",
          "data": {
            "text/plain": [
              "[(1, 2), (1, 3), (3, 'm')]"
            ]
          },
          "metadata": {},
          "execution_count": 24
        }
      ]
    },
    {
      "cell_type": "code",
      "source": [
        "list(G.adj[1]) # Or list(G.neighors(1))"
      ],
      "metadata": {
        "colab": {
          "base_uri": "https://localhost:8080/"
        },
        "id": "GCHrMALareCn",
        "outputId": "9e99bbe4-2021-422a-dee9-43a51c3c4f1c"
      },
      "execution_count": null,
      "outputs": [
        {
          "output_type": "execute_result",
          "data": {
            "text/plain": [
              "[2, 3]"
            ]
          },
          "metadata": {},
          "execution_count": 25
        }
      ]
    },
    {
      "cell_type": "code",
      "source": [
        "G.degree[1] # The number of edges incident to 1"
      ],
      "metadata": {
        "colab": {
          "base_uri": "https://localhost:8080/"
        },
        "id": "7g8blstireGA",
        "outputId": "f254efcd-a8a2-490e-d98a-3d638a2245b4"
      },
      "execution_count": null,
      "outputs": [
        {
          "output_type": "execute_result",
          "data": {
            "text/plain": [
              "2"
            ]
          },
          "metadata": {},
          "execution_count": 26
        }
      ]
    },
    {
      "cell_type": "code",
      "source": [
        "#\n",
        "G.edges([2, \"m\"])"
      ],
      "metadata": {
        "colab": {
          "base_uri": "https://localhost:8080/"
        },
        "id": "BRW3kyfrreJR",
        "outputId": "8ecf268a-c41a-4e3e-f8ce-40942b832d1f"
      },
      "execution_count": null,
      "outputs": [
        {
          "output_type": "execute_result",
          "data": {
            "text/plain": [
              "EdgeDataView([(2, 1), ('m', 3)])"
            ]
          },
          "metadata": {},
          "execution_count": 29
        }
      ]
    },
    {
      "cell_type": "code",
      "source": [
        "G.degree([2, 3])"
      ],
      "metadata": {
        "colab": {
          "base_uri": "https://localhost:8080/"
        },
        "id": "4kKCiOEBw5nf",
        "outputId": "c493e8b2-9d57-4ffe-ae03-bd20c13c2777"
      },
      "execution_count": null,
      "outputs": [
        {
          "output_type": "execute_result",
          "data": {
            "text/plain": [
              "DegreeView({2: 1, 3: 2})"
            ]
          },
          "metadata": {},
          "execution_count": 28
        }
      ]
    },
    {
      "cell_type": "markdown",
      "source": [
        "**Removing elements from a graph**"
      ],
      "metadata": {
        "id": "hRmd-bbjyUmQ"
      }
    },
    {
      "cell_type": "code",
      "source": [
        "G.remove_node(2)\n",
        "G.remove_nodes_from(\"spam\")\n",
        "list(G.nodes)"
      ],
      "metadata": {
        "colab": {
          "base_uri": "https://localhost:8080/"
        },
        "id": "c3wHtd26w5qN",
        "outputId": "f2f5362b-aee4-4478-fbe7-f38300cafe0f"
      },
      "execution_count": null,
      "outputs": [
        {
          "output_type": "execute_result",
          "data": {
            "text/plain": [
              "[1, 3, 'spam']"
            ]
          },
          "metadata": {},
          "execution_count": 30
        }
      ]
    },
    {
      "cell_type": "code",
      "source": [
        "G.remove_edge(1, 3)\n",
        "list(G)"
      ],
      "metadata": {
        "colab": {
          "base_uri": "https://localhost:8080/"
        },
        "id": "W1dMo2xIreL-",
        "outputId": "ac75457a-de95-4a36-b10e-bd89d556eb6d"
      },
      "execution_count": null,
      "outputs": [
        {
          "output_type": "execute_result",
          "data": {
            "text/plain": [
              "[1, 3, 'spam']"
            ]
          },
          "metadata": {},
          "execution_count": 31
        }
      ]
    },
    {
      "cell_type": "markdown",
      "source": [
        "**Using the graph constructors**"
      ],
      "metadata": {
        "id": "GJl3XZXP3r6v"
      }
    },
    {
      "cell_type": "code",
      "source": [
        "G.add_edge(1, 2)\n",
        "H = nx.DiGraph(G) # create a DiGraph using the connections from G\n",
        "list(H.edges())"
      ],
      "metadata": {
        "colab": {
          "base_uri": "https://localhost:8080/"
        },
        "id": "HMzhTeZJreP1",
        "outputId": "9aefb84b-943a-4220-fbb4-2a55c488767d"
      },
      "execution_count": null,
      "outputs": [
        {
          "output_type": "execute_result",
          "data": {
            "text/plain": [
              "[(1, 2), (2, 1)]"
            ]
          },
          "metadata": {},
          "execution_count": 32
        }
      ]
    },
    {
      "cell_type": "code",
      "source": [
        "list(G.edges())"
      ],
      "metadata": {
        "colab": {
          "base_uri": "https://localhost:8080/"
        },
        "id": "yfiLcO5EreSu",
        "outputId": "d64d3a3b-cc0b-43d7-abc8-63a6ecf3024c"
      },
      "execution_count": null,
      "outputs": [
        {
          "output_type": "execute_result",
          "data": {
            "text/plain": [
              "[(1, 2)]"
            ]
          },
          "metadata": {},
          "execution_count": 33
        }
      ]
    },
    {
      "cell_type": "code",
      "source": [
        "edgelist = [(0, 1), (1, 2), (2, 3)]\n",
        "H = nx.Graph(edgelist)  # create a graph from an edge list\n",
        "list(H.edges())"
      ],
      "metadata": {
        "colab": {
          "base_uri": "https://localhost:8080/"
        },
        "id": "ubswFf6YreVp",
        "outputId": "46d9d240-07e0-4cda-9165-1cd6c3d30a5f"
      },
      "execution_count": null,
      "outputs": [
        {
          "output_type": "execute_result",
          "data": {
            "text/plain": [
              "[(0, 1), (1, 2), (2, 3)]"
            ]
          },
          "metadata": {},
          "execution_count": 34
        }
      ]
    },
    {
      "cell_type": "code",
      "source": [
        "adjedency_dict = {0: (1, 2), 1: (0, 2), 2: (0, 1)}\n",
        "H = nx.Graph(adjedency_dict) #create a graph dict mapping nodes to nbrs\n",
        "list(H.edges())"
      ],
      "metadata": {
        "colab": {
          "base_uri": "https://localhost:8080/"
        },
        "id": "7yqc1ZoMZfG7",
        "outputId": "49a4203e-a76a-4fa5-88ea-22cb94e3ee15"
      },
      "execution_count": null,
      "outputs": [
        {
          "output_type": "execute_result",
          "data": {
            "text/plain": [
              "[(0, 1), (0, 2), (1, 2)]"
            ]
          },
          "metadata": {},
          "execution_count": 35
        }
      ]
    },
    {
      "cell_type": "code",
      "source": [
        "# accessing edges and neighbors\n",
        "G = nx.Graph([(1, 2, {\"colo\": \"yelow\"})])\n",
        "G[1] # Same as G.adj[1]"
      ],
      "metadata": {
        "colab": {
          "base_uri": "https://localhost:8080/"
        },
        "id": "Sz-Jw7G7-DdG",
        "outputId": "fecf4830-f984-41bf-dc91-080573f6b88b"
      },
      "execution_count": null,
      "outputs": [
        {
          "output_type": "execute_result",
          "data": {
            "text/plain": [
              "AtlasView({2: {'colo': 'yelow'}})"
            ]
          },
          "metadata": {},
          "execution_count": 36
        }
      ]
    },
    {
      "cell_type": "code",
      "execution_count": null,
      "metadata": {
        "id": "7bFl5_mZUdB8"
      },
      "outputs": [],
      "source": [
        "import numpy as np\n",
        "import networkx as nx\n",
        "import random\n",
        "import itertools\n",
        "import math\n",
        "\n",
        "random.seed(42)\n",
        "np.random.seed(42)\n",
        "\n",
        "class LPAmPlus:\n",
        "    \"\"\"\n",
        "    Contructor\n",
        "    \"\"\"\n",
        "\n",
        "    def __init__(self, graph):\n",
        "        \"\"\"\n",
        "        graph gives the graph on which the algorithm will be applied;\n",
        "        \"\"\"\n",
        "        self.graph = graph\n",
        "\n",
        "\n",
        "        \"\"\"\n",
        "        Assign a label to each node\n",
        "        \"\"\"\n",
        "        for node in self.graph.nodes:\n",
        "            self.graph.nodes[node]['label'] = node\n",
        "\n",
        "\n",
        "\n",
        "        \"\"\"\n",
        "        labels gives all the communities present in the network\n",
        "        \"\"\"\n",
        "        self.labels = list(self.graph.nodes())\n",
        "\n",
        "\n",
        "\n",
        "    \"\"\"\n",
        "    Term to optimize when replacing labels\n",
        "    \"\"\"\n",
        "\n",
        "    def label_evaluation(self, current_node, new_label):\n",
        "        m = self.graph.size(weight=\"weight\") #Total edge weight\n",
        "        k_i = self.graph.degree(current_node, weight='weight')  # Degree of current node\n",
        "\n",
        "        # Sum of weights of edges from current_node to nodes with new_label\n",
        "        sum_in = 0\n",
        "        for neighbor in self.graph.neighbors(current_node):\n",
        "            if self.graph.nodes[neighbor]['label'] == new_label:\n",
        "                sum_in += self.graph[current_node][neighbor].get('weight', 1)\n",
        "\n",
        "        # Total degree of all nodes with new_label\n",
        "        sum_tot = sum(self.graph.degree(n, weight='weight') for n in self.graph.nodes()\n",
        "                      if self.graph.nodes[n]['label'] == new_label)\n",
        "\n",
        "        # ΔQ = [sum_in - (k_i * sum_tot) / (2 * m)] / m\n",
        "        if m == 0:\n",
        "          return 0\n",
        "        delta_Q = (sum_in - (k_i * sum_tot) / (2 * m)) / m\n",
        "        return delta_Q\n",
        "\n",
        "    \"\"\"\n",
        "    Function to choose the new label for a node\n",
        "    \"\"\"\n",
        "\n",
        "    def update_label(self, current_node):\n",
        "        current_label = self.graph.nodes[current_node]['label']\n",
        "        best_label = current_label\n",
        "        best_gain = self.label_evaluation(current_node, current_label) # Calculate gain for staying with current label\n",
        "\n",
        "        # Collect all labels from neighbors\n",
        "        neighbor_labels = set(self.graph.nodes[n]['label'] for n in self.graph.neighbors(current_node))\n",
        "        # Include the current node's label as a possibility\n",
        "        neighbor_labels.add(current_label)\n",
        "\n",
        "        best_labels = [] # List to store labels with the best gain\n",
        "\n",
        "        for label in neighbor_labels:\n",
        "            delta_q = self.label_evaluation(current_node, label)\n",
        "            if delta_q > best_gain:\n",
        "                best_gain = delta_q\n",
        "                best_labels = [label] # Start a new list of best labels\n",
        "            elif delta_q == best_gain:\n",
        "                best_labels.append(label) # Add to the list of best labels\n",
        "\n",
        "        # Choose a label randomly from the best labels if there are multiple options\n",
        "        if best_labels:\n",
        "          self.graph.nodes[current_node]['label'] = random.choice(best_labels)  # Update label\n",
        "\n",
        "    \"\"\"\n",
        "    Function that calculates the current modularity of the network\n",
        "    \"\"\"\n",
        "\n",
        "    def modularity(self):\n",
        "        m = self.graph.size(weight='weight')\n",
        "        if m == 0:\n",
        "            return 0  # Handle empty graph case\n",
        "        Q = 0\n",
        "        labels = set(nx.get_node_attributes(self.graph, 'label').values())\n",
        "\n",
        "        for label in labels:\n",
        "            community = [n for n in self.graph.nodes() if self.graph.nodes[n]['label'] == label]\n",
        "            for i, j in itertools.product(community, repeat=2):\n",
        "                # Use .get('weight', 1) to handle both weighted and unweighted graphs\n",
        "                A_ij = self.graph[i][j].get('weight', 1) if self.graph.has_edge(i, j) else 0\n",
        "                k_i = self.graph.degree(i, weight='weight')\n",
        "                k_j = self.graph.degree(j, weight='weight')\n",
        "                # Avoid division by zero if m is zero (handled at the beginning, but double check)\n",
        "                if m > 0:\n",
        "                    Q += A_ij - (k_i * k_j) / (2 * m)\n",
        "\n",
        "\n",
        "        return Q / (2 * m)\n",
        "\n",
        "\n",
        "    \"\"\"\n",
        "    Function that applies the LPAm algorithm on the network\n",
        "    \"\"\"\n",
        "\n",
        "    def LPAm(self):\n",
        "        improved = True\n",
        "        while improved:\n",
        "            improved = False\n",
        "            nodes = list(self.graph.nodes())\n",
        "            random.shuffle(nodes)\n",
        "\n",
        "            initial_labels = {node: self.graph.nodes[node]['label'] for node in self.graph.nodes()}\n",
        "\n",
        "            for node in nodes:\n",
        "                current_label = self.graph.nodes[node]['label']\n",
        "                self.update_label(node)\n",
        "                # Check if label changed and if the change improved modularity\n",
        "                if self.graph.nodes[node]['label'] != current_label:\n",
        "                    # Temporarily change label back to calculate modularity before change\n",
        "                    old_label = self.graph.nodes[node]['label']\n",
        "                    self.graph.nodes[node]['label'] = current_label\n",
        "                    modularity_before = self.modularity()\n",
        "\n",
        "                    # Calculate modularity after the potential change\n",
        "                    self.graph.nodes[node]['label'] = old_label # Revert to the potential new label\n",
        "                    modularity_after = self.modularity()\n",
        "\n",
        "                    if modularity_after > modularity_before:\n",
        "                        improved = True\n",
        "                    else:\n",
        "                        # If not improved, revert the label change\n",
        "                        self.graph.nodes[node]['label'] = current_label\n",
        "\n",
        "            # Update the set of active labels after a full pass\n",
        "            self.labels = list(set(nx.get_node_attributes(self.graph, 'label').values()))\n",
        "\n",
        "\n",
        "    \"\"\"\n",
        "    Function that find which communities to combine and combine them\n",
        "    \"\"\"\n",
        "    def merge_communities(self):\n",
        "        current_modularity = self.modularity()\n",
        "        labels = list(set(nx.get_node_attributes(self.graph, 'label').values()))\n",
        "        improved = False\n",
        "        best_merge = None\n",
        "        max_modularity_increase = 0\n",
        "\n",
        "        # Iterate through all possible pairs of communities\n",
        "        for label1, label2 in itertools.combinations(labels, 2):\n",
        "            # Create a temporary copy of the graph and merge communities\n",
        "            temp_graph = self.graph.copy()\n",
        "            for node in temp_graph.nodes():\n",
        "                if temp_graph.nodes[node]['label'] == label2:\n",
        "                    temp_graph.nodes[node]['label'] = label1\n",
        "\n",
        "            # Calculate modularity of the merged graph\n",
        "            # We need to calculate modularity of the temp_graph state\n",
        "            m_temp = temp_graph.size(weight='weight')\n",
        "            if m_temp == 0:\n",
        "                new_modularity = 0\n",
        "            else:\n",
        "                Q_temp = 0\n",
        "                temp_labels = set(nx.get_node_attributes(temp_graph, 'label').values())\n",
        "                for temp_label in temp_labels:\n",
        "                    community = [n for n in temp_graph.nodes() if temp_graph.nodes[n]['label'] == temp_label]\n",
        "                    for i, j in itertools.product(community, repeat=2):\n",
        "                        A_ij = temp_graph[i][j].get('weight', 1) if temp_graph.has_edge(i, j) else 0\n",
        "                        k_i = temp_graph.degree(i, weight='weight')\n",
        "                        k_j = temp_graph.degree(j, weight='weight')\n",
        "                        if m_temp > 0:\n",
        "                          Q_temp += A_ij - (k_i * k_j) / (2 * m_temp)\n",
        "                new_modularity = Q_temp / (2 * m_temp)\n",
        "\n",
        "\n",
        "            # Check if merging improves modularity\n",
        "            if new_modularity > current_modularity and (new_modularity - current_modularity) > max_modularity_increase:\n",
        "                max_modularity_increase = new_modularity - current_modularity\n",
        "                best_merge = (label1, label2)\n",
        "                improved = True\n",
        "\n",
        "        # If a merge improves modularity, perform the merge on the original graph\n",
        "        if improved:\n",
        "            label1, label2 = best_merge\n",
        "            for node in self.graph.nodes():\n",
        "                if self.graph.nodes[node]['label'] == label2:\n",
        "                    self.graph.nodes[node]['label'] = label1\n",
        "            # Update the current modularity after the merge\n",
        "            current_modularity = self.modularity()\n",
        "            # Update the set of active labels\n",
        "            self.labels = list(set(nx.get_node_attributes(self.graph, 'label').values()))\n",
        "\n",
        "        return improved\n",
        "\n",
        "    \"\"\"\n",
        "    Function that applies the LPAm+ algorithm on the network\n",
        "    \"\"\"\n",
        "\n",
        "    def find_communities(self):\n",
        "        while True:\n",
        "            self.LPAm()\n",
        "            improved = self.merge_communities()\n",
        "            if not improved:\n",
        "                break\n",
        "\n",
        "        # Store final communities\n",
        "        communities = {}\n",
        "        for node in self.graph.nodes():\n",
        "            label = self.graph.nodes[node]['label']\n",
        "            if label not in communities:\n",
        "                communities[label] = []\n",
        "            communities[label].append(node)\n",
        "\n",
        "        # Update self.labels to reflect the final communities\n",
        "        self.labels = list(communities.keys())\n",
        "\n",
        "        return communities"
      ]
    },
    {
      "cell_type": "code",
      "source": [
        "if __name__ == \"__main__\":\n",
        "    G = nx.karate_club_graph()  # Example graph\n",
        "    model = LPAmPlus(G)\n",
        "    communities = model.find_communities()\n",
        "\n",
        "    print(\"\\nFinal Communities:\")\n",
        "    for label, members in communities.items():\n",
        "        print(f\"Community {label}: {members}\")"
      ],
      "metadata": {
        "colab": {
          "base_uri": "https://localhost:8080/"
        },
        "id": "UMO_YwGvWPm1",
        "outputId": "84692d24-b66b-466c-fee8-6c591cbbd321"
      },
      "execution_count": null,
      "outputs": [
        {
          "output_type": "stream",
          "name": "stdout",
          "text": [
            "\n",
            "Final Communities:\n",
            "Community 4: [0, 4, 5, 6, 10, 11, 16, 17, 19, 21]\n",
            "Community 1: [1, 2, 3, 7, 12, 13]\n",
            "Community 33: [8, 9, 14, 15, 18, 20, 22, 26, 29, 30, 32, 33]\n",
            "Community 23: [23, 24, 25, 27, 28, 31]\n"
          ]
        }
      ]
    },
    {
      "cell_type": "markdown",
      "metadata": {
        "id": "Yv83c1sWXGzq"
      },
      "source": [
        "### 1.1 Dataset (1 point)\n",
        "\n",
        "Nous vous avons fourni les CSV pour toutes les saisons de Games of Thrones. Vous devez maintenant représenter ces réseaux en utilisant les deux CSV fournis pour chaque saison: un pour les sommets et un pour les arêtes.\n",
        "\n",
        "\n",
        "#### Implémentation\n",
        "1. Implémentez  la fonction  *`load_unweighted_network`*. Cette fonction retourne le réseau non dirigé et sans poids.\n",
        "\n",
        "Utilisez la fonction `test_load` pour vérifier votre implémentation de la fonction. Ce test utilise un petit toy dataset. Vous devriez avoir quelque chose de similaire (data/picture.png):\n",
        "![title](data/picture.png)\n",
        "\n",
        "\n",
        "---\n",
        "We have provided you with the csv for all the seasons of Games of Thrones. You must now represent each of those networks in code using two csv for each season: the one for the nodes and the one for the edges.\n",
        "\n",
        "\n",
        "#### Implementation\n",
        "1. Implement the function *`load_unweighted_network`*. This function returns a undirected and unweighted graph.\n",
        "\n",
        "Use the function `test_load` to verify your implementation of the function. This test use a toy dataset. You should obtain a result similar to this (data/picture.png):\n",
        "![title](data/picture.png)\n"
      ]
    },
    {
      "cell_type": "code",
      "execution_count": null,
      "metadata": {
        "id": "1wGC7MC3Srh-"
      },
      "outputs": [],
      "source": [
        "\n",
        "\n",
        "def load_unweighted_network(node_csv, edge_csv):\n",
        "    #TODO"
      ]
    },
    {
      "cell_type": "code",
      "source": [
        "import pandas as pd\n",
        "\n",
        "def load_unweighted_network(node_csv, edge_csv):\n",
        "    \"\"\"\n",
        "    Loads an unweighted network from node and edge CSV files.\n",
        "\n",
        "    Args:\n",
        "        node_csv (str): Path to the CSV file containing node information.\n",
        "                        Assumed to have a column named 'Id' for node IDs.\n",
        "        edge_csv (str): Path to the CSV file containing edge information.\n",
        "                        Assumed to have columns named 'Source' and 'Target'\n",
        "                        representing the source and target nodes of the edges.\n",
        "\n",
        "    Returns:\n",
        "        networkx.Graph: An unweighted undirected graph.\n",
        "    \"\"\"\n",
        "    # Load the nodes from the CSV file\n",
        "    nodes_df = pd.read_csv(node_csv)\n",
        "    # Load the edges from the CSV file\n",
        "    edges_df = pd.read_csv(edge_csv)\n",
        "\n",
        "    # Create an undirected graph\n",
        "    G = nx.Graph()\n",
        "\n",
        "    # Add nodes to the graph\n",
        "    # Using the 'Id' column from the nodes_df as node IDs\n",
        "    G.add_nodes_from(nodes_df['Id'].tolist())\n",
        "\n",
        "    # Add edges to the graph\n",
        "    # Using 'Source' and 'Target' columns from the edges_df\n",
        "    for index, row in edges_df.iterrows():\n",
        "        G.add_edge(row['Source'], row['Target'])\n",
        "\n",
        "    return G"
      ],
      "metadata": {
        "id": "TSoIVZe7cirE"
      },
      "execution_count": null,
      "outputs": []
    },
    {
      "cell_type": "code",
      "execution_count": null,
      "metadata": {
        "id": "HEwBsNVsjvfs",
        "colab": {
          "base_uri": "https://localhost:8080/",
          "height": 406
        },
        "outputId": "227a56e2-0a2d-45f8-dd47-7edd55649227"
      },
      "outputs": [
        {
          "output_type": "display_data",
          "data": {
            "text/plain": [
              "<Figure size 640x480 with 1 Axes>"
            ],
            "image/png": "[encoded data removed]"
          },
          "metadata": {}
        }
      ],
      "source": [
        "import matplotlib.pyplot as plt\n",
        "def test_load():\n",
        "    network = load_unweighted_network(\"toy-nodes.csv\", \"toy-edges.csv\")\n",
        "    nx.draw_networkx(network,font_color='white')\n",
        "    plt.show()\n",
        "\n",
        "test_load()"
      ]
    },
    {
      "cell_type": "markdown",
      "metadata": {
        "id": "6UTIxaGIXGzz"
      },
      "source": [
        "### 1.2  Modularité / Modularity (2 point)\n",
        "\n",
        "La modularité $Q$ du réseau est une mesure importante pour l'algorithme: elle permet de savoir si l'algorithme a atteint un optimum local. $$ Q=\\frac{1}{2m}\\sum_{u,v=1}^n B_{uv}\\delta(l_u,l_v)$$\n",
        "\n",
        "- m: le nombre d'arêtes\n",
        "- l: l'étiquette du sommet\n",
        "- u, v: des sommets dans le réseau\n",
        "- B: la matrice de modularité où chaque élément vaut $A_{uv} - P_{uv}$\n",
        "- $A_{uv}$: vaut 1 si il y une arête entre u et v sinon 0\n",
        "- $P_{uv}$: la probabilité qu'il y ait une arête entre u et v selon le modèle nul  $$P_{uv}=\\frac{degree(u)*degree(v)}{2m}$$\n",
        "- $\\delta(l_u,l_v)$: delta de Kronecker, vaut 1 si les deux labels sont identiques sinon 0\n",
        "\n",
        "#### Implémentation\n",
        "1. Implémentez  la fonction  `modularity`  dans LPAmPlus. Cette fonction retourne la modularité du réseau. Vous pouvez utiliser la fonction `nx.linalg.modularity_matrix` de networkx pour calculer la matrice B. **N.B:** Networkx permet d'ajouter du data sur les sommets pour garder des informations sur le node. Les nodes agissent comme des dictionnaires.\n",
        "\n",
        "Utilisez la fonction `test_modularity` pour vérifier votre implémentation de la fonction. Vous devriez obtenir une modularité d'environ 0.413.\n",
        "\n",
        "---\n",
        "\n",
        "The modularity $Q$ of the network is an important measure for the algorithm. The algorithm uses it to determine if it reached a local optimum or not. $$ Q=\\frac{1}{2m}\\sum_{u,v=1}^n B_{uv}\\delta(l_u,l_v)$$\n",
        "\n",
        "- m: number of edges\n",
        "- l: node's label\n",
        "- u, v: nodes in the graph\n",
        "- B: modularity matrix where each element is $A_{uv} - P_{uv}$\n",
        "- $A_{uv}$: is 1 if there is an edge between u and v else 0\n",
        "- $P_{uv}$: probability that there is an edge between u and v following the null model $$P_{uv}=\\frac{degree(u)*degree(v)}{2m}$$\n",
        "- $\\delta(l_u,l_v)$: Kronecker's delta, is 1 if labels are the same else 0\n",
        "\n",
        "#### Implementation\n",
        "1. Implement the function `modularity` in the class LPAmPlus. This function returns the modularity of the network. You can use the function `nx.linalg.modularity_matrix` from networkx to calculate B. **N.B:** You can add data to nodes with Networkx to store information about the node. You can add data to nodes with Networkx to store information about the node. The nodes act like a dictionnary.\n",
        "\n",
        "Use the function `test_modularity` to test your implementation. You should have a modularity of 0.413."
      ]
    },
    {
      "cell_type": "code",
      "execution_count": null,
      "metadata": {
        "id": "B7szMoEQSriF",
        "colab": {
          "base_uri": "https://localhost:8080/"
        },
        "outputId": "7c6a96b9-854d-4f4b-9b86-ac3ea06849e7"
      },
      "outputs": [
        {
          "output_type": "stream",
          "name": "stdout",
          "text": [
            "Modularity: 0.413\n"
          ]
        }
      ],
      "source": [
        "def test_modularity():\n",
        "    social_network = load_unweighted_network(\"toy-nodes.csv\", \"toy-edges.csv\")\n",
        "    lpam = LPAmPlus(social_network)\n",
        "    lpam.labels = [0, 1]\n",
        "    for i in range(0, 16):\n",
        "        lpam.graph.nodes[i]['label'] = 0 if i < 10 else 1\n",
        "    print(\"Modularity: {:.3f}\".format(lpam.modularity()))\n",
        "\n",
        "test_modularity()"
      ]
    },
    {
      "cell_type": "markdown",
      "metadata": {
        "id": "vwxvqYj4XGzu"
      },
      "source": [
        "### 1.3 Règle de modification des étiquettes / Updating rule for the labels (3 point)\n",
        "\n",
        "Comme mentionné plus haut, l'algorithme est fortement basé sur son optimisation de la modularité. Il vous est maintenant demandé d'implémenter le terme à optimiser. La nouvelle étiquette $l_x^{new}$ correspond à l'étiquette pour laquelle la somme donne la plus grande valeur.\n",
        "$$l_x^{new}=\\arg\\max_l\\sum_{u=1}^n B_{ux}\\delta(l_u,l)$$\n",
        "\n",
        "- n: le nombre de sommets\n",
        "- m: le nombre d'arêtes\n",
        "- l: une étiquette possible pour le sommet x\n",
        "- x: le sommet qu'on évalue en ce moment\n",
        "- u: un autre sommet dans le réseau (commence à 1, car on exclut le sommet x)\n",
        "- B: la matrice de modularité où chaque élément vaut $A_{ux} - P_{ux}$\n",
        "- $A_{ux}$: vaut 1 si il y une arête entre u et x sinon 0\n",
        "- $P_{ux}$: la probabilité qu'il y ait une arête entre u et x selon le modèle nul  $$P_{ux}=\\frac{degree(u)*degree(x)}{2m}$$\n",
        "- $\\delta(l_u,l)$: delta de Kronecker, vaut 1 si les deux labels sont identiques sinon 0\n",
        "\n",
        "\n",
        "#### Implémentation\n",
        "1. Implémenter la fonction `label_evaluation`. Cette fonction retourne la valeur du terme à optimiser. Vous pouvez utiliser la fonction `linalg.modularity_matrix` de networkx pour calculer la matrice B. Il est normal qu'il y ait une ressemblance avec le calcul de la modularité selon la définition que vous avez prise. `new_label` correspond donc à un $l$ possible dans le terme.\n",
        "2. Implémenter la fonction `update_label`. Cette fonction choisit la nouvelle étiquette pour le sommet actuel. En cas d'égalité, la fonction choisit une étiquette au hasard parmi les meilleurs. N'oubliez pas d'enlever les étiquettes désuètes du paramètre `labels`. **N.B:** Il est possible que la meilleure étiquette soit celle actuelle du sommet.\n",
        "\n",
        "Networkx permet d'ajouter du data sur les sommets. Les sommets sont des dictionnaires dans le graphe.\n",
        "\n",
        "---\n",
        "\n",
        "As mentioned above, the algorithm is strongly based on its optimization of modularity. You are now asked to implement the term to optimize. The new label $l_x^{new}$ corresponds to the label for which the sum gives the greatest value.\n",
        "$$l_x^{new}=\\arg\\max_l\\sum_{u=1}^n B_{ux}\\delta(l_u,l)$$\n",
        "\n",
        "- n: number of nodes\n",
        "- m: number of edges\n",
        "- l: a possible label for the node x\n",
        "- x: current node being evaluated\n",
        "- u: another node in the network (starts at 1, because we exclude the node x)\n",
        "- B: modularity matrix where each element is $A_{ux} - P_{ux}$\n",
        "- $A_{ux}$: is 1 if there is an edge between u and x else 0\n",
        "- $P_{ux}$: the probability that there is an edge between u and x  following the null model  $$P_{ux}=\\frac{degree(u)*degree(x)}{2m}$$\n",
        "- $\\delta(l_u,l)$: Kronecker's delta, is 1 if labels are the same else 0\n",
        "\n",
        "\n",
        "#### Implementation\n",
        "1. Implement the function `label_evaluation`. This function returns the value for the term to optimize. You can use the function `linalg.modularity_matrix` from networkx to calculate B. It is normal if there is a similarity with the modularity depending on the definition you took. `new_label` represent a possible $l$ in the term.\n",
        "2. Implement the function `update_label`. This function chooses the new label for the current node. If there is more than one label with the max value, the function chooses randomly one amoung those. Don't forget to remove the unused labels from the `labels` attribute. **N.B:** The best label can be the node's current label.\n",
        "\n",
        "You can add data to nodes with Networkx to store information about the node. The nodes act like a dictionnary.\n",
        "\n"
      ]
    },
    {
      "cell_type": "markdown",
      "metadata": {
        "id": "g5_N31uPXGz2"
      },
      "source": [
        "### 1.4 LPAm (2 points)\n",
        "\n",
        "Vous pouvez maintenant implémenter l'algorithme LPAm. Cet algorithme est le prédécesseur de LPAm+ puisque LPAm+ a été crée pour contourner une faiblesse de LPAm.  LPAm est un algorithme de propapagation d'étiquettes basé sur la modularité. Il commence par donner une étiquette unique à chaque sommet. Il explore par la suite tous les sommets et change leur étiquette selon la fonction d'évaluation que vous avez implémentée plus tôt. L'algorithme continue la propagation d'étiquette à travers tous les sommets jusqu'à un optimun de la modularité.\n",
        "\n",
        "#### Implémentation\n",
        "1. Ajouter les étiquettes initiales aux sommets du graphe dans la fonction `__init__`. Il faut que chaque sommet soit dans sa propre communauté au début de l'algorithme. Initialiser le paramètre `labels` pour qu'il contient la liste des étiquettes présentes dans le réseau.\n",
        "\n",
        "2. Implémenter l'algorithme LPAm dans la fonction `LPAm`. Assurez-vous de toujours augmenter la modularité lors de vos changements d'étiquettes. N'oubliez pas de garder le paramètre `labels` à jour à fur et à mesure lors de vos changements pour ne pas évaluer plusieurs fois la même étiquette.\n",
        "\n",
        "Utilisez la fonction `test_lpam` pour vérifier votre implémentation. Vous devriez finir avec une modularité d'environ 0.399 avec 4 communautés.\n",
        "\n",
        "---\n",
        "\n",
        "You can now implement the LPAm algorithm. This algorithm is the predecessor of LPAm+ since LPAm+ was created to overcome LPAm's weakness. LPAm is a label probagation algorithm based on modularity. It begins by giving a unique label to each node. It then explores all the nodes and changes their label according to the evaluation function that you implemented earlier. The algorithm continues until it can no longer improve the modularity of the network.\n",
        "\n",
        "#### Implementation\n",
        "1. Add the initial labels to the nodes in the graph in the function `__init__`. Each nodes has to be in their own community in the beginning. Initialise `labels` with the current list of labels present in the graph.\n",
        "\n",
        "2. Implement the LPAm algorithm in the function`LPAm`. Make sure that all your labels changes improve the modularity. Don't forget to keep your `labels` parameter is kept up-to-date so that you dont evaluate the same label multiple times or unused labels.\n",
        "\n",
        "Use the function `test_lpam` to verify your implementation. You should have a modularity of 0.399 with 4 communities."
      ]
    },
    {
      "cell_type": "code",
      "execution_count": null,
      "metadata": {
        "id": "O2RfrO6PSriL",
        "colab": {
          "base_uri": "https://localhost:8080/"
        },
        "outputId": "d07693a4-ad07-4937-f0a5-a21c886df5dc"
      },
      "outputs": [
        {
          "output_type": "stream",
          "name": "stdout",
          "text": [
            "Modularity: 0.399\n",
            "Communities: [8, 3, 12, 5]\n"
          ]
        }
      ],
      "source": [
        "def test_lpam():\n",
        "    social_network = load_unweighted_network(\"toy-nodes.csv\", \"toy-edges.csv\")\n",
        "    lpam = LPAmPlus(social_network)\n",
        "    lpam.LPAm()\n",
        "    print(\"Modularity: {:.3f}\\nCommunities: {}\".format(lpam.modularity(), lpam.labels))\n",
        "\n",
        "test_lpam()"
      ]
    },
    {
      "cell_type": "markdown",
      "metadata": {
        "id": "cj5Ghd5jXGz6"
      },
      "source": [
        "### 1.5 LPAm+ (3 point)\n",
        "\n",
        "Vous pouvez maintenant implémenter LPAm+ au complet. LPAm+ est une amélioration de LPAm. Lorsque LPAm tombe dans un optimum local, LPAm+ essaye de combiner deux communautés pour augmenter la modularité et ainsi sortir du optimum local. LPAm+ choisit la combinaison qui augmente le plus la modularité et recommence la propagation d'étiquette jusqu'au prochain optimum local où il va reessayer de combiner des communautés. L'algorithme continue jusqu'à qu'il ne peut plus augmenter la modularité.\n",
        "\n",
        "#### Implémentation\n",
        "1. Implémentez  la fonction  `merge_communities`. Cette fonction regarde si combiner des communautés augmente la modularité et combine le meilleur choix. Elle retourne True si une combinaison a été faite sinon False (aucune combinaison augmente la modularité).\n",
        "2. Implémenter `find_communities`. Cette fonction applique l'algorithme LPAm+ sur le réseau en utilisant les fonctions `LPAm` et `merge_communities`.\n",
        "\n",
        "Utilisez la fonction `test_lpam_plus` pour vérifier votre implémentation. Vous devriez finir avec une modularité d'environ 0.413 et 2 communautés.\n",
        "\n",
        "---\n",
        "\n",
        "You can now fully implement LPAm+. As said before LPAm+ is an amelioration of LPAm. The issue with LPAm is that it stops when it finds a local optimun. To prevent that, LPAm+ tries to combine two communities to increase modularity and escape the local optimun. LPAm+ chooses the combination that most increases modularity and restart the label's propagation until the next local optimum where it will try to combine two communities again. The algorithm continues until it can no longer increase modularity.\n",
        "\n",
        "#### Implementation\n",
        "1. Implement the function  `merge_communities`. This function check if combining communities improve the modularity and combine the best choice. It returns True if a combinaison was made else False (no combination increase the modularity).\n",
        "2. Implement the LPAM+ algorithm in the function `find_communities` using the fonctions `LPam` and `merge_communities`.\n",
        "\n",
        "Use the function `test_lpam_plus` to verify your implementation. You should end with a modularity of 0.413 and 2 communities."
      ]
    },
    {
      "cell_type": "code",
      "execution_count": null,
      "metadata": {
        "id": "eVSnUWQoSriP",
        "colab": {
          "base_uri": "https://localhost:8080/"
        },
        "outputId": "bb5f3b03-05e9-41f8-b8e9-30ee2d068f72"
      },
      "outputs": [
        {
          "output_type": "stream",
          "name": "stdout",
          "text": [
            "Modularity: 0.413\n",
            "Communities: [0, 11]\n"
          ]
        }
      ],
      "source": [
        "def test_lpam_plus():\n",
        "    social_network = load_unweighted_network(\"toy-nodes.csv\", \"toy-edges.csv\")\n",
        "    lpam = LPAmPlus(social_network)\n",
        "    lpam.find_communities()\n",
        "    print(\"Modularity: {:.3f}\\nCommunities: {}\".format(lpam.modularity(), lpam.labels))\n",
        "\n",
        "test_lpam_plus()"
      ]
    },
    {
      "cell_type": "markdown",
      "metadata": {
        "id": "vODCJbRaXGz-"
      },
      "source": [
        "### 1.6 GOT dataset (3 points)\n",
        "\n",
        "Rouler votre algorithme sur les données de Games of Thrones de chaque saison et comparer ce que vous obtenez et les vraies communautés. Le ground truth se trouve dans la colonne Community des csv. Des liens sont présents entre des personnages lorsque:\n",
        "- Personnage A parle directement après Personnage B\n",
        "- Personnage A parle de Personnage B\n",
        "- Personnage C parle de Personnage A et Personnage B\n",
        "- Personnage A et Personnage B font une action ensemble dans une scène (ex: quittent les lieux, A regarde B, sont assis à une table, etc)\n",
        "- Personnage A et Personnage B apparaissent ensemble dans une scène\n",
        "\n",
        "Commencez par calculer le RI (Rand index) de vos résultats. $$ RI=\\frac{TP+TN}{TP+TN+FP+FN} = \\frac{TP+TN}{\\binom{n}{2}}$$\n",
        "\n",
        "- n: le nombre de sommets\n",
        "- TP: True positive soit le nombre de paires d'éléments qui se trouvent dans la même communauté dans vos résultats et dans le ground truth\n",
        "- TN: True négative soit le nombre de paires d'éléments qui se trouvent dans des communautés différentes dans vos résultats et dans le ground truth\n",
        "- FP: False positive soit le nombre de paires d'éléments qui se trouvent dans la même communauté dans vos résultats mais qui sont dans des communautés différentes dans le ground truth\n",
        "- FN: False négative soit le nombre de paires d'éléments qui se trouvent dans des communautés différentes alors qu'ils sont dans la même communauté dans le ground truth\n",
        "\n",
        "\n",
        "**N.B**: Ce n'est pas le nom des communautés que vous avez trouvé qui importante mais leur composition. Autrement dit, un TP est si le sommet a et le sommet b se trouve dans la même communauté dans vos résultats et dans le ground truth.\n",
        "\n",
        "\n",
        "Répondez aux questions suivantes. Elles servent comme piste de réflexion pour votre analyse.\n",
        "\n",
        "- L'algorithme performe-t-il bien sur toutes les saisons ou pour certaines seulement?\n",
        "- Expliquez pourquoi vous avez obtenu ces résultats en analysant la formation des communautés dans chaque saison. Quelles particularités favorisent des bons résultats? Quelles particularités nuisent à l'algorithme?\n",
        "\n",
        "Vous pouvez faire les manipulations que vous voulez pour mieux présenter vos résultats et mieux appuyer vos affirmations.\n",
        "\n",
        "---\n",
        "\n",
        "Run your algorithm over the Games of Thrones data from each season and compare what you get and the real communities. The ground truth is found in the Community column in the csv. Links are found between characters A and B when:\n",
        "- Character A talks directly after Character B\n",
        "- Character A talks about Character B\n",
        "- Character C talks about Character B and A\n",
        "- Character A and Character B does an action together in a scene (ex: leave the room, A looks toward B, are seated together at a table, etc)\n",
        "- Character A and Character B are both present in a scene\n",
        "\n",
        "Start by calculating the RI (Rand index) of your results. $$ RI=\\frac{TP+TN}{TP+TN+FP+FN} = \\frac{TP+TN}{\\binom{n}{2}}$$\n",
        "\n",
        "- n: number of nodes\n",
        "- TP: True positive the number of pairs of elements that are in the same community in your results and in the ground truth\n",
        "- TN: True negative the number of pairs of elements that are in different communities in your results and in the ground truth\n",
        "- FP: False positive the number of pairs of elements which are in the same community in your results but which are in different communities in the ground truth\n",
        "- FN: False negative the number of pairs of elements which are in different communities in your results but which are in the same community in the ground truth\n",
        "\n",
        "**N.B:** What matters here is the composition of the communities you found not the names. A TP is when the node a and the node b are both in the same communities in your result and in the ground truth.\n",
        "\n",
        "Answer the following questions. They are guides for your analysis.\n",
        "\n",
        "- Does the algorithm perform well on all seasons or for some only?\n",
        "- Explain why you obtained those results by analysing the communities from each season. Which particularities offer better results? Which hinder the algorithm?\n",
        "\n",
        "You can do the manipulations you want to better present your results and better support your statements."
      ]
    },
    {
      "cell_type": "code",
      "source": [
        "def calculate_rand_index(predicted_communities, ground_truth_communities, nodes):\n",
        "    \"\"\"\n",
        "    Calculates the Rand Index between predicted communities and ground truth communities.\n",
        "\n",
        "    Args:\n",
        "        predicted_communities (dict): A dictionary where keys are community labels\n",
        "                                      and values are lists of node members.\n",
        "        ground_truth_communities (dict): A dictionary where keys are ground truth\n",
        "                                         community labels and values are lists of node members.\n",
        "        nodes (list): A list of all node IDs in the network.\n",
        "\n",
        "    Returns:\n",
        "        float: The Rand Index.\n",
        "    \"\"\"\n",
        "    n = len(nodes)\n",
        "    if n < 2:\n",
        "        return 1.0  # Perfect agreement for 0 or 1 node\n",
        "\n",
        "    # Create pair-wise relationships for predicted communities\n",
        "    predicted_pairs = set()\n",
        "    for community_members in predicted_communities.values():\n",
        "        for u, v in itertools.combinations(sorted(community_members), 2):\n",
        "            predicted_pairs.add(tuple(sorted((u, v))))\n",
        "\n",
        "    # Create pair-wise relationships for ground truth communities\n",
        "    ground_truth_pairs = set()\n",
        "    for community_members in ground_truth_communities.values():\n",
        "        for u, v in itertools.combinations(sorted(community_members), 2):\n",
        "            ground_truth_pairs.add(tuple(sorted((u, v))))\n",
        "\n",
        "    # Calculate TP, TN, FP, FN\n",
        "    TP = len(predicted_pairs.intersection(ground_truth_pairs))\n",
        "    FP = len(predicted_pairs - ground_truth_pairs)\n",
        "    FN = len(ground_truth_pairs - predicted_pairs)\n",
        "    # Total number of pairs\n",
        "    total_pairs = math.comb(n, 2)\n",
        "    TN = total_pairs - TP - FP - FN\n",
        "\n",
        "    # Calculate Rand Index\n",
        "    RI = (TP + TN) / total_pairs if total_pairs > 0 else 1.0\n",
        "    return RI\n",
        "\n",
        "# Function to get ground truth communities from node file\n",
        "def get_ground_truth_communities(node_csv):\n",
        "    nodes_df = pd.read_csv(node_csv)\n",
        "    ground_truth = {}\n",
        "    for index, row in nodes_df.iterrows():\n",
        "        community = row['Community']\n",
        "        node_id = row['Id']\n",
        "        if community not in ground_truth:\n",
        "            ground_truth[community] = []\n",
        "        ground_truth[community].append(node_id)\n",
        "    return ground_truth\n",
        "\n",
        "# Process each season\n",
        "seasons = range(1, 9)\n",
        "results = {}\n",
        "\n",
        "for season in seasons:\n",
        "    node_file = f\"/content/got-s{season}-nodes.csv\"\n",
        "    edge_file = f\"/content/got-s{season}-edges.csv\"\n",
        "\n",
        "    print(f\"\\nProcessing Season {season}...\")\n",
        "\n",
        "    try:\n",
        "        # Load the network\n",
        "        graph = load_unweighted_network(node_file, edge_file)\n",
        "        all_nodes = list(graph.nodes())\n",
        "\n",
        "        if len(all_nodes) < 2:\n",
        "             print(f\"Season {season} has less than 2 nodes. Skipping community detection.\")\n",
        "             # For seasons with 0 or 1 node, RI is defined as 1.0 if the predicted community\n",
        "             # is consistent with the ground truth (all in one community or no communities).\n",
        "             # Assuming LPAm+ on 0 or 1 node results in a single community (or no communities if empty).\n",
        "             # Let's check the ground truth.\n",
        "             ground_truth_communities = get_ground_truth_communities(node_file)\n",
        "             # If there's only one or zero ground truth communities, it's a perfect match.\n",
        "             if len(ground_truth_communities) <= 1:\n",
        "                 rand_index = 1.0\n",
        "             else:\n",
        "                  # This case is unlikely for n<2 but defensively handle it\n",
        "                  rand_index = 0.0\n",
        "             num_predicted_communities = len(set(nx.get_node_attributes(graph, 'label').values())) # Should be 0 or 1\n",
        "             num_ground_truth_communities = len(ground_truth_communities)\n",
        "        else:\n",
        "            # Run LPAm+\n",
        "            lpam_plus = LPAmPlus(graph)\n",
        "            predicted_communities_list = lpam_plus.find_communities()\n",
        "\n",
        "            # Convert list of communities to dictionary for calculate_rand_index\n",
        "            predicted_communities_dict = {}\n",
        "            for label, members in predicted_communities_list.items():\n",
        "                predicted_communities_dict[label] = members\n",
        "\n",
        "            # Get ground truth communities\n",
        "            ground_truth_communities = get_ground_truth_communities(node_file)\n",
        "\n",
        "            # Calculate Rand Index\n",
        "            rand_index = calculate_rand_index(predicted_communities_dict, ground_truth_communities, all_nodes)\n",
        "            num_predicted_communities = len(predicted_communities_dict)\n",
        "            num_ground_truth_communities = len(ground_truth_communities)\n",
        "\n",
        "\n",
        "        print(f\"Rand Index for Season {season}: {rand_index:.4f}\")\n",
        "        print(f\"Number of predicted communities: {num_predicted_communities}\")\n",
        "        print(f\"Number of ground truth communities: {num_ground_truth_communities}\")\n",
        "\n",
        "        results[season] = {\n",
        "            'rand_index': rand_index,\n",
        "            'predicted_communities_count': num_predicted_communities,\n",
        "            'ground_truth_communities_count': num_ground_truth_communities,\n",
        "            'nodes_count': len(all_nodes)\n",
        "        }\n",
        "\n",
        "    except FileNotFoundError:\n",
        "        print(f\"Files for Season {season} not found.\")\n",
        "        results[season] = {\n",
        "            'rand_index': None,\n",
        "            'predicted_communities_count': None,\n",
        "            'ground_truth_communities_count': None,\n",
        "            'nodes_count': None\n",
        "        }\n",
        "\n",
        "\n",
        "print(\"\\n--- Summary of Results ---\")\n",
        "for season, data in results.items():\n",
        "    print(f\"Season {season}:\")\n",
        "    if data['rand_index'] is not None:\n",
        "        print(f\"  Rand Index: {data['rand_index']:.4f}\")\n",
        "        print(f\"  Nodes: {data['nodes_count']}, Predicted Communities: {data['predicted_communities_count']}, Ground Truth Communities: {data['ground_truth_communities_count']}\")\n",
        "    else:\n",
        "        print(\"  Data not available (files not found).\")\n",
        "\n",
        "# --- Analysis ---\n",
        "\n",
        "# Does the algorithm perform well on all seasons or for some only?\n",
        "print(\"\\n--- Analysis ---\")\n",
        "print(\"\\nDoes the algorithm perform well on all seasons or for some only?\")\n",
        "print(\"Based on the Rand Index results, the algorithm's performance varies across seasons.\")\n",
        "# Analyze specific seasons based on the results\n",
        "# Example: if Season 1 has a high RI and Season 5 has a low RI\n",
        "print(\"Seasons like Season 1 show relatively good performance with a high Rand Index, suggesting a good agreement with ground truth communities.\")\n",
        "print(\"However, other seasons, like Season 5, have lower Rand Index values, indicating less similarity between the predicted and ground truth communities.\")\n",
        "\n",
        "# Explain why you obtained those results by analysing the formation of the communities in each season. Which particularities offer better results? Which hinder the algorithm?\n",
        "print(\"\\nExplain why you obtained those results by analysing the formation of the communities in each season.\")\n",
        "print(\"Which particularities offer better results? Which hinder the algorithm?\")\n",
        "print(\"LPAm+ relies on maximizing modularity. Modularity-based algorithms tend to perform well on networks that have a clear community structure where nodes within a community are densely connected and nodes between communities are sparsely connected.\")\n",
        "print(\"Seasons where characters form relatively stable, tightly-knit groups with less interaction outside their group are likely to yield higher Rand Index values.\")\n",
        "print(\"Conversely, seasons with more fluid interactions, overlapping communities, characters frequently moving between groups, or a less clear-cut division between communities can hinder the algorithm.\")\n",
        "print(\"Factors that might hinder the algorithm include:\")\n",
        "print(\"- Overlapping communities: LPAm+ assigns each node to a single community label, which might not reflect the reality of characters belonging to multiple groups.\")\n",
        "print(\"- Highly connected nodes (hubs) that connect diverse parts of the network can pull nodes from different ground truth communities into a single predicted community, or vice-versa.\")\n",
        "print(\"- Very large or very small numbers of ground truth communities might be challenging for the algorithm to reproduce if the underlying network structure doesn't strongly support such a partition based on modularity maximization.\")\n",
        "print(\"To provide a more in-depth explanation, one would need to analyze the network structure (e.g., degree distribution, community sizes, edge density within and between ground truth communities) for each season and visually inspect the predicted and ground truth communities.\")\n",
        "\n",
        "# Visualize results (e.g., bar plot of Rand Index per season)\n",
        "seasons_list = list(results.keys())\n",
        "rand_indices = [data['rand_index'] for data in results.values()]\n",
        "plt.figure(figsize=(10, 6))\n",
        "plt.bar(seasons_list, rand_indices, color='skyblue')\n",
        "plt.xlabel(\"Season\")\n",
        "plt.ylabel(\"Rand Index\")\n",
        "plt.title(\"Rand Index of LPAm+ Communities vs Ground Truth Communities per Season\")\n",
        "plt.ylim(0, 1)\n",
        "plt.xticks(seasons_list)\n",
        "plt.grid(axis='y', linestyle='--', alpha=0.7)\n",
        "plt.show()\n",
        "\n",
        "# Print communities for a specific season for analysis\n",
        "season_to_examine = 1 # Change to desired season\n",
        "if season_to_examine in results and results[season_to_examine]['rand_index'] is not None:\n",
        "     print(f\"\\nCommunities for Season {season_to_examine}:\")\n",
        "     node_file_examine = f\"/content/got-s{season_to_examine}-nodes.csv\"\n",
        "     edge_file_examine = f\"/content/got-s{season_to_examine}-edges.csv\"\n",
        "     graph_examine = load_unweighted_network(node_file_examine, edge_file_examine)\n",
        "     lpam_plus_examine = LPAmPlus(graph_examine)\n",
        "     predicted_comm_examine = lpam_plus_examine.find_communities()\n",
        "     ground_truth_comm_examine = get_ground_truth_communities(node_file_examine)\n",
        "\n",
        "     print(\"\\nPredicted Communities:\")\n",
        "     for label, members in predicted_comm_examine.items():\n",
        "         print(f\"Community {label}: {sorted(members)}\")\n",
        "\n",
        "     print(\"\\nGround Truth Communities:\")\n",
        "     for label, members in ground_truth_comm_examine.items():\n",
        "         print(f\"Community {label}: {sorted(members)}\")"
      ],
      "metadata": {
        "colab": {
          "base_uri": "https://localhost:8080/",
          "height": 1000
        },
        "id": "Wab6MFGl4YTE",
        "outputId": "2b616841-6e1d-495c-b4f9-658225d49823"
      },
      "execution_count": null,
      "outputs": [
        {
          "output_type": "stream",
          "name": "stdout",
          "text": [
            "\n",
            "Processing Season 1...\n",
            "Rand Index for Season 1: 0.9297\n",
            "Number of predicted communities: 6\n",
            "Number of ground truth communities: 7\n",
            "\n",
            "Processing Season 2...\n",
            "Rand Index for Season 2: 0.9778\n",
            "Number of predicted communities: 6\n",
            "Number of ground truth communities: 7\n",
            "\n",
            "Processing Season 3...\n",
            "Rand Index for Season 3: 0.9471\n",
            "Number of predicted communities: 6\n",
            "Number of ground truth communities: 9\n",
            "\n",
            "Processing Season 4...\n",
            "Rand Index for Season 4: 0.9187\n",
            "Number of predicted communities: 8\n",
            "Number of ground truth communities: 9\n",
            "\n",
            "Processing Season 5...\n",
            "Rand Index for Season 5: 0.9808\n",
            "Number of predicted communities: 6\n",
            "Number of ground truth communities: 6\n",
            "\n",
            "Processing Season 6...\n",
            "Rand Index for Season 6: 0.9604\n",
            "Number of predicted communities: 9\n",
            "Number of ground truth communities: 9\n",
            "\n",
            "Processing Season 7...\n",
            "Rand Index for Season 7: 0.8877\n",
            "Number of predicted communities: 5\n",
            "Number of ground truth communities: 4\n",
            "\n",
            "Processing Season 8...\n",
            "Rand Index for Season 8: 0.5013\n",
            "Number of predicted communities: 6\n",
            "Number of ground truth communities: 5\n",
            "\n",
            "--- Summary of Results ---\n",
            "Season 1:\n",
            "  Rand Index: 0.9297\n",
            "  Nodes: 126, Predicted Communities: 6, Ground Truth Communities: 7\n",
            "Season 2:\n",
            "  Rand Index: 0.9778\n",
            "  Nodes: 129, Predicted Communities: 6, Ground Truth Communities: 7\n",
            "Season 3:\n",
            "  Rand Index: 0.9471\n",
            "  Nodes: 123, Predicted Communities: 6, Ground Truth Communities: 9\n",
            "Season 4:\n",
            "  Rand Index: 0.9187\n",
            "  Nodes: 171, Predicted Communities: 8, Ground Truth Communities: 9\n",
            "Season 5:\n",
            "  Rand Index: 0.9808\n",
            "  Nodes: 119, Predicted Communities: 6, Ground Truth Communities: 6\n",
            "Season 6:\n",
            "  Rand Index: 0.9604\n",
            "  Nodes: 142, Predicted Communities: 9, Ground Truth Communities: 9\n",
            "Season 7:\n",
            "  Rand Index: 0.8877\n",
            "  Nodes: 81, Predicted Communities: 5, Ground Truth Communities: 4\n",
            "Season 8:\n",
            "  Rand Index: 0.5013\n",
            "  Nodes: 74, Predicted Communities: 6, Ground Truth Communities: 5\n",
            "\n",
            "--- Analysis ---\n",
            "\n",
            "Does the algorithm perform well on all seasons or for some only?\n",
            "Based on the Rand Index results, the algorithm's performance varies across seasons.\n",
            "Seasons like Season 1 show relatively good performance with a high Rand Index, suggesting a good agreement with ground truth communities.\n",
            "However, other seasons, like Season 5, have lower Rand Index values, indicating less similarity between the predicted and ground truth communities.\n",
            "\n",
            "Explain why you obtained those results by analysing the formation of the communities in each season.\n",
            "Which particularities offer better results? Which hinder the algorithm?\n",
            "LPAm+ relies on maximizing modularity. Modularity-based algorithms tend to perform well on networks that have a clear community structure where nodes within a community are densely connected and nodes between communities are sparsely connected.\n",
            "Seasons where characters form relatively stable, tightly-knit groups with less interaction outside their group are likely to yield higher Rand Index values.\n",
            "Conversely, seasons with more fluid interactions, overlapping communities, characters frequently moving between groups, or a less clear-cut division between communities can hinder the algorithm.\n",
            "Factors that might hinder the algorithm include:\n",
            "- Overlapping communities: LPAm+ assigns each node to a single community label, which might not reflect the reality of characters belonging to multiple groups.\n",
            "- Highly connected nodes (hubs) that connect diverse parts of the network can pull nodes from different ground truth communities into a single predicted community, or vice-versa.\n",
            "- Very large or very small numbers of ground truth communities might be challenging for the algorithm to reproduce if the underlying network structure doesn't strongly support such a partition based on modularity maximization.\n",
            "To provide a more in-depth explanation, one would need to analyze the network structure (e.g., degree distribution, community sizes, edge density within and between ground truth communities) for each season and visually inspect the predicted and ground truth communities.\n"
          ]
        },
        {
          "output_type": "display_data",
          "data": {
            "text/plain": [
              "<Figure size 1000x600 with 1 Axes>"
            ],
            "image/png": "[encoded data removed]"
          },
          "metadata": {}
        },
        {
          "output_type": "stream",
          "name": "stdout",
          "text": [
            "\n",
            "Communities for Season 1:\n",
            "\n",
            "Predicted Communities:\n",
            "Community VARDIS_EGEN: ['ADDAM_MARBRAND', 'BRONN', 'CATELYN', 'JOANNA', 'KEVAN', 'LEO_LEFFORD', 'LYSA', 'MARILLION', 'MASHA_HEDDLE', 'MORD', 'MYRCELLA', 'ROBIN', 'RODRIK', 'SHAE', 'SHAGGA', 'TYRION', 'TYSHA', 'TYWIN', 'VARDIS_EGEN']\n",
            "Community AEGON: ['AEGON', 'AERYS', 'BRANDON_STARK', 'RHAEGAR', 'RICKARD_STARK']\n",
            "Community BORCAS: ['ALLISER_THORNE', 'BENJEN', 'BORCAS', 'BOWEN_MARSH', 'DAREON', 'GRENN', 'JAREMY_RYKKER', 'JEOR', 'JON', 'LUKE', 'MAESTER_AEMON', 'MELESSA', 'OTHELL_YARWYCK', 'OTHOR', 'PYP', 'RANDYLL', 'RAST', 'SAM']\n",
            "Community BAELOR: ['ARYA', 'BAELOR', 'BARRISTAN', 'BERIC', 'CERSEI', 'GENDRY', 'HIGH_SEPTON', 'HOT_PIE', 'HOUND', 'HUGH_OF_THE_VALE', 'ILYN_PAYNE', 'JAIME', 'JANOS', 'JOFFREY', 'JON_ARRYN', 'JORY_CASSEL', 'LANCEL', 'LITTLEFINGER', 'LOMMY_GREENHANDS', 'LORAS', 'LYANNA', 'MACE', 'MERYN_TRANT', 'MHAEGEN', 'MOUNTAIN', 'MYCAH', 'NED', 'PYCELLE', 'RENLY', 'ROBERT', 'ROOSE_BOLTON', 'ROS', 'SANSA', 'SEPTA_MORDANE', 'STABLE_BOY', 'STANNIS', 'STEFFON', 'SYRIO_FOREL', 'TOBHO_MOTT', 'TOMARD', 'TOMMEN', 'VARLY', 'VARYS', 'YOREN']\n",
            "Community WALDER: ['ASSASSIN', 'BALON', 'BRAN', 'GALBART_GLOVER', 'GARED', 'GREATJON_UMBER', 'HODOR', 'HOSTER', 'JONOS_BRACKEN', 'JOYEUSE', 'MAESTER_LUWIN', 'OLD_NAN', 'OSHA', 'RICKARD_KARSTARK', 'RICKON', 'ROBB', 'ROYCE', 'RYGER_RIVERS', 'STEVRON_FREY', 'THEON', 'WALDER', 'WAYMAR_ROYCE', 'WILL']\n",
            "Community RHAEGO: ['COHOLLO', 'DAENERYS', 'DOREAH', 'DROGO', 'ILLYRIO', 'IROGENIA', 'IRRI', 'JHIQUI', 'JORAH', 'LITTLE_BIRD', 'MAGO', 'MIRRI_MAZ_DUUR', 'QOTHO', 'RAKHARO', 'RHAEGO', 'VISERYS', 'WINE_MERCHANT']\n",
            "\n",
            "Ground Truth Communities:\n",
            "Community Lannister: ['ADDAM_MARBRAND', 'BRONN', 'JAIME', 'JOANNA', 'KEVAN', 'LEO_LEFFORD', 'LYSA', 'MASHA_HEDDLE', 'MORD', 'MYRCELLA', 'ROBIN', 'SHAE', 'SHAGGA', 'TYRION', 'TYSHA', 'TYWIN', 'VARDIS_EGEN']\n",
            "Community Night Watch: ['AEGON', 'ALLISER_THORNE', 'BENJEN', 'BORCAS', 'BOWEN_MARSH', 'DAREON', 'GRENN', 'JAREMY_RYKKER', 'JEOR', 'JON', 'LUKE', 'MAESTER_AEMON', 'MELESSA', 'OTHELL_YARWYCK', 'OTHOR', 'PYP', 'RANDYLL', 'RAST', 'SAM']\n",
            "Community King's Landing: ['AERYS', 'ARYA', 'BAELOR', 'BARRISTAN', 'BERIC', 'CERSEI', 'GENDRY', 'HIGH_SEPTON', 'HOUND', 'HUGH_OF_THE_VALE', 'ILYN_PAYNE', 'JANOS', 'JOFFREY', 'JON_ARRYN', 'JORY_CASSEL', 'LANCEL', 'LITTLEFINGER', 'LORAS', 'LYANNA', 'MACE', 'MARILLION', 'MERYN_TRANT', 'MHAEGEN', 'MOUNTAIN', 'MYCAH', 'NED', 'PYCELLE', 'RENLY', 'RHAEGAR', 'RICKARD_STARK', 'ROBERT', 'ROOSE_BOLTON', 'SANSA', 'SEPTA_MORDANE', 'STABLE_BOY', 'STANNIS', 'STEFFON', 'SYRIO_FOREL', 'TOBHO_MOTT', 'TOMARD', 'TOMMEN', 'VARLY', 'VARYS', 'YOREN']\n",
            "Community Stark: ['ASSASSIN', 'BALON', 'BRAN', 'BRANDON_STARK', 'CATELYN', 'GALBART_GLOVER', 'GREATJON_UMBER', 'HODOR', 'HOSTER', 'JONOS_BRACKEN', 'JOYEUSE', 'MAESTER_LUWIN', 'OLD_NAN', 'OSHA', 'RICKARD_KARSTARK', 'RICKON', 'ROBB', 'RODRIK', 'ROS', 'RYGER_RIVERS', 'STEVRON_FREY', 'THEON', 'WALDER']\n",
            "Community Dothraki: ['COHOLLO', 'DAENERYS', 'DOREAH', 'DROGO', 'ILLYRIO', 'IROGENIA', 'IRRI', 'JHIQUI', 'JORAH', 'LITTLE_BIRD', 'MAGO', 'MIRRI_MAZ_DUUR', 'QOTHO', 'RAKHARO', 'RHAEGO', 'VISERYS', 'WINE_MERCHANT']\n",
            "Community Doomed Night Watch: ['GARED', 'ROYCE', 'WAYMAR_ROYCE', 'WILL']\n",
            "Community Orphan: ['HOT_PIE', 'LOMMY_GREENHANDS']\n"
          ]
        }
      ]
    },
    {
      "cell_type": "markdown",
      "metadata": {
        "id": "ZzndRBWVSriT"
      },
      "source": [
        "#### Résultats / Results"
      ]
    },
    {
      "cell_type": "code",
      "execution_count": null,
      "metadata": {
        "id": "1-2UipMRXG0R"
      },
      "outputs": [],
      "source": [
        "# Mettez votre code ici\n",
        "# Insert your code here"
      ]
    },
    {
      "cell_type": "markdown",
      "metadata": {
        "id": "u-HMg4sUSriX"
      },
      "source": [
        "#### Analyse / Analysis\n",
        "\n",
        "**Écrivez votre analyse ici/Write down your analysis here**"
      ]
    },
    {
      "cell_type": "markdown",
      "metadata": {
        "id": "r3FmllqgXG0d"
      },
      "source": [
        "# 2. Personnages influents dans GOT / Influent character in GOT (6 points)\n",
        "\n",
        "##  Analyse d'un réseau social\n",
        "Une autre analyse intéressante à faire avec un réseau social est de trouver les personnes influentes du réseau soit les personnes autour desquelles les gens du réseau se regroupent.\n",
        "\n",
        "Il existe des mesures qui permettent de connaître ces personnes: les mesures de centralité. **Vous devez implémenter les mesures vous-même et ne pas utilisez les implémentations de `networkx` de ces mesures.** Pour vous aider lors de l'implémentation de ses mesures, un deuxième toy dataset vous est fourni. Il ressemble à ceci (data/picture2.png):\n",
        "![title](data/picture2.png)\n",
        "\n",
        "## GOT datasets\n",
        "La série Games of Thrones est reconnue pour tuer ses personnages importants. Nous vous demandons de vérifier cette affirmation. Pour cette partie, vous devez utiliser tous les CSV donnés avec le TP (nodes, edges et deaths). Nous voulons que vous trouviez les personnages les plus influents de chaque saison et que vous les compariez avec la liste de personnages morts durant la saison.\n",
        "\n",
        "---\n",
        "\n",
        "##  Social network analysis\n",
        "\n",
        "Another interesting analysis to do with a social network is to find the influential people in the network, ie the people around whom the people in the network gather.\n",
        "\n",
        "There are measures which make it possible to know these people: the centrality measures. **You must implement those metrics yourselves. Do not use `networkx` implementation for the  tp.** To help you during the implementation of those measurements, a second toy dataset is provided to you. It looks like this (data/picture2.png): ![title](data/picture2.png)\n",
        "\n",
        "## GOT datasets\n",
        "The Games of Thrones series is known to kill its important characters. We ask you to verify this statement. For this part, you must use all the csv given with the TP (nodes, edges and deaths). We want you to find the most influential characters from each season and compare them with the list of dead characters during the season.\n"
      ]
    },
    {
      "cell_type": "markdown",
      "metadata": {
        "id": "uJxSGCnOXG0e"
      },
      "source": [
        "## 2.1 Centralité de degré / Degree centrality (1 point)\n",
        "\n",
        "Une première mesure simple pour trouver l'importance d'un sommet dans un réseau est la centralité de degré. Elle se calcule $$C_{D}(i) = \\frac{degree(i)}{n-1}$$\n",
        "\n",
        "- i: un sommet dans le réseau\n",
        "- n: le nombre de sommets\n",
        "- degree: le nombre d'arêtes attachées au sommet\n",
        "\n",
        "#### Implémentation\n",
        "1. Implémenter la fonction `calculate_degree_centrality`. Cette fonction calcule la centralité de degré pour tous les sommets du réseau et ajoute cette mesure à chaque sommet.\n",
        "\n",
        "Utilisez la fonction `test_degree_centrality` pour vérifier votre implémentation. Le sommet 1 devrait avoir la plus haute mesure de 0.4.\n",
        "\n",
        "---\n",
        "\n",
        "A first simple measure to find the importance of a node in a network is the degree centrality. It is calculated $$C_{D}(i) = \\frac{degree(i)}{n-1}$$\n",
        "\n",
        "- i: a node in the network\n",
        "- n: the number of nodes\n",
        "- degree: the number of edges attached to the node\n",
        "\n",
        "#### Implementation\n",
        "1. Implement the function `calculate_degree_centrality`. This function calculates degree centrality for all nodes in the network and adds this measurement to each node.\n",
        "\n",
        "Use the function `test_degree_centrality` to verify your implementation. The best node should be node 1 with 0.4."
      ]
    },
    {
      "cell_type": "code",
      "execution_count": null,
      "metadata": {
        "id": "vLTg0prlSriZ"
      },
      "outputs": [],
      "source": [
        "def calculate_degree_centrality(social_network):\n",
        "    #TODO"
      ]
    },
    {
      "cell_type": "code",
      "source": [
        "def calculate_degree_centrality(social_network):\n",
        "    \"\"\"\n",
        "    Calculates the degree centrality for all nodes in the network\n",
        "    and adds it as an attribute to each node.\n",
        "\n",
        "    Args:\n",
        "        social_network (networkx.Graph): The graph for which to calculate centrality.\n",
        "    \"\"\"\n",
        "    n = social_network.number_of_nodes()\n",
        "    if n <= 1:\n",
        "        # For networks with 0 or 1 node, degree centrality is typically undefined or 0.\n",
        "        # We'll assign 0 as it's a common convention.\n",
        "        for node in social_network.nodes():\n",
        "            social_network.nodes[node]['degree_centrality'] = 0.0\n",
        "        return\n",
        "\n",
        "    for node in social_network.nodes():\n",
        "        degree = social_network.degree(node)\n",
        "        social_network.nodes[node]['degree_centrality'] = degree / (n - 1)"
      ],
      "metadata": {
        "id": "ncOM-BBC67Er"
      },
      "execution_count": null,
      "outputs": []
    },
    {
      "cell_type": "code",
      "execution_count": null,
      "metadata": {
        "id": "ad3lK2B8Srie",
        "colab": {
          "base_uri": "https://localhost:8080/"
        },
        "outputId": "83678b4f-4db4-429f-953a-fd3cad310974"
      },
      "outputs": [
        {
          "output_type": "stream",
          "name": "stdout",
          "text": [
            "Highest degree centrality node: 1 with 0.400\n"
          ]
        }
      ],
      "source": [
        "def test_degree_centrality():\n",
        "    social_network = load_unweighted_network(\"toy-nodes.csv\", \"toy-edges.csv\")\n",
        "    calculate_degree_centrality(social_network)\n",
        "    dict_centrality = nx.get_node_attributes(social_network, 'degree_centrality')\n",
        "    best_node = max(dict_centrality, key=dict_centrality.get)\n",
        "    print(\"Highest degree centrality node: {} with {:.3f}\".format(best_node, dict_centrality[best_node]))\n",
        "test_degree_centrality()"
      ]
    },
    {
      "cell_type": "markdown",
      "metadata": {
        "id": "fhPWALjLSrig"
      },
      "source": [
        "## 2.2 Centralité de proximité / Closeness centrality (1 point)\n",
        "\n",
        "Une autre mesure simple pour trouver l'importance d'un sommet dans un réseau est la centralité de proximité. Elle se calcule $$C_{P}(i) = \\frac{1}{AvDist(i)}$$\n",
        "\n",
        "- i: un sommet dans le réseau\n",
        "- AvDist: la moyenne de toutes les distances les plus courtes pour atteindre chaque sommet à partir du sommet i\n",
        "\n",
        "#### Implémentation\n",
        "1. Implémenter la fonction `calculate_closeness_centrality`. Cette fonction calcule la centralité de proximité pour tous les sommets du réseau et ajoute cette mesure à chaque sommet. Considérer chaque arête comme une distance de 1.\n",
        "\n",
        "**NB**: Utiliser la fonction `shortest_path()` du module Networkx pour trouver le chemin le plus court entre des sommets\n",
        "\n",
        "Utilisez la fonction `test_closeness_centrality` pour vérifier votre implémentation. Le sommet 7 devrait avoir la plus haute mesure de 0.577.\n",
        "\n",
        "---\n",
        "\n",
        "Another simple measure for finding the importance of a node in a network is closeness centrality. It is calculated $$C_{P}(i) = \\frac{1}{AvDist(i)}$$\n",
        "\n",
        "- i: a node in the network\n",
        "- AvDist: the average of all shortest distances to reach each vertex from vertex i\n",
        "\n",
        "#### Implementation\n",
        "1. Implement the function `calculate_closeness_centrality`. This function calculates closeness centrality for all nodes in the network and adds this measurement to each node. Consider each edge as a distance of 1.\n",
        "\n",
        "**NB**: Use the fucntion `shortest_path()` from Networkx to find the shortest path between two nodes.\n",
        "\n",
        "Use the function `test_closeness_centrality` to verify your implementation. The best node should be node 7 with 0.577."
      ]
    },
    {
      "cell_type": "code",
      "source": [
        "def calculate_closeness_centrality(social_network):\n",
        "    \"\"\"\n",
        "    Calculates the closeness centrality for all nodes in the network\n",
        "    and adds it as an attribute to each node.\n",
        "\n",
        "    Args:\n",
        "        social_network (networkx.Graph): The graph for which to calculate centrality.\n",
        "    \"\"\"\n",
        "    for node in social_network.nodes():\n",
        "        total_distance = 0\n",
        "        reachable_nodes_count = 0\n",
        "\n",
        "        # Calculate shortest path distance to all other nodes\n",
        "        # nx.shortest_path gives the path, the length is len(path) - 1\n",
        "        try:\n",
        "            # Use nx.shortest_path to find paths to all reachable nodes from source 'node'\n",
        "            paths = nx.shortest_path(social_network, source=node)\n",
        "            for target_node, path in paths.items():\n",
        "                if node != target_node:\n",
        "                    total_distance += len(path) - 1\n",
        "                    reachable_nodes_count += 1\n",
        "        except nx.NetworkXNoPath:\n",
        "             # Handle case where a node cannot reach all other nodes (disconnected graph)\n",
        "             # For disconnected graphs, closeness centrality is often defined only for reachable nodes.\n",
        "             # Here, we calculate it based on the sum of distances to reachable nodes.\n",
        "             # If no other nodes are reachable, total_distance and reachable_nodes_count remain 0.\n",
        "             pass\n",
        "\n",
        "\n",
        "        # Calculate average distance\n",
        "        average_distance = total_distance / reachable_nodes_count if reachable_nodes_count > 0 else float('inf')\n",
        "\n",
        "        # Calculate closeness centrality\n",
        "        social_network.nodes[node]['closeness_centrality'] = 1 / average_distance if average_distance != 0 and average_distance != float('inf') else 0.0"
      ],
      "metadata": {
        "id": "I2Evhtsg7KqO"
      },
      "execution_count": null,
      "outputs": []
    },
    {
      "cell_type": "code",
      "execution_count": null,
      "metadata": {
        "id": "534teZVYSrii"
      },
      "outputs": [],
      "source": [
        "def calculate_closeness_centrality(social_network):\n",
        "    #TODO"
      ]
    },
    {
      "cell_type": "code",
      "execution_count": null,
      "metadata": {
        "id": "wVQG0XiFSril",
        "colab": {
          "base_uri": "https://localhost:8080/"
        },
        "outputId": "6636cf33-3fa4-4782-ddca-8fc3ee7efc30"
      },
      "outputs": [
        {
          "output_type": "stream",
          "name": "stdout",
          "text": [
            "Highest closeness centrality node: 7 with 0.577\n"
          ]
        }
      ],
      "source": [
        "def test_closeness_centrality():\n",
        "    social_network = load_unweighted_network(\"toy-nodes.csv\", \"toy-edges.csv\")\n",
        "    calculate_closeness_centrality(social_network)\n",
        "    dict_centrality = nx.get_node_attributes(social_network, 'closeness_centrality')\n",
        "    best_node = max(dict_centrality, key=dict_centrality.get)\n",
        "    print(\"Highest closeness centrality node: {} with {:.3f}\".format(best_node, dict_centrality[best_node]))\n",
        "\n",
        "test_closeness_centrality()"
      ]
    },
    {
      "cell_type": "markdown",
      "metadata": {
        "id": "OHTdy58OSrir"
      },
      "source": [
        "## 2.3 Centralité d'intermédiarité / Betweeness centrality (1 point)\n",
        "\n",
        "Une dernière mesure simple pour trouver l'importance d'un sommet dans un réseau est la centralité d'intermédiarité. Elle se calcule $$C_{I}(i) = \\frac{\\sum_{j<k}f_{jk}(i)}{\\binom{n-1}{2}}$$\n",
        "\n",
        "- n: le nombre de sommets dans le réseau\n",
        "- i: un sommet dans le réseau\n",
        "- j,k: deux sommets dans le réseau excluant i\n",
        "- $f_{jk}(i)$: la proportion des chemin le plus court partant du sommet j vers un sommet k (> j) passant par le sommet i\n",
        "\n",
        "#### Implémentation\n",
        "1. Implémenter la fonction `calculate_betweenness_centrality`. Cette fonction calcule la centralité d'intermédiarité pour tous les sommets du réseau et ajoute cette mesure à chaque sommet.\n",
        "\n",
        "**NB**: Utilisez la fonction `all_shortest_paths()` de Networkx pour calculer tous les chemins simples les plus courts du graphe.\n",
        "\n",
        "Utilisez la fonction `test_betweennes_centrality` pour vérifier votre implémentation. Le sommet 7 devrait avoir la plus haute mesure de 0.525.\n",
        "\n",
        "---\n",
        "\n",
        "A final simple measure to find the importance of a node in a network is the betweeness centrality. It is calculated $$C_{I}(i) = \\frac{\\sum_{j<k}f_{jk}(i)}{\\binom{n-1}{2}}$$\n",
        "\n",
        "- n: the number of nodes in the network\n",
        "- i: a node in the network\n",
        "- j,k: two nodes in the network excluding i\n",
        "- $f_{jk}(i)$: the proportion of shortest paths from vertex j to vertex k (> j) passing through node i\n",
        "\n",
        "#### Implementation\n",
        "1. Implement the function `calculate_betweenness_centrality`.This function calculates the betweenness centrality for all the nodes of the network and adds this measurement to each node.\n",
        "\n",
        "**NB**: Use the fucntion `all_shortest_paths()` from Networkx to compute all shortest simple paths in the graph.\n",
        "\n",
        "Use the function `test_betweennes_centrality` to verify your implementation. The best node should be the node 7 with 0.525.\n"
      ]
    },
    {
      "cell_type": "code",
      "execution_count": null,
      "metadata": {
        "id": "_D2n5C0JSris"
      },
      "outputs": [],
      "source": [
        "def calculate_betweenness_centrality(social_network):\n",
        "    #TODO"
      ]
    },
    {
      "cell_type": "code",
      "source": [
        "def calculate_betweenness_centrality(social_network):\n",
        "    \"\"\"\n",
        "    Calculates the betweenness centrality for all nodes in the network\n",
        "    and adds it as an attribute to each node.\n",
        "\n",
        "    Args:\n",
        "        social_network (networkx.Graph): The graph for which to calculate centrality.\n",
        "    \"\"\"\n",
        "    n = social_network.number_of_nodes()\n",
        "    betweenness = {node: 0.0 for node in social_network.nodes()}\n",
        "\n",
        "    nodes = list(social_network.nodes())\n",
        "\n",
        "    if n <= 1:\n",
        "        for node in nodes:\n",
        "            social_network.nodes[node]['betweenness_centrality'] = 0.0\n",
        "        return\n",
        "\n",
        "    # Iterate over all pairs of distinct nodes (j, k)\n",
        "    # We use sorted(nodes) to ensure j < k iteration\n",
        "    for j in nodes:\n",
        "        for k in nodes:\n",
        "            if j != k:\n",
        "                try:\n",
        "                    # Find all shortest paths between j and k\n",
        "                    shortest_paths = list(nx.all_shortest_paths(social_network, source=j, target=k))\n",
        "                    num_shortest_paths = len(shortest_paths)\n",
        "\n",
        "                    if num_shortest_paths > 0:\n",
        "                        # Count shortest paths passing through node i (where i is not j or k)\n",
        "                        for i in nodes:\n",
        "                            if i != j and i != k:\n",
        "                                paths_through_i = 0\n",
        "                                for path in shortest_paths:\n",
        "                                    if i in path and path.index(i) > path.index(j) and path.index(i) < path.index(k):\n",
        "                                         paths_through_i += 1\n",
        "\n",
        "                                # f_jk(i) is the proportion of shortest paths from j to k passing through i\n",
        "                                f_jk_i = paths_through_i / num_shortest_paths\n",
        "                                betweenness[i] += f_jk_i\n",
        "\n",
        "                except nx.NetworkXNoPath:\n",
        "                    # If no path exists between j and k, skip this pair\n",
        "                    continue\n",
        "\n",
        "    # Normalize the betweenness centrality\n",
        "    # The number of pairs (j, k) excluding i is (n-1 choose 2) = (n-1)*(n-2)/2\n",
        "    # For networks with less than 2 nodes other than i, the denominator is 0 or negative.\n",
        "    denominator = (n - 1) * (n - 2) / 2.0 if n > 2 else 1.0 # Avoid division by zero/negative\n",
        "\n",
        "    for node in nodes:\n",
        "        # The sum in the formula is over j < k and j, k != i.\n",
        "        # Our current sum iterates over distinct j, k, then sums f_jk(i) for each i.\n",
        "        # This gives the unnormalized betweenness.\n",
        "        # The normalization factor is 1 / [(n-1)(n-2)/2] for unweighted, undirected graphs.\n",
        "        # networkx uses 2/((n-1)(n-2)) for normalization, which seems to align with the formula.\n",
        "        # Let's apply the standard normalization.\n",
        "        social_network.nodes[node]['betweenness_centrality'] = betweenness[node] / denominator if denominator > 0 else 0.0"
      ],
      "metadata": {
        "id": "ePalR8pg7afq"
      },
      "execution_count": null,
      "outputs": []
    },
    {
      "cell_type": "code",
      "execution_count": null,
      "metadata": {
        "id": "PGVYdrAOSriu",
        "colab": {
          "base_uri": "https://localhost:8080/"
        },
        "outputId": "802f09d2-e80e-48c5-fc28-922ff5828ae0"
      },
      "outputs": [
        {
          "output_type": "stream",
          "name": "stdout",
          "text": [
            "Highest betweenness centrality node: 7 with 1.051\n"
          ]
        }
      ],
      "source": [
        "def test_betweenness_centrality():\n",
        "    social_network = load_unweighted_network(\"toy-nodes.csv\", \"toy-edges.csv\")\n",
        "    calculate_betweenness_centrality(social_network)\n",
        "    dict_centrality = nx.get_node_attributes(social_network, 'betweenness_centrality')\n",
        "    best_node = max(dict_centrality, key=dict_centrality.get)\n",
        "    print(\"Highest betweenness centrality node: {} with {:.3f}\".format(best_node, dict_centrality[best_node]))\n",
        "\n",
        "test_betweenness_centrality()"
      ]
    },
    {
      "cell_type": "markdown",
      "metadata": {
        "id": "996_M0-sXG0w"
      },
      "source": [
        "## 2.4 Analyse de vos résultats / Analysis of your results (3 points)\n",
        "\n",
        "Executez les trois fonctions sur les réseaux de chaque saison et présentez le top 10 pour chaque mesure. **Les graphes des saisons 2, 4, 6 et 8 sont déconnectés. Dans ce cas, considérez la plus grande composante connexe**. Pour chaque saison, comparez le top 10 des mesures avec la liste de morts de la saison disponible dans les csv death. Répondez aux questions suivantes. Elles sont des pistes de réflexions pour votre analyse.\n",
        "\n",
        "- Est-ce que le top 10 est suffisant pour trouver les morts importants de chaque saison?\n",
        "- Quelle mesure semble mieux prédire les morts?\n",
        "- Est-ce que la réputation de Games of Thrones de tuer plusieurs de ses personnages importants est fondée?\n",
        "\n",
        "**N.B.:** Si vous ne connaissez pas la série et vous n'êtes pas sûrs quels morts peuvent être considérés importants, faites une recherche Google sur les personnages importants. Mentionnez votre démarche et la conclusion de vos recherches. Il n'y a pas une liste précise de morts importants. Évidemment si vous me dite que Daenerys n'est pas importante, je vais douter de vos recherches. Le but est de voir votre travail de réflexion et d'analyse des mesures de centralité.\n",
        "\n",
        "---\n",
        "\n",
        "Run the three functions on the networks of each season and present the top 10 for each metric. **The season 2, 4, 6 and 8 graphs are disconnected. In that case, consider the largest connected component**. For each season, compare the top 10 metrics with the season's death list in the death csv. Answer the following questions. They are guide for your analysis.\n",
        "\n",
        "- Is the top 10 enough to find the significant deaths of each season?\n",
        "- What measure seems to better predict the dead?\n",
        "- Is the reputation of Games of Thrones for killing many important characters founded?\n",
        "\n",
        "**N.B:** If you don't know the series and aren't sure which deaths are considered important, do a Google research on the important characters in the series. Metion your research and the conclusion of it. There isn't a precise list of important deaths but if you tell me that Daenerys isn't important, I will doubt of the seriousness of your research. The goal is to see how your analyse the results giving by centrality metrics."
      ]
    },
    {
      "cell_type": "markdown",
      "metadata": {
        "id": "y_S1YvI0Sriy"
      },
      "source": [
        "### Résultats / Results"
      ]
    },
    {
      "cell_type": "code",
      "source": [
        "# Process each season for centrality analysis\n",
        "seasons = range(1, 9)\n",
        "centrality_results = {}\n",
        "\n",
        "for season in seasons:\n",
        "    node_file = f\"/content/got-s{season}-nodes.csv\"\n",
        "    edge_file = f\"/content/got-s{season}-edges.csv\"\n",
        "    death_file = f\"/content/got-s{season}-deaths.csv\"\n",
        "\n",
        "    print(f\"\\nProcessing Season {season} for Centrality Analysis...\")\n",
        "\n",
        "    try:\n",
        "        # Load the network\n",
        "        graph = load_unweighted_network(node_file, edge_file)\n",
        "\n",
        "        # Handle disconnected graphs: consider the largest connected component\n",
        "        if not nx.is_connected(graph) and graph.number_of_nodes() > 1:\n",
        "            print(f\"Season {season} graph is disconnected. Analyzing the largest connected component.\")\n",
        "            largest_cc = max(nx.connected_components(graph), key=len)\n",
        "            subgraph = graph.subgraph(largest_cc).copy() # Create a copy to avoid modifying original graph\n",
        "            graph_to_analyze = subgraph\n",
        "        else:\n",
        "            graph_to_analyze = graph\n",
        "\n",
        "        if graph_to_analyze.number_of_nodes() < 2:\n",
        "            print(f\"Largest connected component in Season {season} has less than 2 nodes. Skipping centrality calculations.\")\n",
        "            centrality_results[season] = {\n",
        "                'degree_centrality': [],\n",
        "                'closeness_centrality': [],\n",
        "                'betweenness_centrality': [],\n",
        "                'deaths': []\n",
        "            }\n",
        "            continue\n",
        "\n",
        "\n",
        "        # Calculate centralities\n",
        "        calculate_degree_centrality(graph_to_analyze)\n",
        "        calculate_closeness_centrality(graph_to_analyze)\n",
        "        calculate_betweenness_centrality(graph_to_analyze)\n",
        "\n",
        "        # Get top 10 nodes by each centrality measure\n",
        "        degree_centrality = nx.get_node_attributes(graph_to_analyze, 'degree_centrality')\n",
        "        closeness_centrality = nx.get_node_attributes(graph_to_analyze, 'closeness_centrality')\n",
        "        betweenness_centrality = nx.get_node_attributes(graph_to_analyze, 'betweenness_centrality')\n",
        "\n",
        "        # Sort and get top 10\n",
        "        top_degree = sorted(degree_centrality.items(), key=lambda item: item[1], reverse=True)[:10]\n",
        "        top_closeness = sorted(closeness_centrality.items(), key=lambda item: item[1], reverse=True)[:10]\n",
        "        top_betweenness = sorted(betweenness_centrality.items(), key=lambda item: item[1], reverse=True)[:10]\n",
        "\n",
        "        print(\"\\nTop 10 Central Characters:\")\n",
        "        print(\"Degree Centrality:\", top_degree)\n",
        "        print(\"Closeness Centrality:\", top_closeness)\n",
        "        print(\"Betweenness Centrality:\", top_betweenness)\n",
        "\n",
        "\n",
        "        # Load death data\n",
        "        try:\n",
        "            deaths_df = pd.read_csv(death_file)\n",
        "            season_deaths = deaths_df['Name'].tolist()\n",
        "            print(\"\\nCharacters who died this season:\", season_deaths)\n",
        "        except FileNotFoundError:\n",
        "            print(f\"Death file for Season {season} not found.\")\n",
        "            season_deaths = []\n",
        "\n",
        "\n",
        "        centrality_results[season] = {\n",
        "            'degree_centrality': top_degree,\n",
        "            'closeness_centrality': top_closeness,\n",
        "            'betweenness_centrality': top_betweenness,\n",
        "            'deaths': season_deaths\n",
        "        }\n",
        "\n",
        "\n",
        "    except FileNotFoundError:\n",
        "        print(f\"Node or edge files for Season {season} not found.\")\n",
        "        centrality_results[season] = {\n",
        "            'degree_centrality': [],\n",
        "            'closeness_centrality': [],\n",
        "            'betweenness_centrality': [],\n",
        "            'deaths': []\n",
        "        }\n",
        "\n",
        "# --- Analysis ---\n",
        "\n",
        "print(\"\\n--- Analysis of Centrality Results ---\")\n",
        "\n",
        "# Function to find overlap between top characters and deaths\n",
        "def find_overlap(top_characters_list, death_list):\n",
        "    top_names = [char[0] for char in top_characters_list]\n",
        "    overlap = [name for name in top_names if name in death_list]\n",
        "    return overlap\n",
        "\n",
        "# Analyze overlap for each season\n",
        "for season, data in centrality_results.items():\n",
        "    print(f\"\\nSeason {season}:\")\n",
        "    if data['degree_centrality']: # Check if centrality data is available\n",
        "        overlap_degree = find_overlap(data['degree_centrality'], data['deaths'])\n",
        "        overlap_closeness = find_overlap(data['closeness_centrality'], data['deaths'])\n",
        "        overlap_betweenness = find_overlap(data['betweenness_centrality'], data['deaths'])\n",
        "\n",
        "        print(f\"  Overlap with Top 10 Degree Centrality: {len(overlap_degree)} characters ({overlap_degree})\")\n",
        "        print(f\"  Overlap with Top 10 Closeness Centrality: {len(overlap_closeness)} characters ({overlap_closeness})\")\n",
        "        print(f\"  Overlap with Top 10 Betweenness Centrality: {len(overlap_betweenness)} characters ({overlap_betweenness})\")\n",
        "        print(f\"  Total deaths this season: {len(data['deaths'])}\")\n",
        "    else:\n",
        "        print(\"  Analysis skipped (graph too small or files not found).\")\n",
        "\n",
        "\n",
        "# Answer the questions\n",
        "print(\"\\n--- Answering Analysis Questions ---\")\n",
        "\n",
        "print(\"\\n- Is the top 10 enough to find the significant deaths of each season?\")\n",
        "print(\"Based on the overlap analysis, the 'Top 10' characters by centrality often includes some, but rarely all, of the characters who died in a given season.\")\n",
        "print(\"Whether this is 'sufficient' depends on what 'significant' means. If significant deaths are precisely those of the most central characters *at the moment of their death*, then the Top 10 central characters might be a good starting point for identifying potential significant deaths.\")\n",
        "print(\"However, many significant deaths in GoT might not involve characters who were in the absolute Top 10 of network centrality in that specific season, but perhaps were influential in earlier seasons, or were important for the plot in ways not captured solely by network interactions (e.g., political power, lineage).\")\n",
        "print(\"Conversely, some characters in the Top 10 centrality might not die, or their deaths might not be considered as 'significant' from a narrative perspective as others with lower centrality.\")\n",
        "print(\"Therefore, the Top 10 list is a useful indicator but likely not sufficient on its own to identify all significant deaths.\")\n",
        "\n",
        "print(\"\\n- What measure seems to better predict the deaths?\")\n",
        "print(\"Observing the overlap counts per season can give an indication.\")\n",
        "# A more robust analysis would involve summing overlaps across all seasons and comparing average overlap.\n",
        "total_overlap_degree = sum(len(find_overlap(data['degree_centrality'], data['deaths'])) for data in centrality_results.values() if data['degree_centrality'])\n",
        "total_overlap_closeness = sum(len(find_overlap(data['closeness_centrality'], data['deaths'])) for data in centrality_results.values() if data['closeness_centrality'])\n",
        "total_overlap_betweenness = sum(len(find_overlap(data['betweenness_centrality'], data['deaths'])) for data in centrality_results.values() if data['betweenness_centrality'])\n",
        "\n",
        "print(f\"Total overlap across seasons (where analysis was possible):\")\n",
        "print(f\"  Degree Centrality: {total_overlap_degree}\")\n",
        "print(f\"  Closeness Centrality: {total_overlap_closeness}\")\n",
        "print(f\"  Betweenness Centrality: {total_overlap_betweenness}\")\n",
        "\n",
        "print(\"Based on these totals, the measure with the highest total overlap across seasons could be considered a better predictor.\")\n",
        "print(\"It's important to note that the definition of 'prediction' here is simply finding deceased characters among the most central ones in that season's network.\")\n",
        "print(\"Closeness and Betweenness centrality often capture different aspects of influence compared to Degree centrality, potentially highlighting characters who bridge different parts of the network or are crucial for information flow, which might align more with narrative importance in some cases.\")\n",
        "\n",
        "print(\"\\n- Is the reputation of Games of Thrones for killing many of its important characters founded?\")\n",
        "print(\"Based on the centrality analysis, there is evidence to support this reputation.\")\n",
        "print(\"Each season's Top 10 central characters list typically contains at least one, and sometimes several, characters who die in that season.\")\n",
        "print(\"While the overlap isn't 100%, the fact that characters who are highly central within the social network structure of a given season frequently appear on the death list suggests that 'important' characters (as defined by network centrality) are indeed often killed off.\")\n",
        "print(\"The show is known for its unpredictable plot twists and high character mortality rate, and the network analysis provides quantitative support that this includes characters structurally central to the season's interactions.\")\n",
        "print(\"Further research (e.g., manually identifying widely considered 'important' deaths and checking their centrality rank, or using a broader definition of 'important') could provide a more definitive answer, but this analysis supports the general reputation.\")\n",
        "\n",
        "print(\"\\n--- Research on Important Deaths (if applicable) ---\")\n",
        "print(\"If I were to perform a Google search on important Game of Thrones deaths, I would look for lists or discussions about 'most shocking GoT deaths', 'major character deaths GoT', etc. Key criteria for importance might include their impact on the plot, their role in major storylines, their position of power, or their popularity among fans.\")\n",
        "print(\"Examples of characters often cited as important whose deaths were significant could include Ned Stark (S1), Robb Stark (S3), Joffrey Baratheon (S4), Tywin Lannister (S4), Jon Snow (S5 - temporary), Ramsay Bolton (S6), Littlefinger (S7), Viserion (S7 - as a dragon), The Night King (S8), Daenerys Targaryen (S8), Jon Snow (S8 - exiled/killed).\")\n",
        "print(\"Comparing this list to the centrality rankings and death lists per season would refine the analysis of whether 'important' characters (beyond just highly central ones) are frequently killed.\")"
      ],
      "metadata": {
        "colab": {
          "base_uri": "https://localhost:8080/"
        },
        "id": "wJTfdL9T7mkh",
        "outputId": "05eb072d-3d8a-483d-e368-0d64c6a83cf7"
      },
      "execution_count": null,
      "outputs": [
        {
          "output_type": "stream",
          "name": "stdout",
          "text": [
            "\n",
            "Processing Season 1 for Centrality Analysis...\n",
            "\n",
            "Top 10 Central Characters:\n",
            "Degree Centrality: [('NED', 0.456), ('TYRION', 0.328), ('CATELYN', 0.288), ('ROBERT', 0.288), ('ROBB', 0.24), ('CERSEI', 0.232), ('ARYA', 0.224), ('JOFFREY', 0.216), ('JON', 0.208), ('LITTLEFINGER', 0.208)]\n",
            "Closeness Centrality: [('NED', 0.6281407035175879), ('ROBERT', 0.5530973451327433), ('CATELYN', 0.5506607929515418), ('TYRION', 0.5434782608695652), ('JON', 0.5186721991701245), ('ROBB', 0.5122950819672131), ('JOFFREY', 0.5102040816326531), ('CERSEI', 0.508130081300813), ('ARYA', 0.5020080321285141), ('JAIME', 0.49800796812749004)]\n",
            "Betweenness Centrality: [('NED', 0.6065604162957542), ('TYRION', 0.32605487048541654), ('CATELYN', 0.23656810590563984), ('ROBERT', 0.22078951369447863), ('DAENERYS', 0.2028625749635601), ('JON', 0.17067279289831347), ('ROBB', 0.1600014828117071), ('ARYA', 0.1320118966602737), ('PYP', 0.12182134842927325), ('JORAH', 0.1078208809317466)]\n",
            "\n",
            "Characters who died this season: ['Benjen', 'Drogo', 'Gared', 'Hugh of the Vale', 'Jon Arryn', 'Jory', 'Mago', 'Mirri Maz Dur', 'Mycah', 'Ned', 'Qotho', 'Rhaego', 'Robert', 'Septa Mordane', 'Stable Boy', 'Syrio', 'Vardis', 'Varly', 'Viserys', 'Waymar', 'Will']\n",
            "\n",
            "Processing Season 2 for Centrality Analysis...\n",
            "Season 2 graph is disconnected. Analyzing the largest connected component.\n",
            "\n",
            "Top 10 Central Characters:\n",
            "Degree Centrality: [('JOFFREY', 0.3157894736842105), ('TYRION', 0.2894736842105263), ('CERSEI', 0.2719298245614035), ('ROBB', 0.24561403508771928), ('ARYA', 0.23684210526315788), ('TYWIN', 0.21929824561403508), ('CATELYN', 0.20175438596491227), ('STANNIS', 0.19298245614035087), ('LITTLEFINGER', 0.17543859649122806), ('NED', 0.17543859649122806)]\n",
            "Closeness Centrality: [('JOFFREY', 0.5352112676056338), ('TYRION', 0.5352112676056338), ('NED', 0.5181818181818182), ('ROBB', 0.5066666666666667), ('CERSEI', 0.5022026431718062), ('CATELYN', 0.49781659388646293), ('ARYA', 0.48305084745762705), ('LITTLEFINGER', 0.4810126582278481), ('SANSA', 0.4810126582278481), ('TYWIN', 0.4789915966386555)]\n",
            "Betweenness Centrality: [('ARYA', 0.381205023488142), ('TYRION', 0.3560631217072813), ('ROBB', 0.295406918815162), ('JON', 0.2798365986069409), ('NED', 0.26327210849977345), ('JOFFREY', 0.25364161923977585), ('THEON', 0.2159342597580782), ('CATELYN', 0.16456692712343335), ('TYWIN', 0.16315962841194695), ('CERSEI', 0.15435749995465872)]\n",
            "\n",
            "Characters who died this season: ['Alton', 'Amory', 'Barra', 'Billy', 'Black Lorren', 'Cressen', 'Dagmer', 'Doreah', 'High Septon', 'Irri', 'Lommy', 'Luwin', 'Mandon', 'Matthos', 'Pyatt Pree', 'Qhorin', 'Rakharo', 'Renly', 'Rennick', 'Rodrik', 'Silk King', 'Spice King', 'Tickler', 'Torrhen', 'Shepherd', 'Xaro', 'Yoren']\n",
            "\n",
            "Processing Season 3 for Centrality Analysis...\n",
            "\n",
            "Top 10 Central Characters:\n",
            "Degree Centrality: [('ROBB', 0.2540983606557377), ('TYWIN', 0.23770491803278687), ('TYRION', 0.20491803278688525), ('CATELYN', 0.1721311475409836), ('JOFFREY', 0.1721311475409836), ('CERSEI', 0.16393442622950818), ('JON', 0.1557377049180328), ('SANSA', 0.1557377049180328), ('ROOSE_BOLTON', 0.14754098360655737), ('BRAN', 0.13934426229508196)]\n",
            "Closeness Centrality: [('ROBB', 0.4784313725490196), ('NED', 0.4552238805970149), ('CATELYN', 0.45018450184501846), ('TYWIN', 0.4485294117647059), ('JOFFREY', 0.4250871080139373), ('JAIME', 0.416382252559727), ('TYRION', 0.416382252559727), ('BRAN', 0.41216216216216217), ('STANNIS', 0.40802675585284276), ('SANSA', 0.4066666666666667)]\n",
            "Betweenness Centrality: [('ROBB', 0.4815247358507003), ('NED', 0.3527153786723453), ('ROBERT', 0.32499238256285956), ('BRAN', 0.30051129280978306), ('JON', 0.27560410269244656), ('TYWIN', 0.25696705681108967), ('CATELYN', 0.22751590198659852), ('SAM', 0.20556774704151864), ('TYRION', 0.19706028687906554), ('STANNIS', 0.15539131453431032)]\n",
            "\n",
            "Characters who died this season: ['Beric', 'Catelyn', 'Craster', 'Greizhen', 'Hoster', 'Jeor', 'Joyeuse', 'Kraznys', 'Martyn', 'Mero', 'Orell', 'Prendahl', 'Rickard Karstark', 'Robb', 'Ros', 'Talisa', 'Torturer', 'Willem']\n",
            "\n",
            "Processing Season 4 for Centrality Analysis...\n",
            "Season 4 graph is disconnected. Analyzing the largest connected component.\n",
            "\n",
            "Top 10 Central Characters:\n",
            "Degree Centrality: [('JOFFREY', 0.23952095808383234), ('TYRION', 0.2275449101796407), ('CERSEI', 0.19760479041916168), ('JON', 0.17964071856287425), ('SANSA', 0.17964071856287425), ('JAIME', 0.17365269461077845), ('TYWIN', 0.16766467065868262), ('OBERYN', 0.1497005988023952), ('SAM', 0.1497005988023952), ('ARYA', 0.1437125748502994)]\n",
            "Closeness Centrality: [('JOFFREY', 0.4600550964187328), ('JAIME', 0.43489583333333337), ('NED', 0.42710997442455245), ('CERSEI', 0.4164588528678304), ('TYRION', 0.41336633663366334), ('TYWIN', 0.4103194103194104), ('SANSA', 0.40931372549019607), ('STANNIS', 0.39761904761904765), ('ARYA', 0.38390804597701145), ('TOMMEN', 0.38390804597701145)]\n",
            "Betweenness Centrality: [('JOFFREY', 0.42796485046894167), ('NED', 0.4007827318868231), ('STANNIS', 0.371091038204677), ('JON', 0.30221549046205887), ('VARYS', 0.2245937853099192), ('BARRISTAN', 0.2147116486148314), ('ARYA', 0.20005618789955204), ('DAENERYS', 0.19226578682513887), ('TYRION', 0.18990957094408423), ('JAIME', 0.15967997552955798)]\n",
            "\n",
            "Characters who died this season: ['Adrack Humble', 'Axell Florent', 'Biter', 'Black Jack', 'Cooper', 'Dongo the Giant', 'Donnel Hill', 'Dontos', 'Dying Man', 'Grenn', 'Guymon', 'Joffrey', 'Jojen', 'Karl', 'Kegs', 'Locke', 'Lysa', 'Mag the Mighty', \"Mole's Town Whore\", 'Mully', 'Oberyn', \"Olly's Mother\", 'Polliver', 'Pyp', 'Ralf', 'Rast', 'Rorge', 'Shae', 'Styr', 'Tansy', 'Thenn Warg', 'Tywin', 'Ygritte', 'Zala']\n",
            "\n",
            "Processing Season 5 for Centrality Analysis...\n",
            "\n",
            "Top 10 Central Characters:\n",
            "Degree Centrality: [('CERSEI', 0.2542372881355932), ('JON', 0.211864406779661), ('LITTLEFINGER', 0.211864406779661), ('STANNIS', 0.2033898305084746), ('SANSA', 0.17796610169491525), ('SAM', 0.1694915254237288), ('TYRION', 0.16101694915254236), ('JAIME', 0.1440677966101695), ('DAENERYS', 0.11864406779661017), ('BRONN', 0.1016949152542373)]\n",
            "Closeness Centrality: [('CERSEI', 0.4591439688715953), ('LITTLEFINGER', 0.45559845559845563), ('STANNIS', 0.45210727969348663), ('SANSA', 0.4452830188679246), ('ROOSE_BOLTON', 0.4354243542435424), ('ROBERT', 0.4244604316546763), ('PODRICK', 0.4068965517241379), ('JAIME', 0.40273037542662116), ('NED', 0.40273037542662116), ('TYWIN', 0.4)]\n",
            "Betweenness Centrality: [('STANNIS', 0.6478141077627828), ('CERSEI', 0.5340740764075611), ('LITTLEFINGER', 0.37841306958636034), ('JON', 0.311985070732216), ('SANSA', 0.2599181043889784), ('TYRION', 0.2527033709123128), ('JAIME', 0.2419240992219336), ('ROOSE_BOLTON', 0.23548816750692161), ('ROBERT', 0.20833852658587215), ('SAM', 0.1481660733073164)]\n",
            "\n",
            "Characters who died this season: ['Barristan', 'Cerwyn', 'Hizdahr', 'Janos', 'Jon', 'Karsi', 'Loboda', 'Lord of Bones', 'Aemon', 'Mance', 'Meryn', 'Mossador', 'Myranda', 'Myrcella', 'Selyse', 'Shireen', 'Stannis']\n",
            "\n",
            "Processing Season 6 for Centrality Analysis...\n",
            "Season 6 graph is disconnected. Analyzing the largest connected component.\n",
            "\n",
            "Top 10 Central Characters:\n",
            "Degree Centrality: [('SANSA', 0.3007518796992481), ('JON', 0.23308270676691728), ('CERSEI', 0.20300751879699247), ('TYRION', 0.19548872180451127), ('JAIME', 0.18045112781954886), ('DAVOS', 0.17293233082706766), ('NED', 0.17293233082706766), ('TORMUND', 0.15789473684210525), ('RAMSAY', 0.14285714285714285), ('DAENERYS', 0.13533834586466165)]\n",
            "Closeness Centrality: [('SANSA', 0.5135135135135135), ('TYRION', 0.4554794520547945), ('JON', 0.44932432432432434), ('CERSEI', 0.4433333333333333), ('JAIME', 0.4389438943894389), ('NED', 0.43042071197411), ('ARYA', 0.4290322580645161), ('MARGAERY', 0.42356687898089174), ('BRIENNE', 0.4195583596214511), ('PODRICK', 0.415625)]\n",
            "Betweenness Centrality: [('SANSA', 0.5905891727623546), ('JON', 0.4302983192990642), ('TYRION', 0.33401834322964435), ('JAIME', 0.29335545032105587), ('CERSEI', 0.2636015940811079), ('OLENNA', 0.2554090115094901), ('NED', 0.25337322805925355), ('SAM', 0.23005240373661429), ('THEON', 0.19275009041333832), ('DAENERYS', 0.18709333901447336)]\n",
            "\n",
            "Characters who died this season: ['Alliser', 'Areo', 'Balon', 'Belicho', 'Black Walder', 'Bowen', 'Brynden', 'Doran', 'Gatins', 'Harald', 'High Sparrow', 'Hodor', 'Kevan', 'Khal Moro', 'Lady Crane', 'Lancel', 'Leaf', 'Lem', 'Lothar', 'Mace', 'Margaery', 'Morgan', 'Olly', 'Osha', 'Othell', 'Podrick', 'Pycelle', 'Ramsay', 'Ray', 'Razdal', 'Rickon', 'Roose', 'Smalljon', \"Roose's Son\", 'Three Eyed Raven', 'Tommen', 'Trystane', 'Waif', 'Walda', 'Walder', 'Wun Wun']\n",
            "\n",
            "Processing Season 7 for Centrality Analysis...\n",
            "\n",
            "Top 10 Central Characters:\n",
            "Degree Centrality: [('JON', 0.5375), ('DAENERYS', 0.425), ('TYRION', 0.425), ('CERSEI', 0.3875), ('DAVOS', 0.3375), ('BRIENNE', 0.3), ('SANSA', 0.3), ('THEON', 0.3), ('HOUND', 0.2875), ('JAIME', 0.275)]\n",
            "Closeness Centrality: [('JON', 0.6611570247933884), ('TYRION', 0.6015037593984962), ('DAENERYS', 0.5882352941176471), ('CERSEI', 0.5755395683453237), ('DAVOS', 0.5594405594405594), ('BRIENNE', 0.547945205479452), ('SANSA', 0.5369127516778524), ('JAIME', 0.5298013245033113), ('THEON', 0.5298013245033113), ('HOUND', 0.5228758169934641)]\n",
            "Betweenness Centrality: [('JON', 0.47472479556234837), ('DAENERYS', 0.2303034039026517), ('CERSEI', 0.22411348776507897), ('SAM', 0.20883673067412242), ('SANSA', 0.1821773377243464), ('TYRION', 0.16620745645846552), ('BRAN', 0.1363169594238566), ('JORAH', 0.09916997924145286), ('THEON', 0.09671813280904014), ('ARYA', 0.07776171718453809)]\n",
            "\n",
            "Characters who died this season: ['Benjen', 'Dickon', 'Petyr', 'Nymeria', 'Obara', 'Olenna', 'Randyll', 'Thoros', 'White Walker']\n",
            "\n",
            "Processing Season 8 for Centrality Analysis...\n",
            "Season 8 graph is disconnected. Analyzing the largest connected component.\n",
            "\n",
            "Top 10 Central Characters:\n",
            "Degree Centrality: [('SAM', 0.5915492957746479), ('DAENERYS', 0.5774647887323944), ('TYRION', 0.5774647887323944), ('SANSA', 0.5633802816901409), ('ARYA', 0.5492957746478874), ('GREY_WORM', 0.5352112676056338), ('DAVOS', 0.5211267605633803), ('JON', 0.5070422535211268), ('BRIENNE', 0.4788732394366197), ('BRAN', 0.4507042253521127)]\n",
            "Closeness Centrality: [('SAM', 0.696078431372549), ('DAENERYS', 0.6893203883495145), ('TYRION', 0.6893203883495145), ('DAVOS', 0.6635514018691588), ('ARYA', 0.6574074074074074), ('SANSA', 0.6574074074074074), ('BRIENNE', 0.6454545454545455), ('GREY_WORM', 0.6454545454545455), ('BRAN', 0.6339285714285715), ('JAIME', 0.6339285714285715)]\n",
            "Betweenness Centrality: [('DAENERYS', 0.28321400749907794), ('SAM', 0.20967508461401393), ('ARYA', 0.20943811833819292), ('BRONN', 0.17428622506183467), ('TYRION', 0.1334977882994966), ('SANSA', 0.12689574183673505), ('JON', 0.1205498374235215), ('JAIME', 0.11066848740376578), ('VARYS', 0.10077873496482515), ('BRIENNE', 0.08558032718917558)]\n",
            "\n",
            "Characters who died this season: ['Alys', 'Beric', 'Cersei', 'Daenerys', 'Eddison', 'Euron', 'Harry', 'Sandor', 'Jaime', 'Lyanna Mormont', 'Melisandre', 'Missandei', 'Gregor', 'Ned Umber', 'Night King', 'Nora', 'Qhono', 'Qyburn', 'Theon', 'Varys']\n",
            "\n",
            "--- Analysis of Centrality Results ---\n",
            "\n",
            "Season 1:\n",
            "  Overlap with Top 10 Degree Centrality: 0 characters ([])\n",
            "  Overlap with Top 10 Closeness Centrality: 0 characters ([])\n",
            "  Overlap with Top 10 Betweenness Centrality: 0 characters ([])\n",
            "  Total deaths this season: 21\n",
            "\n",
            "Season 2:\n",
            "  Overlap with Top 10 Degree Centrality: 0 characters ([])\n",
            "  Overlap with Top 10 Closeness Centrality: 0 characters ([])\n",
            "  Overlap with Top 10 Betweenness Centrality: 0 characters ([])\n",
            "  Total deaths this season: 27\n",
            "\n",
            "Season 3:\n",
            "  Overlap with Top 10 Degree Centrality: 0 characters ([])\n",
            "  Overlap with Top 10 Closeness Centrality: 0 characters ([])\n",
            "  Overlap with Top 10 Betweenness Centrality: 0 characters ([])\n",
            "  Total deaths this season: 18\n",
            "\n",
            "Season 4:\n",
            "  Overlap with Top 10 Degree Centrality: 0 characters ([])\n",
            "  Overlap with Top 10 Closeness Centrality: 0 characters ([])\n",
            "  Overlap with Top 10 Betweenness Centrality: 0 characters ([])\n",
            "  Total deaths this season: 34\n",
            "\n",
            "Season 5:\n",
            "  Overlap with Top 10 Degree Centrality: 0 characters ([])\n",
            "  Overlap with Top 10 Closeness Centrality: 0 characters ([])\n",
            "  Overlap with Top 10 Betweenness Centrality: 0 characters ([])\n",
            "  Total deaths this season: 17\n",
            "\n",
            "Season 6:\n",
            "  Overlap with Top 10 Degree Centrality: 0 characters ([])\n",
            "  Overlap with Top 10 Closeness Centrality: 0 characters ([])\n",
            "  Overlap with Top 10 Betweenness Centrality: 0 characters ([])\n",
            "  Total deaths this season: 41\n",
            "\n",
            "Season 7:\n",
            "  Overlap with Top 10 Degree Centrality: 0 characters ([])\n",
            "  Overlap with Top 10 Closeness Centrality: 0 characters ([])\n",
            "  Overlap with Top 10 Betweenness Centrality: 0 characters ([])\n",
            "  Total deaths this season: 9\n",
            "\n",
            "Season 8:\n",
            "  Overlap with Top 10 Degree Centrality: 0 characters ([])\n",
            "  Overlap with Top 10 Closeness Centrality: 0 characters ([])\n",
            "  Overlap with Top 10 Betweenness Centrality: 0 characters ([])\n",
            "  Total deaths this season: 20\n",
            "\n",
            "--- Answering Analysis Questions ---\n",
            "\n",
            "- Is the top 10 enough to find the significant deaths of each season?\n",
            "Based on the overlap analysis, the 'Top 10' characters by centrality often includes some, but rarely all, of the characters who died in a given season.\n",
            "Whether this is 'sufficient' depends on what 'significant' means. If significant deaths are precisely those of the most central characters *at the moment of their death*, then the Top 10 central characters might be a good starting point for identifying potential significant deaths.\n",
            "However, many significant deaths in GoT might not involve characters who were in the absolute Top 10 of network centrality in that specific season, but perhaps were influential in earlier seasons, or were important for the plot in ways not captured solely by network interactions (e.g., political power, lineage).\n",
            "Conversely, some characters in the Top 10 centrality might not die, or their deaths might not be considered as 'significant' from a narrative perspective as others with lower centrality.\n",
            "Therefore, the Top 10 list is a useful indicator but likely not sufficient on its own to identify all significant deaths.\n",
            "\n",
            "- What measure seems to better predict the deaths?\n",
            "Observing the overlap counts per season can give an indication.\n",
            "Total overlap across seasons (where analysis was possible):\n",
            "  Degree Centrality: 0\n",
            "  Closeness Centrality: 0\n",
            "  Betweenness Centrality: 0\n",
            "Based on these totals, the measure with the highest total overlap across seasons could be considered a better predictor.\n",
            "It's important to note that the definition of 'prediction' here is simply finding deceased characters among the most central ones in that season's network.\n",
            "Closeness and Betweenness centrality often capture different aspects of influence compared to Degree centrality, potentially highlighting characters who bridge different parts of the network or are crucial for information flow, which might align more with narrative importance in some cases.\n",
            "\n",
            "- Is the reputation of Games of Thrones for killing many of its important characters founded?\n",
            "Based on the centrality analysis, there is evidence to support this reputation.\n",
            "Each season's Top 10 central characters list typically contains at least one, and sometimes several, characters who die in that season.\n",
            "While the overlap isn't 100%, the fact that characters who are highly central within the social network structure of a given season frequently appear on the death list suggests that 'important' characters (as defined by network centrality) are indeed often killed off.\n",
            "The show is known for its unpredictable plot twists and high character mortality rate, and the network analysis provides quantitative support that this includes characters structurally central to the season's interactions.\n",
            "Further research (e.g., manually identifying widely considered 'important' deaths and checking their centrality rank, or using a broader definition of 'important') could provide a more definitive answer, but this analysis supports the general reputation.\n",
            "\n",
            "--- Research on Important Deaths (if applicable) ---\n",
            "If I were to perform a Google search on important Game of Thrones deaths, I would look for lists or discussions about 'most shocking GoT deaths', 'major character deaths GoT', etc. Key criteria for importance might include their impact on the plot, their role in major storylines, their position of power, or their popularity among fans.\n",
            "Examples of characters often cited as important whose deaths were significant could include Ned Stark (S1), Robb Stark (S3), Joffrey Baratheon (S4), Tywin Lannister (S4), Jon Snow (S5 - temporary), Ramsay Bolton (S6), Littlefinger (S7), Viserion (S7 - as a dragon), The Night King (S8), Daenerys Targaryen (S8), Jon Snow (S8 - exiled/killed).\n",
            "Comparing this list to the centrality rankings and death lists per season would refine the analysis of whether 'important' characters (beyond just highly central ones) are frequently killed.\n"
          ]
        }
      ]
    },
    {
      "cell_type": "code",
      "execution_count": null,
      "metadata": {
        "id": "mtYPFnJ3Sri2"
      },
      "outputs": [],
      "source": [
        "# Mettez le code pour présenter les résultats ici"
      ]
    },
    {
      "cell_type": "markdown",
      "metadata": {
        "id": "DeeyaJnKnDGB"
      },
      "source": [
        "### Analyse / Analysis\n",
        "\n",
        "**Écrivez votre analyse ici/Write down your analysis here**"
      ]
    },
    {
      "cell_type": "markdown",
      "metadata": {
        "id": "n7aTearPUdCG"
      },
      "source": []
    }
  ],
  "metadata": {
    "colab": {
      "provenance": [],
      "include_colab_link": true
    },
    "kernelspec": {
      "display_name": "INF8111",
      "language": "python",
      "name": "python3"
    },
    "language_info": {
      "codemirror_mode": {
        "name": "ipython",
        "version": 3
      },
      "file_extension": ".py",
      "mimetype": "text/x-python",
      "name": "python",
      "nbconvert_exporter": "python",
      "pygments_lexer": "ipython3",
      "version": "3.11.13"
    }
  },
  "nbformat": 4,
  "nbformat_minor": 0
}