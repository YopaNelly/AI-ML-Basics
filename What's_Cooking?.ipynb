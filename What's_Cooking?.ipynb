{
  "nbformat": 4,
  "nbformat_minor": 0,
  "metadata": {
    "colab": {
      "provenance": [],
      "authorship_tag": "ABX9TyPl5Htr/0/MN+wN8TZuFkEZ",
      "include_colab_link": true
    },
    "kernelspec": {
      "name": "python3",
      "display_name": "Python 3"
    },
    "language_info": {
      "name": "python"
    }
  },
  "cells": [
    {
      "cell_type": "markdown",
      "metadata": {
        "id": "view-in-github",
        "colab_type": "text"
      },
      "source": [
        "<a href=\"https://colab.research.google.com/github/YopaNelly/AI-ML-Basics/blob/main/What's_Cooking%3F.ipynb\" target=\"_parent\"><img src=\"https://colab.research.google.com/assets/colab-badge.svg\" alt=\"Open In Colab\"/></a>"
      ]
    },
    {
      "cell_type": "code",
      "execution_count": 1,
      "metadata": {
        "colab": {
          "base_uri": "https://localhost:8080/"
        },
        "id": "_ClHKh_wck4g",
        "outputId": "5a28e383-dfb9-45a6-daa8-0397c2239dac"
      },
      "outputs": [
        {
          "output_type": "stream",
          "name": "stdout",
          "text": [
            "Archive:  /content/whats-cooking.zip\n",
            "  inflating: sample_submission.csv.zip  \n",
            "  inflating: test.json.zip           \n",
            "  inflating: train.json.zip          \n"
          ]
        }
      ],
      "source": [
        "!unzip /content/whats-cooking.zip"
      ]
    },
    {
      "cell_type": "code",
      "source": [
        "!unzip /content/train.json.zip"
      ],
      "metadata": {
        "colab": {
          "base_uri": "https://localhost:8080/"
        },
        "id": "KDVPJbNGc5Bo",
        "outputId": "5b5a0e72-9de9-4433-c53d-dad7703fc18c"
      },
      "execution_count": 3,
      "outputs": [
        {
          "output_type": "stream",
          "name": "stdout",
          "text": [
            "Archive:  /content/train.json.zip\n",
            "  inflating: train.json              \n",
            "   creating: __MACOSX/\n",
            "  inflating: __MACOSX/._train.json   \n"
          ]
        }
      ]
    },
    {
      "cell_type": "code",
      "source": [
        "# prompt: change this to a dataframe train.json\n",
        "\n",
        "import pandas as pd\n",
        "\n",
        "train_df = pd.read_json('/content/train.json')\n",
        "print(train_df.head())\n"
      ],
      "metadata": {
        "colab": {
          "base_uri": "https://localhost:8080/"
        },
        "id": "j_lov6cddIZS",
        "outputId": "a213063f-fc56-4a38-cc59-c0d84ad0463d"
      },
      "execution_count": 4,
      "outputs": [
        {
          "output_type": "stream",
          "name": "stdout",
          "text": [
            "      id      cuisine                                        ingredients\n",
            "0  10259        greek  [romaine lettuce, black olives, grape tomatoes...\n",
            "1  25693  southern_us  [plain flour, ground pepper, salt, tomatoes, g...\n",
            "2  20130     filipino  [eggs, pepper, salt, mayonaise, cooking oil, g...\n",
            "3  22213       indian                [water, vegetable oil, wheat, salt]\n",
            "4  13162       indian  [black pepper, shallots, cornflour, cayenne pe...\n"
          ]
        }
      ]
    },
    {
      "cell_type": "code",
      "source": [
        "train_df.shape"
      ],
      "metadata": {
        "colab": {
          "base_uri": "https://localhost:8080/"
        },
        "id": "-0YxuF02eKCn",
        "outputId": "404b0a6e-b41b-44f8-9bd8-424e46019d87"
      },
      "execution_count": 6,
      "outputs": [
        {
          "output_type": "execute_result",
          "data": {
            "text/plain": [
              "(39774, 3)"
            ]
          },
          "metadata": {},
          "execution_count": 6
        }
      ]
    },
    {
      "cell_type": "code",
      "source": [
        "print(train_df[\"ingredients\"][0])"
      ],
      "metadata": {
        "colab": {
          "base_uri": "https://localhost:8080/"
        },
        "id": "grdRMhahep5d",
        "outputId": "610f76d8-9da2-4e3c-c8d7-fcd5c8144d43"
      },
      "execution_count": 7,
      "outputs": [
        {
          "output_type": "stream",
          "name": "stdout",
          "text": [
            "['romaine lettuce', 'black olives', 'grape tomatoes', 'garlic', 'pepper', 'purple onion', 'seasoning', 'garbanzo beans', 'feta cheese crumbles']\n"
          ]
        }
      ]
    },
    {
      "cell_type": "code",
      "source": [],
      "metadata": {
        "id": "ESYKQmqFfS-B"
      },
      "execution_count": null,
      "outputs": []
    }
  ]
}