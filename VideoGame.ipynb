{
  "nbformat": 4,
  "nbformat_minor": 0,
  "metadata": {
    "colab": {
      "provenance": [],
      "authorship_tag": "ABX9TyNde9krxW6Rljq9jFOHIZO4",
      "include_colab_link": true
    },
    "kernelspec": {
      "name": "python3",
      "display_name": "Python 3"
    },
    "language_info": {
      "name": "python"
    }
  },
  "cells": [
    {
      "cell_type": "markdown",
      "metadata": {
        "id": "view-in-github",
        "colab_type": "text"
      },
      "source": [
        "<a href=\"https://colab.research.google.com/github/YopaNelly/AI-ML-Basics/blob/main/VideoGame.ipynb\" target=\"_parent\"><img src=\"https://colab.research.google.com/assets/colab-badge.svg\" alt=\"Open In Colab\"/></a>"
      ]
    },
    {
      "cell_type": "code",
      "execution_count": null,
      "metadata": {
        "colab": {
          "base_uri": "https://localhost:8080/"
        },
        "id": "VuIb2RdGlt-r",
        "outputId": "2b33c2af-0732-496c-d6ff-e6139c92c4e3"
      },
      "outputs": [
        {
          "output_type": "stream",
          "name": "stdout",
          "text": [
            "Archive:  archive.zip\n",
            "  inflating: hltb.jsonlines          \n"
          ]
        }
      ],
      "source": [
        "!unzip archive.zip"
      ]
    },
    {
      "cell_type": "code",
      "source": [
        "!pip install jsonlines"
      ],
      "metadata": {
        "colab": {
          "base_uri": "https://localhost:8080/"
        },
        "id": "CUU8DkdCmPFh",
        "outputId": "56670568-2d62-4dd7-dad8-354a283b4565"
      },
      "execution_count": null,
      "outputs": [
        {
          "output_type": "stream",
          "name": "stdout",
          "text": [
            "Collecting jsonlines\n",
            "  Downloading jsonlines-4.0.0-py3-none-any.whl.metadata (1.6 kB)\n",
            "Requirement already satisfied: attrs>=19.2.0 in /usr/local/lib/python3.10/dist-packages (from jsonlines) (24.2.0)\n",
            "Downloading jsonlines-4.0.0-py3-none-any.whl (8.7 kB)\n",
            "Installing collected packages: jsonlines\n",
            "Successfully installed jsonlines-4.0.0\n"
          ]
        }
      ]
    },
    {
      "cell_type": "code",
      "source": [
        "#  the hltb.jsonlines to a df\n",
        "\n",
        "import pandas as pd\n",
        "import jsonlines\n",
        "\n",
        "df = pd.DataFrame()\n",
        "with jsonlines.open('hltb.jsonlines') as reader:\n",
        "    for obj in reader:\n",
        "        df = pd.concat([df, pd.DataFrame([obj])], ignore_index=True)\n",
        "print(df.head())\n"
      ],
      "metadata": {
        "colab": {
          "base_uri": "https://localhost:8080/"
        },
        "id": "UdTrMCl1l6UV",
        "outputId": "686ad795-a5ad-4cf6-89f3-67aafc973849"
      },
      "execution_count": null,
      "outputs": [
        {
          "output_type": "stream",
          "name": "stdout",
          "text": [
            "                               Name  \\\n",
            "0                     Borderlands 3   \n",
            "1                       Dying Light   \n",
            "2       Middle-Earth: Shadow of War   \n",
            "3  Counter-Strike: Global Offensive   \n",
            "4               Grand Theft Auto IV   \n",
            "\n",
            "                                               Stats steam_app_id  \\\n",
            "0  {'Additional Content': {'Moxxi's Heist of the ...       397540   \n",
            "1  {'Additional Content': {'The Following': {'Pol...       239140   \n",
            "2  {'Additional Content': {'Blade of Galadriel': ...       356190   \n",
            "3  {'Multi-Player': {'Co-Op': {'Polled': '34', 'A...          730   \n",
            "4  {'Additional Content': {'The Lost and Damned':...         5152   \n",
            "\n",
            "  Release_date                                          Genres  Review_score  \n",
            "0   2019-09-13                   First-Person, Action, Shooter            76  \n",
            "1   2015-01-27  Action, Adventure, Open World, Survival Horror            78  \n",
            "2   2017-10-10                               Action, Adventure            76  \n",
            "3   2012-08-21                           First-Person, Shooter            74  \n",
            "4   2008-04-29          Third-Person, Action, Sandbox, Shooter            82  \n"
          ]
        }
      ]
    },
    {
      "cell_type": "code",
      "source": [],
      "metadata": {
        "id": "0LigKeiOmUKG"
      },
      "execution_count": null,
      "outputs": []
    }
  ]
}