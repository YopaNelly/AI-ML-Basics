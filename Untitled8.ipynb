{
  "nbformat": 4,
  "nbformat_minor": 0,
  "metadata": {
    "colab": {
      "provenance": [],
      "authorship_tag": "ABX9TyNhgWX42iOclGlgeDdtSLDG",
      "include_colab_link": true
    },
    "kernelspec": {
      "name": "python3",
      "display_name": "Python 3"
    },
    "language_info": {
      "name": "python"
    }
  },
  "cells": [
    {
      "cell_type": "markdown",
      "metadata": {
        "id": "view-in-github",
        "colab_type": "text"
      },
      "source": [
        "<a href=\"https://colab.research.google.com/github/YopaNelly/AI-ML-Basics/blob/main/Untitled8.ipynb\" target=\"_parent\"><img src=\"https://colab.research.google.com/assets/colab-badge.svg\" alt=\"Open In Colab\"/></a>"
      ]
    },
    {
      "cell_type": "code",
      "source": [
        "# @title  Import all the modules needed to build and evaluate the pipeline, including pandas and seaborn for more advanced visualizations:\n"
      ],
      "metadata": {
        "id": "Z7NZelp7-vB5"
      },
      "execution_count": 1,
      "outputs": []
    },
    {
      "cell_type": "code",
      "execution_count": 2,
      "metadata": {
        "id": "Ccof2qIc96QC"
      },
      "outputs": [],
      "source": [
        "import tarfile\n",
        "import urllib\n",
        "\n",
        "import numpy as np\n",
        "import matplotlib.pyplot as plt\n",
        "import pandas as pd\n",
        "import seaborn as sns\n",
        "\n",
        "from sklearn.cluster import KMeans\n",
        "from sklearn.decomposition import PCA\n",
        "from sklearn.metrics import silhouette_score, adjusted_rand_score\n",
        "from sklearn.pipeline import Pipeline\n",
        "from sklearn.preprocessing import LabelEncoder, MinMaxScaler"
      ]
    },
    {
      "cell_type": "code",
      "source": [
        "# @title Download and extract the TCGA dataset from UCI\n",
        "\n"
      ],
      "metadata": {
        "id": "sH-xXsZ0As2x"
      },
      "execution_count": 3,
      "outputs": []
    },
    {
      "cell_type": "code",
      "source": [
        "uci_tcga_url = \"https://archive.ics.uci.edu/ml/machine-learning-databases/00401/\"\n",
        "archive_name = \"TCGA-PANCAN-HiSeq-801x20531.tar.gz\"\n",
        "\n",
        "# Build the url\n",
        "full_download_url = urllib.parse.urljoin(uci_tcga_url, archive_name)\n",
        "\n",
        "# Download the file\n",
        "r = urllib.request.urlretrieve (full_download_url, archive_name)\n",
        "\n",
        "# Extract the data from the archive\n",
        "tar = tarfile.open(archive_name, \"r:gz\")\n",
        "tar.extractall()\n",
        "tar.close()"
      ],
      "metadata": {
        "id": "4y_Y1Pq6_Eec"
      },
      "execution_count": 4,
      "outputs": []
    },
    {
      "cell_type": "code",
      "source": [
        "datafile = \"TCGA-PANCAN-HiSeq-801x20531/data.csv\"\n",
        "labels_file = \"TCGA-PANCAN-HiSeq-801x20531/labels.csv\"\n",
        "\n",
        "data = np.genfromtxt(\n",
        "    datafile,\n",
        "    delimiter=\",\",\n",
        "    usecols=range(1, 20532),\n",
        "    skip_header=1\n",
        ")\n",
        "\n",
        "true_label_names = np.genfromtxt(\n",
        "    labels_file,\n",
        "    delimiter=\",\",\n",
        "    usecols=(1,),\n",
        "    skip_header=1,\n",
        "    dtype=\"str\"\n",
        ")"
      ],
      "metadata": {
        "id": "jFF3Uc84A7Tp"
      },
      "execution_count": null,
      "outputs": []
    },
    {
      "cell_type": "code",
      "source": [
        "df= pd.read_csv(\"TCGA-PANCAN-HiSeq-801x20531/data.csv\")\n",
        "df.head()"
      ],
      "metadata": {
        "colab": {
          "base_uri": "https://localhost:8080/",
          "height": 272
        },
        "id": "MzvPF9zHBgV1",
        "outputId": "dd7c531e-f912-4bfe-864c-8c63d4a5d071"
      },
      "execution_count": 5,
      "outputs": [
        {
          "output_type": "execute_result",
          "data": {
            "text/plain": [
              "  Unnamed: 0  gene_0    gene_1    gene_2    gene_3     gene_4  gene_5  \\\n",
              "0   sample_0     0.0  2.017209  3.265527  5.478487  10.431999     0.0   \n",
              "1   sample_1     0.0  0.592732  1.588421  7.586157   9.623011     0.0   \n",
              "2   sample_2     0.0  3.511759  4.327199  6.881787   9.870730     0.0   \n",
              "3   sample_3     0.0  3.663618  4.507649  6.659068  10.196184     0.0   \n",
              "4   sample_4     0.0  2.655741  2.821547  6.539454   9.738265     0.0   \n",
              "\n",
              "     gene_6    gene_7  gene_8  ...  gene_20521  gene_20522  gene_20523  \\\n",
              "0  7.175175  0.591871     0.0  ...    4.926711    8.210257    9.723516   \n",
              "1  6.816049  0.000000     0.0  ...    4.593372    7.323865    9.740931   \n",
              "2  6.972130  0.452595     0.0  ...    5.125213    8.127123   10.908640   \n",
              "3  7.843375  0.434882     0.0  ...    6.076566    8.792959   10.141520   \n",
              "4  6.566967  0.360982     0.0  ...    5.996032    8.891425   10.373790   \n",
              "\n",
              "   gene_20524  gene_20525  gene_20526  gene_20527  gene_20528  gene_20529  \\\n",
              "0    7.220030    9.119813   12.003135    9.650743    8.921326    5.286759   \n",
              "1    6.256586    8.381612   12.674552   10.517059    9.397854    2.094168   \n",
              "2    5.401607    9.911597    9.045255    9.788359   10.090470    1.683023   \n",
              "3    8.942805    9.601208   11.392682    9.694814    9.684365    3.292001   \n",
              "4    7.181162    9.846910   11.922439    9.217749    9.461191    5.110372   \n",
              "\n",
              "   gene_20530  \n",
              "0         0.0  \n",
              "1         0.0  \n",
              "2         0.0  \n",
              "3         0.0  \n",
              "4         0.0  \n",
              "\n",
              "[5 rows x 20532 columns]"
            ],
            "text/html": [
              "\n",
              "  <div id=\"df-27ab7b9a-fc60-4ca0-8a11-bc17771dc9d0\" class=\"colab-df-container\">\n",
              "    <div>\n",
              "<style scoped>\n",
              "    .dataframe tbody tr th:only-of-type {\n",
              "        vertical-align: middle;\n",
              "    }\n",
              "\n",
              "    .dataframe tbody tr th {\n",
              "        vertical-align: top;\n",
              "    }\n",
              "\n",
              "    .dataframe thead th {\n",
              "        text-align: right;\n",
              "    }\n",
              "</style>\n",
              "<table border=\"1\" class=\"dataframe\">\n",
              "  <thead>\n",
              "    <tr style=\"text-align: right;\">\n",
              "      <th></th>\n",
              "      <th>Unnamed: 0</th>\n",
              "      <th>gene_0</th>\n",
              "      <th>gene_1</th>\n",
              "      <th>gene_2</th>\n",
              "      <th>gene_3</th>\n",
              "      <th>gene_4</th>\n",
              "      <th>gene_5</th>\n",
              "      <th>gene_6</th>\n",
              "      <th>gene_7</th>\n",
              "      <th>gene_8</th>\n",
              "      <th>...</th>\n",
              "      <th>gene_20521</th>\n",
              "      <th>gene_20522</th>\n",
              "      <th>gene_20523</th>\n",
              "      <th>gene_20524</th>\n",
              "      <th>gene_20525</th>\n",
              "      <th>gene_20526</th>\n",
              "      <th>gene_20527</th>\n",
              "      <th>gene_20528</th>\n",
              "      <th>gene_20529</th>\n",
              "      <th>gene_20530</th>\n",
              "    </tr>\n",
              "  </thead>\n",
              "  <tbody>\n",
              "    <tr>\n",
              "      <th>0</th>\n",
              "      <td>sample_0</td>\n",
              "      <td>0.0</td>\n",
              "      <td>2.017209</td>\n",
              "      <td>3.265527</td>\n",
              "      <td>5.478487</td>\n",
              "      <td>10.431999</td>\n",
              "      <td>0.0</td>\n",
              "      <td>7.175175</td>\n",
              "      <td>0.591871</td>\n",
              "      <td>0.0</td>\n",
              "      <td>...</td>\n",
              "      <td>4.926711</td>\n",
              "      <td>8.210257</td>\n",
              "      <td>9.723516</td>\n",
              "      <td>7.220030</td>\n",
              "      <td>9.119813</td>\n",
              "      <td>12.003135</td>\n",
              "      <td>9.650743</td>\n",
              "      <td>8.921326</td>\n",
              "      <td>5.286759</td>\n",
              "      <td>0.0</td>\n",
              "    </tr>\n",
              "    <tr>\n",
              "      <th>1</th>\n",
              "      <td>sample_1</td>\n",
              "      <td>0.0</td>\n",
              "      <td>0.592732</td>\n",
              "      <td>1.588421</td>\n",
              "      <td>7.586157</td>\n",
              "      <td>9.623011</td>\n",
              "      <td>0.0</td>\n",
              "      <td>6.816049</td>\n",
              "      <td>0.000000</td>\n",
              "      <td>0.0</td>\n",
              "      <td>...</td>\n",
              "      <td>4.593372</td>\n",
              "      <td>7.323865</td>\n",
              "      <td>9.740931</td>\n",
              "      <td>6.256586</td>\n",
              "      <td>8.381612</td>\n",
              "      <td>12.674552</td>\n",
              "      <td>10.517059</td>\n",
              "      <td>9.397854</td>\n",
              "      <td>2.094168</td>\n",
              "      <td>0.0</td>\n",
              "    </tr>\n",
              "    <tr>\n",
              "      <th>2</th>\n",
              "      <td>sample_2</td>\n",
              "      <td>0.0</td>\n",
              "      <td>3.511759</td>\n",
              "      <td>4.327199</td>\n",
              "      <td>6.881787</td>\n",
              "      <td>9.870730</td>\n",
              "      <td>0.0</td>\n",
              "      <td>6.972130</td>\n",
              "      <td>0.452595</td>\n",
              "      <td>0.0</td>\n",
              "      <td>...</td>\n",
              "      <td>5.125213</td>\n",
              "      <td>8.127123</td>\n",
              "      <td>10.908640</td>\n",
              "      <td>5.401607</td>\n",
              "      <td>9.911597</td>\n",
              "      <td>9.045255</td>\n",
              "      <td>9.788359</td>\n",
              "      <td>10.090470</td>\n",
              "      <td>1.683023</td>\n",
              "      <td>0.0</td>\n",
              "    </tr>\n",
              "    <tr>\n",
              "      <th>3</th>\n",
              "      <td>sample_3</td>\n",
              "      <td>0.0</td>\n",
              "      <td>3.663618</td>\n",
              "      <td>4.507649</td>\n",
              "      <td>6.659068</td>\n",
              "      <td>10.196184</td>\n",
              "      <td>0.0</td>\n",
              "      <td>7.843375</td>\n",
              "      <td>0.434882</td>\n",
              "      <td>0.0</td>\n",
              "      <td>...</td>\n",
              "      <td>6.076566</td>\n",
              "      <td>8.792959</td>\n",
              "      <td>10.141520</td>\n",
              "      <td>8.942805</td>\n",
              "      <td>9.601208</td>\n",
              "      <td>11.392682</td>\n",
              "      <td>9.694814</td>\n",
              "      <td>9.684365</td>\n",
              "      <td>3.292001</td>\n",
              "      <td>0.0</td>\n",
              "    </tr>\n",
              "    <tr>\n",
              "      <th>4</th>\n",
              "      <td>sample_4</td>\n",
              "      <td>0.0</td>\n",
              "      <td>2.655741</td>\n",
              "      <td>2.821547</td>\n",
              "      <td>6.539454</td>\n",
              "      <td>9.738265</td>\n",
              "      <td>0.0</td>\n",
              "      <td>6.566967</td>\n",
              "      <td>0.360982</td>\n",
              "      <td>0.0</td>\n",
              "      <td>...</td>\n",
              "      <td>5.996032</td>\n",
              "      <td>8.891425</td>\n",
              "      <td>10.373790</td>\n",
              "      <td>7.181162</td>\n",
              "      <td>9.846910</td>\n",
              "      <td>11.922439</td>\n",
              "      <td>9.217749</td>\n",
              "      <td>9.461191</td>\n",
              "      <td>5.110372</td>\n",
              "      <td>0.0</td>\n",
              "    </tr>\n",
              "  </tbody>\n",
              "</table>\n",
              "<p>5 rows × 20532 columns</p>\n",
              "</div>\n",
              "    <div class=\"colab-df-buttons\">\n",
              "\n",
              "  <div class=\"colab-df-container\">\n",
              "    <button class=\"colab-df-convert\" onclick=\"convertToInteractive('df-27ab7b9a-fc60-4ca0-8a11-bc17771dc9d0')\"\n",
              "            title=\"Convert this dataframe to an interactive table.\"\n",
              "            style=\"display:none;\">\n",
              "\n",
              "  <svg xmlns=\"http://www.w3.org/2000/svg\" height=\"24px\" viewBox=\"0 -960 960 960\">\n",
              "    <path d=\"M120-120v-720h720v720H120Zm60-500h600v-160H180v160Zm220 220h160v-160H400v160Zm0 220h160v-160H400v160ZM180-400h160v-160H180v160Zm440 0h160v-160H620v160ZM180-180h160v-160H180v160Zm440 0h160v-160H620v160Z\"/>\n",
              "  </svg>\n",
              "    </button>\n",
              "\n",
              "  <style>\n",
              "    .colab-df-container {\n",
              "      display:flex;\n",
              "      gap: 12px;\n",
              "    }\n",
              "\n",
              "    .colab-df-convert {\n",
              "      background-color: #E8F0FE;\n",
              "      border: none;\n",
              "      border-radius: 50%;\n",
              "      cursor: pointer;\n",
              "      display: none;\n",
              "      fill: #1967D2;\n",
              "      height: 32px;\n",
              "      padding: 0 0 0 0;\n",
              "      width: 32px;\n",
              "    }\n",
              "\n",
              "    .colab-df-convert:hover {\n",
              "      background-color: #E2EBFA;\n",
              "      box-shadow: 0px 1px 2px rgba(60, 64, 67, 0.3), 0px 1px 3px 1px rgba(60, 64, 67, 0.15);\n",
              "      fill: #174EA6;\n",
              "    }\n",
              "\n",
              "    .colab-df-buttons div {\n",
              "      margin-bottom: 4px;\n",
              "    }\n",
              "\n",
              "    [theme=dark] .colab-df-convert {\n",
              "      background-color: #3B4455;\n",
              "      fill: #D2E3FC;\n",
              "    }\n",
              "\n",
              "    [theme=dark] .colab-df-convert:hover {\n",
              "      background-color: #434B5C;\n",
              "      box-shadow: 0px 1px 3px 1px rgba(0, 0, 0, 0.15);\n",
              "      filter: drop-shadow(0px 1px 2px rgba(0, 0, 0, 0.3));\n",
              "      fill: #FFFFFF;\n",
              "    }\n",
              "  </style>\n",
              "\n",
              "    <script>\n",
              "      const buttonEl =\n",
              "        document.querySelector('#df-27ab7b9a-fc60-4ca0-8a11-bc17771dc9d0 button.colab-df-convert');\n",
              "      buttonEl.style.display =\n",
              "        google.colab.kernel.accessAllowed ? 'block' : 'none';\n",
              "\n",
              "      async function convertToInteractive(key) {\n",
              "        const element = document.querySelector('#df-27ab7b9a-fc60-4ca0-8a11-bc17771dc9d0');\n",
              "        const dataTable =\n",
              "          await google.colab.kernel.invokeFunction('convertToInteractive',\n",
              "                                                    [key], {});\n",
              "        if (!dataTable) return;\n",
              "\n",
              "        const docLinkHtml = 'Like what you see? Visit the ' +\n",
              "          '<a target=\"_blank\" href=https://colab.research.google.com/notebooks/data_table.ipynb>data table notebook</a>'\n",
              "          + ' to learn more about interactive tables.';\n",
              "        element.innerHTML = '';\n",
              "        dataTable['output_type'] = 'display_data';\n",
              "        await google.colab.output.renderOutput(dataTable, element);\n",
              "        const docLink = document.createElement('div');\n",
              "        docLink.innerHTML = docLinkHtml;\n",
              "        element.appendChild(docLink);\n",
              "      }\n",
              "    </script>\n",
              "  </div>\n",
              "\n",
              "\n",
              "<div id=\"df-9e8bbfef-8917-44df-a07e-3b8651b29832\">\n",
              "  <button class=\"colab-df-quickchart\" onclick=\"quickchart('df-9e8bbfef-8917-44df-a07e-3b8651b29832')\"\n",
              "            title=\"Suggest charts\"\n",
              "            style=\"display:none;\">\n",
              "\n",
              "<svg xmlns=\"http://www.w3.org/2000/svg\" height=\"24px\"viewBox=\"0 0 24 24\"\n",
              "     width=\"24px\">\n",
              "    <g>\n",
              "        <path d=\"M19 3H5c-1.1 0-2 .9-2 2v14c0 1.1.9 2 2 2h14c1.1 0 2-.9 2-2V5c0-1.1-.9-2-2-2zM9 17H7v-7h2v7zm4 0h-2V7h2v10zm4 0h-2v-4h2v4z\"/>\n",
              "    </g>\n",
              "</svg>\n",
              "  </button>\n",
              "\n",
              "<style>\n",
              "  .colab-df-quickchart {\n",
              "      --bg-color: #E8F0FE;\n",
              "      --fill-color: #1967D2;\n",
              "      --hover-bg-color: #E2EBFA;\n",
              "      --hover-fill-color: #174EA6;\n",
              "      --disabled-fill-color: #AAA;\n",
              "      --disabled-bg-color: #DDD;\n",
              "  }\n",
              "\n",
              "  [theme=dark] .colab-df-quickchart {\n",
              "      --bg-color: #3B4455;\n",
              "      --fill-color: #D2E3FC;\n",
              "      --hover-bg-color: #434B5C;\n",
              "      --hover-fill-color: #FFFFFF;\n",
              "      --disabled-bg-color: #3B4455;\n",
              "      --disabled-fill-color: #666;\n",
              "  }\n",
              "\n",
              "  .colab-df-quickchart {\n",
              "    background-color: var(--bg-color);\n",
              "    border: none;\n",
              "    border-radius: 50%;\n",
              "    cursor: pointer;\n",
              "    display: none;\n",
              "    fill: var(--fill-color);\n",
              "    height: 32px;\n",
              "    padding: 0;\n",
              "    width: 32px;\n",
              "  }\n",
              "\n",
              "  .colab-df-quickchart:hover {\n",
              "    background-color: var(--hover-bg-color);\n",
              "    box-shadow: 0 1px 2px rgba(60, 64, 67, 0.3), 0 1px 3px 1px rgba(60, 64, 67, 0.15);\n",
              "    fill: var(--button-hover-fill-color);\n",
              "  }\n",
              "\n",
              "  .colab-df-quickchart-complete:disabled,\n",
              "  .colab-df-quickchart-complete:disabled:hover {\n",
              "    background-color: var(--disabled-bg-color);\n",
              "    fill: var(--disabled-fill-color);\n",
              "    box-shadow: none;\n",
              "  }\n",
              "\n",
              "  .colab-df-spinner {\n",
              "    border: 2px solid var(--fill-color);\n",
              "    border-color: transparent;\n",
              "    border-bottom-color: var(--fill-color);\n",
              "    animation:\n",
              "      spin 1s steps(1) infinite;\n",
              "  }\n",
              "\n",
              "  @keyframes spin {\n",
              "    0% {\n",
              "      border-color: transparent;\n",
              "      border-bottom-color: var(--fill-color);\n",
              "      border-left-color: var(--fill-color);\n",
              "    }\n",
              "    20% {\n",
              "      border-color: transparent;\n",
              "      border-left-color: var(--fill-color);\n",
              "      border-top-color: var(--fill-color);\n",
              "    }\n",
              "    30% {\n",
              "      border-color: transparent;\n",
              "      border-left-color: var(--fill-color);\n",
              "      border-top-color: var(--fill-color);\n",
              "      border-right-color: var(--fill-color);\n",
              "    }\n",
              "    40% {\n",
              "      border-color: transparent;\n",
              "      border-right-color: var(--fill-color);\n",
              "      border-top-color: var(--fill-color);\n",
              "    }\n",
              "    60% {\n",
              "      border-color: transparent;\n",
              "      border-right-color: var(--fill-color);\n",
              "    }\n",
              "    80% {\n",
              "      border-color: transparent;\n",
              "      border-right-color: var(--fill-color);\n",
              "      border-bottom-color: var(--fill-color);\n",
              "    }\n",
              "    90% {\n",
              "      border-color: transparent;\n",
              "      border-bottom-color: var(--fill-color);\n",
              "    }\n",
              "  }\n",
              "</style>\n",
              "\n",
              "  <script>\n",
              "    async function quickchart(key) {\n",
              "      const quickchartButtonEl =\n",
              "        document.querySelector('#' + key + ' button');\n",
              "      quickchartButtonEl.disabled = true;  // To prevent multiple clicks.\n",
              "      quickchartButtonEl.classList.add('colab-df-spinner');\n",
              "      try {\n",
              "        const charts = await google.colab.kernel.invokeFunction(\n",
              "            'suggestCharts', [key], {});\n",
              "      } catch (error) {\n",
              "        console.error('Error during call to suggestCharts:', error);\n",
              "      }\n",
              "      quickchartButtonEl.classList.remove('colab-df-spinner');\n",
              "      quickchartButtonEl.classList.add('colab-df-quickchart-complete');\n",
              "    }\n",
              "    (() => {\n",
              "      let quickchartButtonEl =\n",
              "        document.querySelector('#df-9e8bbfef-8917-44df-a07e-3b8651b29832 button');\n",
              "      quickchartButtonEl.style.display =\n",
              "        google.colab.kernel.accessAllowed ? 'block' : 'none';\n",
              "    })();\n",
              "  </script>\n",
              "</div>\n",
              "\n",
              "    </div>\n",
              "  </div>\n"
            ],
            "application/vnd.google.colaboratory.intrinsic+json": {
              "type": "dataframe",
              "variable_name": "df"
            }
          },
          "metadata": {},
          "execution_count": 5
        }
      ]
    },
    {
      "cell_type": "code",
      "source": [
        "df= pd.read_csv(\"TCGA-PANCAN-HiSeq-801x20531/labels.csv\")\n",
        "df.head(10)"
      ],
      "metadata": {
        "colab": {
          "base_uri": "https://localhost:8080/",
          "height": 363
        },
        "id": "xTl2JYYDEOhN",
        "outputId": "eab3ff1c-de4e-4070-de7f-2ec5efc236cc"
      },
      "execution_count": 10,
      "outputs": [
        {
          "output_type": "execute_result",
          "data": {
            "text/plain": [
              "  Unnamed: 0 Class\n",
              "0   sample_0  PRAD\n",
              "1   sample_1  LUAD\n",
              "2   sample_2  PRAD\n",
              "3   sample_3  PRAD\n",
              "4   sample_4  BRCA\n",
              "5   sample_5  PRAD\n",
              "6   sample_6  KIRC\n",
              "7   sample_7  PRAD\n",
              "8   sample_8  BRCA\n",
              "9   sample_9  PRAD"
            ],
            "text/html": [
              "\n",
              "  <div id=\"df-a00f3882-84b7-4c06-a4ac-0826adeb7e20\" class=\"colab-df-container\">\n",
              "    <div>\n",
              "<style scoped>\n",
              "    .dataframe tbody tr th:only-of-type {\n",
              "        vertical-align: middle;\n",
              "    }\n",
              "\n",
              "    .dataframe tbody tr th {\n",
              "        vertical-align: top;\n",
              "    }\n",
              "\n",
              "    .dataframe thead th {\n",
              "        text-align: right;\n",
              "    }\n",
              "</style>\n",
              "<table border=\"1\" class=\"dataframe\">\n",
              "  <thead>\n",
              "    <tr style=\"text-align: right;\">\n",
              "      <th></th>\n",
              "      <th>Unnamed: 0</th>\n",
              "      <th>Class</th>\n",
              "    </tr>\n",
              "  </thead>\n",
              "  <tbody>\n",
              "    <tr>\n",
              "      <th>0</th>\n",
              "      <td>sample_0</td>\n",
              "      <td>PRAD</td>\n",
              "    </tr>\n",
              "    <tr>\n",
              "      <th>1</th>\n",
              "      <td>sample_1</td>\n",
              "      <td>LUAD</td>\n",
              "    </tr>\n",
              "    <tr>\n",
              "      <th>2</th>\n",
              "      <td>sample_2</td>\n",
              "      <td>PRAD</td>\n",
              "    </tr>\n",
              "    <tr>\n",
              "      <th>3</th>\n",
              "      <td>sample_3</td>\n",
              "      <td>PRAD</td>\n",
              "    </tr>\n",
              "    <tr>\n",
              "      <th>4</th>\n",
              "      <td>sample_4</td>\n",
              "      <td>BRCA</td>\n",
              "    </tr>\n",
              "    <tr>\n",
              "      <th>5</th>\n",
              "      <td>sample_5</td>\n",
              "      <td>PRAD</td>\n",
              "    </tr>\n",
              "    <tr>\n",
              "      <th>6</th>\n",
              "      <td>sample_6</td>\n",
              "      <td>KIRC</td>\n",
              "    </tr>\n",
              "    <tr>\n",
              "      <th>7</th>\n",
              "      <td>sample_7</td>\n",
              "      <td>PRAD</td>\n",
              "    </tr>\n",
              "    <tr>\n",
              "      <th>8</th>\n",
              "      <td>sample_8</td>\n",
              "      <td>BRCA</td>\n",
              "    </tr>\n",
              "    <tr>\n",
              "      <th>9</th>\n",
              "      <td>sample_9</td>\n",
              "      <td>PRAD</td>\n",
              "    </tr>\n",
              "  </tbody>\n",
              "</table>\n",
              "</div>\n",
              "    <div class=\"colab-df-buttons\">\n",
              "\n",
              "  <div class=\"colab-df-container\">\n",
              "    <button class=\"colab-df-convert\" onclick=\"convertToInteractive('df-a00f3882-84b7-4c06-a4ac-0826adeb7e20')\"\n",
              "            title=\"Convert this dataframe to an interactive table.\"\n",
              "            style=\"display:none;\">\n",
              "\n",
              "  <svg xmlns=\"http://www.w3.org/2000/svg\" height=\"24px\" viewBox=\"0 -960 960 960\">\n",
              "    <path d=\"M120-120v-720h720v720H120Zm60-500h600v-160H180v160Zm220 220h160v-160H400v160Zm0 220h160v-160H400v160ZM180-400h160v-160H180v160Zm440 0h160v-160H620v160ZM180-180h160v-160H180v160Zm440 0h160v-160H620v160Z\"/>\n",
              "  </svg>\n",
              "    </button>\n",
              "\n",
              "  <style>\n",
              "    .colab-df-container {\n",
              "      display:flex;\n",
              "      gap: 12px;\n",
              "    }\n",
              "\n",
              "    .colab-df-convert {\n",
              "      background-color: #E8F0FE;\n",
              "      border: none;\n",
              "      border-radius: 50%;\n",
              "      cursor: pointer;\n",
              "      display: none;\n",
              "      fill: #1967D2;\n",
              "      height: 32px;\n",
              "      padding: 0 0 0 0;\n",
              "      width: 32px;\n",
              "    }\n",
              "\n",
              "    .colab-df-convert:hover {\n",
              "      background-color: #E2EBFA;\n",
              "      box-shadow: 0px 1px 2px rgba(60, 64, 67, 0.3), 0px 1px 3px 1px rgba(60, 64, 67, 0.15);\n",
              "      fill: #174EA6;\n",
              "    }\n",
              "\n",
              "    .colab-df-buttons div {\n",
              "      margin-bottom: 4px;\n",
              "    }\n",
              "\n",
              "    [theme=dark] .colab-df-convert {\n",
              "      background-color: #3B4455;\n",
              "      fill: #D2E3FC;\n",
              "    }\n",
              "\n",
              "    [theme=dark] .colab-df-convert:hover {\n",
              "      background-color: #434B5C;\n",
              "      box-shadow: 0px 1px 3px 1px rgba(0, 0, 0, 0.15);\n",
              "      filter: drop-shadow(0px 1px 2px rgba(0, 0, 0, 0.3));\n",
              "      fill: #FFFFFF;\n",
              "    }\n",
              "  </style>\n",
              "\n",
              "    <script>\n",
              "      const buttonEl =\n",
              "        document.querySelector('#df-a00f3882-84b7-4c06-a4ac-0826adeb7e20 button.colab-df-convert');\n",
              "      buttonEl.style.display =\n",
              "        google.colab.kernel.accessAllowed ? 'block' : 'none';\n",
              "\n",
              "      async function convertToInteractive(key) {\n",
              "        const element = document.querySelector('#df-a00f3882-84b7-4c06-a4ac-0826adeb7e20');\n",
              "        const dataTable =\n",
              "          await google.colab.kernel.invokeFunction('convertToInteractive',\n",
              "                                                    [key], {});\n",
              "        if (!dataTable) return;\n",
              "\n",
              "        const docLinkHtml = 'Like what you see? Visit the ' +\n",
              "          '<a target=\"_blank\" href=https://colab.research.google.com/notebooks/data_table.ipynb>data table notebook</a>'\n",
              "          + ' to learn more about interactive tables.';\n",
              "        element.innerHTML = '';\n",
              "        dataTable['output_type'] = 'display_data';\n",
              "        await google.colab.output.renderOutput(dataTable, element);\n",
              "        const docLink = document.createElement('div');\n",
              "        docLink.innerHTML = docLinkHtml;\n",
              "        element.appendChild(docLink);\n",
              "      }\n",
              "    </script>\n",
              "  </div>\n",
              "\n",
              "\n",
              "<div id=\"df-e3ca9a10-cc3d-4683-8b8e-581786e02e11\">\n",
              "  <button class=\"colab-df-quickchart\" onclick=\"quickchart('df-e3ca9a10-cc3d-4683-8b8e-581786e02e11')\"\n",
              "            title=\"Suggest charts\"\n",
              "            style=\"display:none;\">\n",
              "\n",
              "<svg xmlns=\"http://www.w3.org/2000/svg\" height=\"24px\"viewBox=\"0 0 24 24\"\n",
              "     width=\"24px\">\n",
              "    <g>\n",
              "        <path d=\"M19 3H5c-1.1 0-2 .9-2 2v14c0 1.1.9 2 2 2h14c1.1 0 2-.9 2-2V5c0-1.1-.9-2-2-2zM9 17H7v-7h2v7zm4 0h-2V7h2v10zm4 0h-2v-4h2v4z\"/>\n",
              "    </g>\n",
              "</svg>\n",
              "  </button>\n",
              "\n",
              "<style>\n",
              "  .colab-df-quickchart {\n",
              "      --bg-color: #E8F0FE;\n",
              "      --fill-color: #1967D2;\n",
              "      --hover-bg-color: #E2EBFA;\n",
              "      --hover-fill-color: #174EA6;\n",
              "      --disabled-fill-color: #AAA;\n",
              "      --disabled-bg-color: #DDD;\n",
              "  }\n",
              "\n",
              "  [theme=dark] .colab-df-quickchart {\n",
              "      --bg-color: #3B4455;\n",
              "      --fill-color: #D2E3FC;\n",
              "      --hover-bg-color: #434B5C;\n",
              "      --hover-fill-color: #FFFFFF;\n",
              "      --disabled-bg-color: #3B4455;\n",
              "      --disabled-fill-color: #666;\n",
              "  }\n",
              "\n",
              "  .colab-df-quickchart {\n",
              "    background-color: var(--bg-color);\n",
              "    border: none;\n",
              "    border-radius: 50%;\n",
              "    cursor: pointer;\n",
              "    display: none;\n",
              "    fill: var(--fill-color);\n",
              "    height: 32px;\n",
              "    padding: 0;\n",
              "    width: 32px;\n",
              "  }\n",
              "\n",
              "  .colab-df-quickchart:hover {\n",
              "    background-color: var(--hover-bg-color);\n",
              "    box-shadow: 0 1px 2px rgba(60, 64, 67, 0.3), 0 1px 3px 1px rgba(60, 64, 67, 0.15);\n",
              "    fill: var(--button-hover-fill-color);\n",
              "  }\n",
              "\n",
              "  .colab-df-quickchart-complete:disabled,\n",
              "  .colab-df-quickchart-complete:disabled:hover {\n",
              "    background-color: var(--disabled-bg-color);\n",
              "    fill: var(--disabled-fill-color);\n",
              "    box-shadow: none;\n",
              "  }\n",
              "\n",
              "  .colab-df-spinner {\n",
              "    border: 2px solid var(--fill-color);\n",
              "    border-color: transparent;\n",
              "    border-bottom-color: var(--fill-color);\n",
              "    animation:\n",
              "      spin 1s steps(1) infinite;\n",
              "  }\n",
              "\n",
              "  @keyframes spin {\n",
              "    0% {\n",
              "      border-color: transparent;\n",
              "      border-bottom-color: var(--fill-color);\n",
              "      border-left-color: var(--fill-color);\n",
              "    }\n",
              "    20% {\n",
              "      border-color: transparent;\n",
              "      border-left-color: var(--fill-color);\n",
              "      border-top-color: var(--fill-color);\n",
              "    }\n",
              "    30% {\n",
              "      border-color: transparent;\n",
              "      border-left-color: var(--fill-color);\n",
              "      border-top-color: var(--fill-color);\n",
              "      border-right-color: var(--fill-color);\n",
              "    }\n",
              "    40% {\n",
              "      border-color: transparent;\n",
              "      border-right-color: var(--fill-color);\n",
              "      border-top-color: var(--fill-color);\n",
              "    }\n",
              "    60% {\n",
              "      border-color: transparent;\n",
              "      border-right-color: var(--fill-color);\n",
              "    }\n",
              "    80% {\n",
              "      border-color: transparent;\n",
              "      border-right-color: var(--fill-color);\n",
              "      border-bottom-color: var(--fill-color);\n",
              "    }\n",
              "    90% {\n",
              "      border-color: transparent;\n",
              "      border-bottom-color: var(--fill-color);\n",
              "    }\n",
              "  }\n",
              "</style>\n",
              "\n",
              "  <script>\n",
              "    async function quickchart(key) {\n",
              "      const quickchartButtonEl =\n",
              "        document.querySelector('#' + key + ' button');\n",
              "      quickchartButtonEl.disabled = true;  // To prevent multiple clicks.\n",
              "      quickchartButtonEl.classList.add('colab-df-spinner');\n",
              "      try {\n",
              "        const charts = await google.colab.kernel.invokeFunction(\n",
              "            'suggestCharts', [key], {});\n",
              "      } catch (error) {\n",
              "        console.error('Error during call to suggestCharts:', error);\n",
              "      }\n",
              "      quickchartButtonEl.classList.remove('colab-df-spinner');\n",
              "      quickchartButtonEl.classList.add('colab-df-quickchart-complete');\n",
              "    }\n",
              "    (() => {\n",
              "      let quickchartButtonEl =\n",
              "        document.querySelector('#df-e3ca9a10-cc3d-4683-8b8e-581786e02e11 button');\n",
              "      quickchartButtonEl.style.display =\n",
              "        google.colab.kernel.accessAllowed ? 'block' : 'none';\n",
              "    })();\n",
              "  </script>\n",
              "</div>\n",
              "\n",
              "    </div>\n",
              "  </div>\n"
            ],
            "application/vnd.google.colaboratory.intrinsic+json": {
              "type": "dataframe",
              "variable_name": "df",
              "summary": "{\n  \"name\": \"df\",\n  \"rows\": 801,\n  \"fields\": [\n    {\n      \"column\": \"Unnamed: 0\",\n      \"properties\": {\n        \"dtype\": \"string\",\n        \"num_unique_values\": 801,\n        \"samples\": [\n          \"sample_697\",\n          \"sample_668\",\n          \"sample_63\"\n        ],\n        \"semantic_type\": \"\",\n        \"description\": \"\"\n      }\n    },\n    {\n      \"column\": \"Class\",\n      \"properties\": {\n        \"dtype\": \"category\",\n        \"num_unique_values\": 5,\n        \"samples\": [\n          \"LUAD\",\n          \"COAD\",\n          \"BRCA\"\n        ],\n        \"semantic_type\": \"\",\n        \"description\": \"\"\n      }\n    }\n  ]\n}"
            }
          },
          "metadata": {},
          "execution_count": 10
        }
      ]
    },
    {
      "cell_type": "code",
      "source": [
        "# @title Load the data from the text file into memory as NumPy arrays\n"
      ],
      "metadata": {
        "id": "Kx1PUf5kBuEZ"
      },
      "execution_count": 6,
      "outputs": []
    },
    {
      "cell_type": "code",
      "source": [
        "datafile = \"TCGA-PANCAN-HiSeq-801x20531/data.csv\"\n",
        "labels_file = \"TCGA-PANCAN-HiSeq-801x20531/labels.csv\"\n",
        "\n",
        "data = np.genfromtxt(\n",
        "    datafile,\n",
        "    delimiter=\",\",\n",
        "    usecols=range(1, 20532),\n",
        "    skip_header=1\n",
        ")\n",
        "\n",
        "true_label_names = np.genfromtxt(\n",
        "    labels_file,\n",
        "    delimiter=\",\",\n",
        "    usecols=(1,),\n",
        "    skip_header=1,\n",
        "    dtype=\"str\"\n",
        ")"
      ],
      "metadata": {
        "id": "ktcBaqxYCuy9"
      },
      "execution_count": 7,
      "outputs": []
    },
    {
      "cell_type": "code",
      "source": [
        "# @title Check out the first three columns of data for the first five samples as well as the labels for the first five samples\n"
      ],
      "metadata": {
        "id": "Vsq53lzID1y_"
      },
      "execution_count": 8,
      "outputs": []
    },
    {
      "cell_type": "code",
      "source": [
        "data[:10, :3]\n"
      ],
      "metadata": {
        "colab": {
          "base_uri": "https://localhost:8080/"
        },
        "id": "W8uPGvvhD9tA",
        "outputId": "b7935377-da89-4d3e-c282-a9b52c3cfbdf"
      },
      "execution_count": 13,
      "outputs": [
        {
          "output_type": "execute_result",
          "data": {
            "text/plain": [
              "array([[0.        , 2.01720929, 3.26552691],\n",
              "       [0.        , 0.59273209, 1.58842082],\n",
              "       [0.        , 3.51175898, 4.32719872],\n",
              "       [0.        , 3.66361787, 4.50764878],\n",
              "       [0.        , 2.65574107, 2.82154696],\n",
              "       [0.        , 3.46785331, 3.58191761],\n",
              "       [0.        , 1.22496637, 1.6911768 ],\n",
              "       [0.        , 2.85485343, 1.75047788],\n",
              "       [0.        , 3.99212487, 2.77273025],\n",
              "       [0.        , 3.64249364, 4.423558  ]])"
            ]
          },
          "metadata": {},
          "execution_count": 13
        }
      ]
    },
    {
      "cell_type": "code",
      "source": [
        "true_label_names[:5]\n"
      ],
      "metadata": {
        "colab": {
          "base_uri": "https://localhost:8080/"
        },
        "id": "9sd8X6E1En-D",
        "outputId": "3a0e1c0b-dd72-4912-ea14-7144cf95da82"
      },
      "execution_count": 14,
      "outputs": [
        {
          "output_type": "execute_result",
          "data": {
            "text/plain": [
              "array(['PRAD', 'LUAD', 'PRAD', 'PRAD', 'BRCA'], dtype='<U4')"
            ]
          },
          "metadata": {},
          "execution_count": 14
        }
      ]
    },
    {
      "cell_type": "code",
      "source": [],
      "metadata": {
        "id": "K32Y55POE5Sb"
      },
      "execution_count": null,
      "outputs": []
    },
    {
      "cell_type": "markdown",
      "source": [
        "BRCA: Breast invasive carcinoma\n",
        "\n",
        "COAD: Colon adenocarcinoma\n",
        "\n",
        "KIRC: Kidney renal clear cell carcinoma\n",
        "\n",
        "LUAD: Lung adenocarcinoma\n",
        "\n",
        "PRAD: Prostate adenocarcinoma\n",
        "\n",
        "To use these labels in the evaluation methods, you first need to convert the abbreviations to integers with LabelEncoder:"
      ],
      "metadata": {
        "id": "YdSgzu5cFnGF"
      }
    },
    {
      "cell_type": "code",
      "source": [
        "label_encoder = LabelEncoder()\n",
        "\n",
        "true_labels = label_encoder.fit_transform(true_label_names)\n",
        "\n",
        "true_labels[:5]"
      ],
      "metadata": {
        "colab": {
          "base_uri": "https://localhost:8080/"
        },
        "id": "_uKaWzXRFoTL",
        "outputId": "87e143e8-361a-400a-be6e-de6011088226"
      },
      "execution_count": 15,
      "outputs": [
        {
          "output_type": "execute_result",
          "data": {
            "text/plain": [
              "array([4, 3, 4, 4, 0])"
            ]
          },
          "metadata": {},
          "execution_count": 15
        }
      ]
    },
    {
      "cell_type": "code",
      "source": [],
      "metadata": {
        "id": "01lnfXHJFzQn"
      },
      "execution_count": null,
      "outputs": []
    },
    {
      "cell_type": "markdown",
      "source": [
        "Since the label_encoder has been fitted to the data, you can see the unique classes represented using .classes_. Store the length of the array to the variable n_clusters for later use"
      ],
      "metadata": {
        "id": "qAL_BozKGUrR"
      }
    },
    {
      "cell_type": "code",
      "source": [
        "label_encoder.classes_\n",
        "\n",
        "\n",
        "n_clusters = len(label_encoder.classes_)"
      ],
      "metadata": {
        "id": "lRyMzlidGVwV"
      },
      "execution_count": 16,
      "outputs": []
    },
    {
      "cell_type": "code",
      "source": [],
      "metadata": {
        "id": "VpX19ogIGclt"
      },
      "execution_count": null,
      "outputs": []
    },
    {
      "cell_type": "markdown",
      "source": [
        "The next step in your preprocessing pipeline will implement the PCA class to perform dimensionality reduction:\n",
        "\n"
      ],
      "metadata": {
        "id": "KyZoigLRS5Om"
      }
    },
    {
      "cell_type": "code",
      "source": [
        "preprocessor = Pipeline(\n",
        "    [\n",
        "        (\"scaler\", MinMaxScaler()),\n",
        "        (\"pca\", PCA(n_components=2, random_state=42)),\n",
        "    ]\n",
        ")"
      ],
      "metadata": {
        "id": "7cLIBq1GS6US"
      },
      "execution_count": 17,
      "outputs": []
    },
    {
      "cell_type": "code",
      "source": [],
      "metadata": {
        "id": "7SLqm4dzTn1o"
      },
      "execution_count": null,
      "outputs": []
    },
    {
      "cell_type": "markdown",
      "source": [
        "Build the k-means clustering pipeline with user-defined arguments in the KMeans constructor:"
      ],
      "metadata": {
        "id": "q172NFFATsk7"
      }
    },
    {
      "cell_type": "code",
      "source": [
        "clusterer = Pipeline(\n",
        "   [\n",
        "       (\n",
        "           \"kmeans\",\n",
        "           KMeans(\n",
        "               n_clusters=n_clusters,\n",
        "               init=\"k-means++\",\n",
        "               n_init=50,\n",
        "               max_iter=500,\n",
        "               random_state=42,\n",
        "           ),\n",
        "       ),\n",
        "   ]\n",
        ")"
      ],
      "metadata": {
        "id": "ue1vAvz0S_mS"
      },
      "execution_count": 18,
      "outputs": []
    },
    {
      "cell_type": "code",
      "source": [],
      "metadata": {
        "id": "kaNr4o2vTeV8"
      },
      "execution_count": null,
      "outputs": []
    },
    {
      "cell_type": "markdown",
      "source": [
        "Build an end-to-end k-means clustering pipeline by passing the \"preprocessor\" and \"clusterer\" pipelines to Pipeline"
      ],
      "metadata": {
        "id": "7mnjQwmQT6N1"
      }
    },
    {
      "cell_type": "code",
      "source": [
        "pipe = Pipeline(\n",
        "    [\n",
        "        (\"preprocessor\", preprocessor),\n",
        "        (\"clusterer\", clusterer)\n",
        "    ]\n",
        ")"
      ],
      "metadata": {
        "id": "QIV7XuJaT62k"
      },
      "execution_count": 19,
      "outputs": []
    },
    {
      "cell_type": "code",
      "source": [],
      "metadata": {
        "id": "v3fXUoY6T9J-"
      },
      "execution_count": null,
      "outputs": []
    },
    {
      "cell_type": "markdown",
      "source": [
        "Calling .fit() with data as the argument performs all the pipeline steps on the data"
      ],
      "metadata": {
        "id": "zAvt6LGVUAaB"
      }
    },
    {
      "cell_type": "code",
      "source": [
        "pipe.fit(data)"
      ],
      "metadata": {
        "colab": {
          "base_uri": "https://localhost:8080/",
          "height": 208
        },
        "id": "thHj-4JhUBS9",
        "outputId": "df883854-cd99-484a-c7a6-9f77fd1a880c"
      },
      "execution_count": 20,
      "outputs": [
        {
          "output_type": "execute_result",
          "data": {
            "text/plain": [
              "Pipeline(steps=[('preprocessor',\n",
              "                 Pipeline(steps=[('scaler', MinMaxScaler()),\n",
              "                                 ('pca',\n",
              "                                  PCA(n_components=2, random_state=42))])),\n",
              "                ('clusterer',\n",
              "                 Pipeline(steps=[('kmeans',\n",
              "                                  KMeans(max_iter=500, n_clusters=5, n_init=50,\n",
              "                                         random_state=42))]))])"
            ],
            "text/html": [
              "<style>#sk-container-id-1 {color: black;}#sk-container-id-1 pre{padding: 0;}#sk-container-id-1 div.sk-toggleable {background-color: white;}#sk-container-id-1 label.sk-toggleable__label {cursor: pointer;display: block;width: 100%;margin-bottom: 0;padding: 0.3em;box-sizing: border-box;text-align: center;}#sk-container-id-1 label.sk-toggleable__label-arrow:before {content: \"▸\";float: left;margin-right: 0.25em;color: #696969;}#sk-container-id-1 label.sk-toggleable__label-arrow:hover:before {color: black;}#sk-container-id-1 div.sk-estimator:hover label.sk-toggleable__label-arrow:before {color: black;}#sk-container-id-1 div.sk-toggleable__content {max-height: 0;max-width: 0;overflow: hidden;text-align: left;background-color: #f0f8ff;}#sk-container-id-1 div.sk-toggleable__content pre {margin: 0.2em;color: black;border-radius: 0.25em;background-color: #f0f8ff;}#sk-container-id-1 input.sk-toggleable__control:checked~div.sk-toggleable__content {max-height: 200px;max-width: 100%;overflow: auto;}#sk-container-id-1 input.sk-toggleable__control:checked~label.sk-toggleable__label-arrow:before {content: \"▾\";}#sk-container-id-1 div.sk-estimator input.sk-toggleable__control:checked~label.sk-toggleable__label {background-color: #d4ebff;}#sk-container-id-1 div.sk-label input.sk-toggleable__control:checked~label.sk-toggleable__label {background-color: #d4ebff;}#sk-container-id-1 input.sk-hidden--visually {border: 0;clip: rect(1px 1px 1px 1px);clip: rect(1px, 1px, 1px, 1px);height: 1px;margin: -1px;overflow: hidden;padding: 0;position: absolute;width: 1px;}#sk-container-id-1 div.sk-estimator {font-family: monospace;background-color: #f0f8ff;border: 1px dotted black;border-radius: 0.25em;box-sizing: border-box;margin-bottom: 0.5em;}#sk-container-id-1 div.sk-estimator:hover {background-color: #d4ebff;}#sk-container-id-1 div.sk-parallel-item::after {content: \"\";width: 100%;border-bottom: 1px solid gray;flex-grow: 1;}#sk-container-id-1 div.sk-label:hover label.sk-toggleable__label {background-color: #d4ebff;}#sk-container-id-1 div.sk-serial::before {content: \"\";position: absolute;border-left: 1px solid gray;box-sizing: border-box;top: 0;bottom: 0;left: 50%;z-index: 0;}#sk-container-id-1 div.sk-serial {display: flex;flex-direction: column;align-items: center;background-color: white;padding-right: 0.2em;padding-left: 0.2em;position: relative;}#sk-container-id-1 div.sk-item {position: relative;z-index: 1;}#sk-container-id-1 div.sk-parallel {display: flex;align-items: stretch;justify-content: center;background-color: white;position: relative;}#sk-container-id-1 div.sk-item::before, #sk-container-id-1 div.sk-parallel-item::before {content: \"\";position: absolute;border-left: 1px solid gray;box-sizing: border-box;top: 0;bottom: 0;left: 50%;z-index: -1;}#sk-container-id-1 div.sk-parallel-item {display: flex;flex-direction: column;z-index: 1;position: relative;background-color: white;}#sk-container-id-1 div.sk-parallel-item:first-child::after {align-self: flex-end;width: 50%;}#sk-container-id-1 div.sk-parallel-item:last-child::after {align-self: flex-start;width: 50%;}#sk-container-id-1 div.sk-parallel-item:only-child::after {width: 0;}#sk-container-id-1 div.sk-dashed-wrapped {border: 1px dashed gray;margin: 0 0.4em 0.5em 0.4em;box-sizing: border-box;padding-bottom: 0.4em;background-color: white;}#sk-container-id-1 div.sk-label label {font-family: monospace;font-weight: bold;display: inline-block;line-height: 1.2em;}#sk-container-id-1 div.sk-label-container {text-align: center;}#sk-container-id-1 div.sk-container {/* jupyter's `normalize.less` sets `[hidden] { display: none; }` but bootstrap.min.css set `[hidden] { display: none !important; }` so we also need the `!important` here to be able to override the default hidden behavior on the sphinx rendered scikit-learn.org. See: https://github.com/scikit-learn/scikit-learn/issues/21755 */display: inline-block !important;position: relative;}#sk-container-id-1 div.sk-text-repr-fallback {display: none;}</style><div id=\"sk-container-id-1\" class=\"sk-top-container\"><div class=\"sk-text-repr-fallback\"><pre>Pipeline(steps=[(&#x27;preprocessor&#x27;,\n",
              "                 Pipeline(steps=[(&#x27;scaler&#x27;, MinMaxScaler()),\n",
              "                                 (&#x27;pca&#x27;,\n",
              "                                  PCA(n_components=2, random_state=42))])),\n",
              "                (&#x27;clusterer&#x27;,\n",
              "                 Pipeline(steps=[(&#x27;kmeans&#x27;,\n",
              "                                  KMeans(max_iter=500, n_clusters=5, n_init=50,\n",
              "                                         random_state=42))]))])</pre><b>In a Jupyter environment, please rerun this cell to show the HTML representation or trust the notebook. <br />On GitHub, the HTML representation is unable to render, please try loading this page with nbviewer.org.</b></div><div class=\"sk-container\" hidden><div class=\"sk-item sk-dashed-wrapped\"><div class=\"sk-label-container\"><div class=\"sk-label sk-toggleable\"><input class=\"sk-toggleable__control sk-hidden--visually\" id=\"sk-estimator-id-1\" type=\"checkbox\" ><label for=\"sk-estimator-id-1\" class=\"sk-toggleable__label sk-toggleable__label-arrow\">Pipeline</label><div class=\"sk-toggleable__content\"><pre>Pipeline(steps=[(&#x27;preprocessor&#x27;,\n",
              "                 Pipeline(steps=[(&#x27;scaler&#x27;, MinMaxScaler()),\n",
              "                                 (&#x27;pca&#x27;,\n",
              "                                  PCA(n_components=2, random_state=42))])),\n",
              "                (&#x27;clusterer&#x27;,\n",
              "                 Pipeline(steps=[(&#x27;kmeans&#x27;,\n",
              "                                  KMeans(max_iter=500, n_clusters=5, n_init=50,\n",
              "                                         random_state=42))]))])</pre></div></div></div><div class=\"sk-serial\"><div class=\"sk-item\"><div class=\"sk-label-container\"><div class=\"sk-label sk-toggleable\"><input class=\"sk-toggleable__control sk-hidden--visually\" id=\"sk-estimator-id-2\" type=\"checkbox\" ><label for=\"sk-estimator-id-2\" class=\"sk-toggleable__label sk-toggleable__label-arrow\">preprocessor: Pipeline</label><div class=\"sk-toggleable__content\"><pre>Pipeline(steps=[(&#x27;scaler&#x27;, MinMaxScaler()),\n",
              "                (&#x27;pca&#x27;, PCA(n_components=2, random_state=42))])</pre></div></div></div><div class=\"sk-serial\"><div class=\"sk-item\"><div class=\"sk-estimator sk-toggleable\"><input class=\"sk-toggleable__control sk-hidden--visually\" id=\"sk-estimator-id-3\" type=\"checkbox\" ><label for=\"sk-estimator-id-3\" class=\"sk-toggleable__label sk-toggleable__label-arrow\">MinMaxScaler</label><div class=\"sk-toggleable__content\"><pre>MinMaxScaler()</pre></div></div></div><div class=\"sk-item\"><div class=\"sk-estimator sk-toggleable\"><input class=\"sk-toggleable__control sk-hidden--visually\" id=\"sk-estimator-id-4\" type=\"checkbox\" ><label for=\"sk-estimator-id-4\" class=\"sk-toggleable__label sk-toggleable__label-arrow\">PCA</label><div class=\"sk-toggleable__content\"><pre>PCA(n_components=2, random_state=42)</pre></div></div></div></div></div><div class=\"sk-item\"><div class=\"sk-label-container\"><div class=\"sk-label sk-toggleable\"><input class=\"sk-toggleable__control sk-hidden--visually\" id=\"sk-estimator-id-5\" type=\"checkbox\" ><label for=\"sk-estimator-id-5\" class=\"sk-toggleable__label sk-toggleable__label-arrow\">clusterer: Pipeline</label><div class=\"sk-toggleable__content\"><pre>Pipeline(steps=[(&#x27;kmeans&#x27;,\n",
              "                 KMeans(max_iter=500, n_clusters=5, n_init=50,\n",
              "                        random_state=42))])</pre></div></div></div><div class=\"sk-serial\"><div class=\"sk-item\"><div class=\"sk-estimator sk-toggleable\"><input class=\"sk-toggleable__control sk-hidden--visually\" id=\"sk-estimator-id-6\" type=\"checkbox\" ><label for=\"sk-estimator-id-6\" class=\"sk-toggleable__label sk-toggleable__label-arrow\">KMeans</label><div class=\"sk-toggleable__content\"><pre>KMeans(max_iter=500, n_clusters=5, n_init=50, random_state=42)</pre></div></div></div></div></div></div></div></div></div>"
            ]
          },
          "metadata": {},
          "execution_count": 20
        }
      ]
    },
    {
      "cell_type": "markdown",
      "source": [
        "Evaluate the performance by calculating the silhouette coefficient"
      ],
      "metadata": {
        "id": "XrZE45EbUTkk"
      }
    },
    {
      "cell_type": "code",
      "source": [
        "preprocessed_data = pipe[\"preprocessor\"].transform(data)\n",
        "\n",
        "predicted_labels = pipe[\"clusterer\"][\"kmeans\"].labels_\n",
        "\n",
        "silhouette_score(preprocessed_data, predicted_labels)"
      ],
      "metadata": {
        "colab": {
          "base_uri": "https://localhost:8080/"
        },
        "id": "OTZlEtiQUUu2",
        "outputId": "88222605-7067-4b24-adb6-df2791120318"
      },
      "execution_count": 21,
      "outputs": [
        {
          "output_type": "execute_result",
          "data": {
            "text/plain": [
              "0.5118775528450302"
            ]
          },
          "metadata": {},
          "execution_count": 21
        }
      ]
    },
    {
      "cell_type": "code",
      "source": [],
      "metadata": {
        "id": "4etKonfnUZhL"
      },
      "execution_count": null,
      "outputs": []
    },
    {
      "cell_type": "markdown",
      "source": [
        "Calculate ARI, too, since the ground truth cluster labels are available"
      ],
      "metadata": {
        "id": "xyyKEY-QUiFg"
      }
    },
    {
      "cell_type": "code",
      "source": [
        "adjusted_rand_score(true_labels, predicted_labels)"
      ],
      "metadata": {
        "colab": {
          "base_uri": "https://localhost:8080/"
        },
        "id": "M1ltbhR7UjAi",
        "outputId": "a82a0c33-2d68-44ae-87c8-bc6b5eae0798"
      },
      "execution_count": 22,
      "outputs": [
        {
          "output_type": "execute_result",
          "data": {
            "text/plain": [
              "0.722276752060253"
            ]
          },
          "metadata": {},
          "execution_count": 22
        }
      ]
    },
    {
      "cell_type": "code",
      "source": [
        "pcadf = pd.DataFrame(\n",
        "    pipe[\"preprocessor\"].transform(data),\n",
        "    columns=[\"component_1\", \"component_2\"],\n",
        ")\n",
        "\n",
        "pcadf[\"predicted_cluster\"] = pipe[\"clusterer\"][\"kmeans\"].labels_\n",
        "pcadf[\"true_label\"] = label_encoder.inverse_transform(true_labels)\n",
        "\n",
        "plt.style.use(\"fivethirtyeight\")\n",
        "plt.figure(figsize=(8, 8))\n",
        "\n",
        "scat = sns.scatterplot(\n",
        "    \"component_1\",\n",
        "    \"component_2\",\n",
        "    s=50,\n",
        "    data=pcadf,\n",
        "    hue=\"predicted_cluster\",\n",
        "    style=\"true_label\",\n",
        "    palette=\"Set2\",\n",
        ")\n",
        "\n",
        "scat.set_title(\n",
        "    \"Clustering results from TCGA Pan-Cancer\\nGene Expression Data\"\n",
        ")\n",
        "plt.legend(bbox_to_anchor=(1.05, 1), loc=2, borderaxespad=0.0)\n",
        "\n",
        "plt.show()"
      ],
      "metadata": {
        "colab": {
          "base_uri": "https://localhost:8080/",
          "height": 263
        },
        "id": "yP3c9677UmQ_",
        "outputId": "01043288-24f2-4714-beaa-1fabe09b2fbe"
      },
      "execution_count": 23,
      "outputs": [
        {
          "output_type": "error",
          "ename": "TypeError",
          "evalue": "scatterplot() got multiple values for argument 'data'",
          "traceback": [
            "\u001b[0;31m---------------------------------------------------------------------------\u001b[0m",
            "\u001b[0;31mTypeError\u001b[0m                                 Traceback (most recent call last)",
            "\u001b[0;32m<ipython-input-23-86d9892b4713>\u001b[0m in \u001b[0;36m<cell line: 12>\u001b[0;34m()\u001b[0m\n\u001b[1;32m     10\u001b[0m \u001b[0mplt\u001b[0m\u001b[0;34m.\u001b[0m\u001b[0mfigure\u001b[0m\u001b[0;34m(\u001b[0m\u001b[0mfigsize\u001b[0m\u001b[0;34m=\u001b[0m\u001b[0;34m(\u001b[0m\u001b[0;36m8\u001b[0m\u001b[0;34m,\u001b[0m \u001b[0;36m8\u001b[0m\u001b[0;34m)\u001b[0m\u001b[0;34m)\u001b[0m\u001b[0;34m\u001b[0m\u001b[0;34m\u001b[0m\u001b[0m\n\u001b[1;32m     11\u001b[0m \u001b[0;34m\u001b[0m\u001b[0m\n\u001b[0;32m---> 12\u001b[0;31m scat = sns.scatterplot(\n\u001b[0m\u001b[1;32m     13\u001b[0m     \u001b[0;34m\"component_1\"\u001b[0m\u001b[0;34m,\u001b[0m\u001b[0;34m\u001b[0m\u001b[0;34m\u001b[0m\u001b[0m\n\u001b[1;32m     14\u001b[0m     \u001b[0;34m\"component_2\"\u001b[0m\u001b[0;34m,\u001b[0m\u001b[0;34m\u001b[0m\u001b[0;34m\u001b[0m\u001b[0m\n",
            "\u001b[0;31mTypeError\u001b[0m: scatterplot() got multiple values for argument 'data'"
          ]
        },
        {
          "output_type": "display_data",
          "data": {
            "text/plain": [
              "<Figure size 800x800 with 0 Axes>"
            ]
          },
          "metadata": {}
        }
      ]
    },
    {
      "cell_type": "code",
      "source": [
        "# Empty lists to hold evaluation metrics\n",
        "silhouette_scores = []\n",
        "ari_scores = []\n",
        "for n in range(2, 11):\n",
        "    # This set the number of components for pca,\n",
        "    # but leaves other steps unchanged\n",
        "    pipe[\"preprocessor\"][\"pca\"].n_components = n\n",
        "    pipe.fit(data)\n",
        "\n",
        "    silhouette_coef = silhouette_score(\n",
        "        pipe[\"preprocessor\"].transform(data),\n",
        "        pipe[\"clusterer\"][\"kmeans\"].labels_,\n",
        "    )\n",
        "    ari = adjusted_rand_score(\n",
        "        true_labels,\n",
        "        pipe[\"clusterer\"][\"kmeans\"].labels_,\n",
        "    )\n",
        "\n",
        "    # Add metrics to their lists\n",
        "    silhouette_scores.append(silhouette_coef)\n",
        "    ari_scores.append(ari)"
      ],
      "metadata": {
        "id": "NpGIJxpkVDPc"
      },
      "execution_count": 24,
      "outputs": []
    },
    {
      "cell_type": "code",
      "source": [
        "plt.style.use(\"fivethirtyeight\")\n",
        "plt.figure(figsize=(6, 6))\n",
        "plt.plot(\n",
        "    range(2, 11),\n",
        "    silhouette_scores,\n",
        "    c=\"#008fd5\",\n",
        "    label=\"Silhouette Coefficient\",\n",
        ")\n",
        "plt.plot(range(2, 11), ari_scores, c=\"#fc4f30\", label=\"ARI\")\n",
        "\n",
        "plt.xlabel(\"n_components\")\n",
        "plt.legend()\n",
        "plt.title(\"Clustering Performance as a Function of n_components\")\n",
        "plt.tight_layout()\n",
        "plt.show()"
      ],
      "metadata": {
        "colab": {
          "base_uri": "https://localhost:8080/",
          "height": 477
        },
        "id": "3zMqS7_PVLgy",
        "outputId": "700ec1b9-a17a-48e0-dfda-1a3d5d3bce3a"
      },
      "execution_count": 25,
      "outputs": [
        {
          "output_type": "display_data",
          "data": {
            "text/plain": [
              "<Figure size 600x600 with 1 Axes>"
            ],
            "image/png": "[encoded data removed]"
          },
          "metadata": {}
        }
      ]
    },
    {
      "cell_type": "code",
      "source": [],
      "metadata": {
        "id": "gD8KDva_VPFd"
      },
      "execution_count": null,
      "outputs": []
    }
  ]
}